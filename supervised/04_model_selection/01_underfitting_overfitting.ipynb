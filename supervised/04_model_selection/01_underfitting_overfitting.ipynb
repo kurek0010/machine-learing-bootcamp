{
  "nbformat": 4,
  "nbformat_minor": 0,
  "metadata": {
    "colab": {
      "name": "01_underfitting_overfitting.ipynb",
      "provenance": [],
      "include_colab_link": true
    },
    "kernelspec": {
      "name": "python3",
      "display_name": "Python 3"
    }
  },
  "cells": [
    {
      "cell_type": "markdown",
      "metadata": {
        "id": "view-in-github",
        "colab_type": "text"
      },
      "source": [
        "<a href=\"https://colab.research.google.com/github/kurek0010/machine-learing-bootcamp/blob/main/supervised/04_model_selection/01_underfitting_overfitting.ipynb\" target=\"_parent\"><img src=\"https://colab.research.google.com/assets/colab-badge.svg\" alt=\"Open In Colab\"/></a>"
      ]
    },
    {
      "cell_type": "markdown",
      "metadata": {
        "id": "W9QCGWV6wx7t"
      },
      "source": [
        "### scikit-learn\n",
        "Strona biblioteki: [https://scikit-learn.org](https://scikit-learn.org)  \n",
        "\n",
        "Dokumentacja/User Guide: [https://scikit-learn.org/stable/user_guide.html](https://scikit-learn.org/stable/user_guide.html)\n",
        "\n",
        "Podstawowa biblioteka do uczenia maszynowego w języku Python.\n",
        "\n",
        "Aby zainstalować bibliotekę scikit-learn, użyj polecenia poniżej:\n",
        "```\n",
        "!pip install scikit-learn\n",
        "```\n",
        "Aby zaktualizować do najnowszej wersji bibliotekę scikit-learn, użyj polecenia poniżej:\n",
        "```\n",
        "!pip install --upgrade scikit-learn\n",
        "```\n",
        "Kurs stworzony w oparciu o wersję `0.22.1`\n",
        "\n",
        "### Spis treści:\n",
        "1. [Import bibliotek](#0)\n",
        "2. [Wygenerowanie danych](#1)\n",
        "3. [Wizualizacja danych](#2)\n",
        "4. [Podział na zbiór treningowy i testowy](#3)\n",
        "5. [Wizualizacja zbioru treningowego i testowego](#4)\n",
        "6. [Niedouczenie - Regresja Logistyczna](#5)\n",
        "7. [Niedouczenie - Drzewa Decyzyjne](#6)\n",
        "8. [Przykład przeuczenia](#7)\n"
      ]
    },
    {
      "cell_type": "markdown",
      "metadata": {
        "id": "qBbLcw2DuDWh"
      },
      "source": [
        "### <a name='0'></a> Import bibliotek"
      ]
    },
    {
      "cell_type": "code",
      "metadata": {
        "id": "N9kHmWCHyCYT"
      },
      "source": [
        "import numpy as np\n",
        "import pandas as pd\n",
        "import matplotlib.pyplot as plt\n",
        "import seaborn as sns\n",
        "from sklearn.datasets import make_moons\n",
        "import plotly.express as px\n",
        "\n",
        "np.random.seed(42)\n",
        "sns.set(font_scale=1.3)"
      ],
      "execution_count": null,
      "outputs": []
    },
    {
      "cell_type": "markdown",
      "metadata": {
        "id": "o5MGjxmoBWfd"
      },
      "source": [
        "### <a name='1'></a> Wygenerowanie danych"
      ]
    },
    {
      "cell_type": "code",
      "metadata": {
        "id": "7SaDcMANwdm5"
      },
      "source": [
        "# n_samples=700\n",
        "raw_data = make_moons(n_samples=2000, noise=0.25, random_state=42)\n",
        "data = raw_data[0]\n",
        "target = raw_data[1]\n",
        "\n",
        "print(f'{data[:5]}\\n')\n",
        "print(f'{target[:5]}')"
      ],
      "execution_count": null,
      "outputs": []
    },
    {
      "cell_type": "code",
      "metadata": {
        "id": "ZQ-JV16j2dKC"
      },
      "source": [
        "df = pd.DataFrame(data=np.c_[data, target], columns=['x1', 'x2', 'target'])\n",
        "df.head()"
      ],
      "execution_count": null,
      "outputs": []
    },
    {
      "cell_type": "markdown",
      "metadata": {
        "id": "aE7H8lzhBjDw"
      },
      "source": [
        "### <a name='2'></a> Wizualizacja danych"
      ]
    },
    {
      "cell_type": "code",
      "metadata": {
        "id": "iGs2P1pjwi-f"
      },
      "source": [
        "plt.figure(figsize=(10, 8))\n",
        "plt.scatter(data[:, 0], data[:, 1], c=target, cmap='viridis')\n",
        "plt.title('Klasyfikacja - dane do modelu')\n",
        "plt.show()"
      ],
      "execution_count": null,
      "outputs": []
    },
    {
      "cell_type": "markdown",
      "metadata": {
        "id": "uvsbZt42w2yv"
      },
      "source": [
        "### <a name='3'></a> Podział na zbiór treningowy i testowy"
      ]
    },
    {
      "cell_type": "code",
      "metadata": {
        "id": "TjtS29zCw-da"
      },
      "source": [
        "from sklearn.model_selection import train_test_split\n",
        "\n",
        "X_train, X_test, y_train, y_test = train_test_split(data, target, test_size=0.3)\n",
        "\n",
        "print(f'X_train shape: {X_train.shape}')\n",
        "print(f'X_test shape: {X_test.shape}')\n",
        "print(f'y_train shape: {y_train.shape}')\n",
        "print(f'y_test shape: {y_test.shape}')"
      ],
      "execution_count": null,
      "outputs": []
    },
    {
      "cell_type": "markdown",
      "metadata": {
        "id": "9DXn74mEBxWE"
      },
      "source": [
        "### <a name='4'></a> Wizualizacja zbioru treningowego i testowego"
      ]
    },
    {
      "cell_type": "code",
      "metadata": {
        "id": "43EWlrf1ztNK"
      },
      "source": [
        "plt.figure(figsize=(10, 8))\n",
        "plt.scatter(X_train[:, 0], X_train[:, 1], c=y_train, cmap='RdYlBu', label = 'training_set')\n",
        "plt.scatter(X_test[:, 0], X_test[:, 1], c=y_test, cmap='RdYlBu', marker='x', alpha=0.5, label='test_set')\n",
        "plt.title('Zbiór treningowy i testowy')\n",
        "plt.legend()\n",
        "plt.show()"
      ],
      "execution_count": null,
      "outputs": []
    },
    {
      "cell_type": "markdown",
      "metadata": {
        "id": "aseTTymyw1BB"
      },
      "source": [
        "### <a name='5'></a> Niedouczenie - Regresja Logistyczna"
      ]
    },
    {
      "cell_type": "code",
      "metadata": {
        "id": "t7GD9hb7wtTt"
      },
      "source": [
        "from sklearn.linear_model import LogisticRegression\n",
        "\n",
        "classifier = LogisticRegression()\n",
        "classifier.fit(X_train, y_train)"
      ],
      "execution_count": null,
      "outputs": []
    },
    {
      "cell_type": "markdown",
      "metadata": {
        "id": "qVUiFs4zwLpx"
      },
      "source": [
        "Zbiór treningowy"
      ]
    },
    {
      "cell_type": "code",
      "metadata": {
        "id": "77McCKOvuxmJ"
      },
      "source": [
        "from mlxtend.plotting import plot_decision_regions\n",
        "\n",
        "plt.figure(figsize=(10, 8))\n",
        "plot_decision_regions(X_train, y_train, classifier)\n",
        "plt.title(f'Zbiór treningowy: dokładność {classifier.score(X_train, y_train):.4f}')\n",
        "plt.show()"
      ],
      "execution_count": null,
      "outputs": []
    },
    {
      "cell_type": "markdown",
      "metadata": {
        "id": "HfDKVvo7zMyK"
      },
      "source": [
        "Zbiór testowy"
      ]
    },
    {
      "cell_type": "code",
      "metadata": {
        "id": "IiZWGSEKzROU"
      },
      "source": [
        "plt.figure(figsize=(10, 8))\n",
        "plot_decision_regions(X_test, y_test, classifier)\n",
        "plt.title(f'Zbiór testowy: dokładność {classifier.score(X_test, y_test):.4f}')\n",
        "plt.show()"
      ],
      "execution_count": null,
      "outputs": []
    },
    {
      "cell_type": "markdown",
      "metadata": {
        "id": "9kTkiPSqyuve"
      },
      "source": [
        "### <a name='6'></a> Niedouczenie - Drzewa Decyzyjne"
      ]
    },
    {
      "cell_type": "code",
      "metadata": {
        "id": "IAllCcf4yCZ6"
      },
      "source": [
        "from sklearn.tree import DecisionTreeClassifier\n",
        "\n",
        "classifier = DecisionTreeClassifier(max_depth=1)\n",
        "classifier.fit(X_train, y_train)\n",
        "\n",
        "plt.figure(figsize=(10, 8))\n",
        "plot_decision_regions(X_train, y_train, classifier)\n",
        "plt.title(f'Zbiór treningowy: dokładność {classifier.score(X_train, y_train):.4f}')\n",
        "plt.show()"
      ],
      "execution_count": null,
      "outputs": []
    },
    {
      "cell_type": "code",
      "metadata": {
        "id": "wrwmuIf8yX9a"
      },
      "source": [
        "plt.figure(figsize=(10, 8))\n",
        "plot_decision_regions(X_test, y_test, classifier)\n",
        "plt.title(f'Zbiór testowy: dokładność {classifier.score(X_test, y_test):.4f}')\n",
        "plt.show()"
      ],
      "execution_count": null,
      "outputs": []
    },
    {
      "cell_type": "markdown",
      "metadata": {
        "id": "icE54f9dC5q7"
      },
      "source": [
        "### <a name='7'></a> Przykład przeuczenia"
      ]
    },
    {
      "cell_type": "code",
      "metadata": {
        "id": "GIB0K_mhyqdW"
      },
      "source": [
        "classifier = DecisionTreeClassifier()\n",
        "classifier.fit(X_train, y_train)\n",
        "\n",
        "plt.figure(figsize=(10, 8))\n",
        "plot_decision_regions(X_train, y_train, classifier)\n",
        "plt.title(f'Zbiór treningowy: dokładność {classifier.score(X_train, y_train):.4f}')\n",
        "plt.show()"
      ],
      "execution_count": null,
      "outputs": []
    },
    {
      "cell_type": "code",
      "metadata": {
        "id": "0yBcK9izzA6B"
      },
      "source": [
        "plt.figure(figsize=(10, 8))\n",
        "plot_decision_regions(X_test, y_test, classifier)\n",
        "plt.title(f'Zbiór testowy: dokładność {classifier.score(X_test, y_test):.4f}')\n",
        "plt.show()"
      ],
      "execution_count": null,
      "outputs": []
    },
    {
      "cell_type": "code",
      "metadata": {
        "id": "D-gutCvEwcjU"
      },
      "source": [],
      "execution_count": null,
      "outputs": []
    }
  ]
}