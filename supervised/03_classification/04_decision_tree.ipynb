{
  "nbformat": 4,
  "nbformat_minor": 0,
  "metadata": {
    "colab": {
      "name": "04_decision_tree.ipynb",
      "provenance": [],
      "include_colab_link": true
    },
    "kernelspec": {
      "name": "python3",
      "display_name": "Python 3"
    }
  },
  "cells": [
    {
      "cell_type": "markdown",
      "metadata": {
        "id": "view-in-github",
        "colab_type": "text"
      },
      "source": [
        "<a href=\"https://colab.research.google.com/github/kurek0010/machine-learing-bootcamp/blob/main/supervised/03_classification/04_decision_tree.ipynb\" target=\"_parent\"><img src=\"https://colab.research.google.com/assets/colab-badge.svg\" alt=\"Open In Colab\"/></a>"
      ]
    },
    {
      "cell_type": "markdown",
      "metadata": {
        "id": "_vIvYGcTjZAr"
      },
      "source": [
        "### scikit-learn\n",
        "Strona biblioteki: [https://scikit-learn.org](https://scikit-learn.org)  \n",
        "\n",
        "Dokumentacja/User Guide: [https://scikit-learn.org/stable/user_guide.html](https://scikit-learn.org/stable/user_guide.html)\n",
        "\n",
        "Podstawowa biblioteka do uczenia maszynowego w języku Python.\n",
        "\n",
        "Aby zainstalować bibliotekę scikit-learn, użyj polecenia poniżej:\n",
        "```\n",
        "!pip install scikit-learn\n",
        "```\n",
        "Aby zaktualizować do najnowszej wersji bibliotekę scikit-learn, użyj polecenia poniżej:\n",
        "```\n",
        "!pip install --upgrade scikit-learn\n",
        "```\n",
        "Kurs stworzony w oparciu o wersję `0.22.1`\n",
        "\n",
        "\n",
        "### Spis treści:\n",
        "1. [Import bibliotek](#1)\n",
        "2. [Załadowanie danych](#2)\n",
        "3. [Eksploracja danych](#3)\n",
        "4. [Przygotowanie danych do modelu](#4)\n",
        "5. [Budowa klasyfikatora drzewa decyzyjnego](#5)\n",
        "6. [Graf drzewa decyzyjnego](#6)\n",
        "7. [Budowa funkcji dla modelu drzewa decyzyjnego](#7)"
      ]
    },
    {
      "cell_type": "markdown",
      "metadata": {
        "id": "kMsDHWyz2ITv"
      },
      "source": [
        "### <a name='1'></a> Import bibliotek"
      ]
    },
    {
      "cell_type": "code",
      "metadata": {
        "id": "siCymeHky2ei"
      },
      "source": [
        "import numpy as np\n",
        "import pandas as pd\n",
        "import matplotlib.pyplot as plt\n",
        "import seaborn as sns\n",
        "from sklearn.datasets import load_iris\n",
        "from IPython.display import Image\n",
        "\n",
        "sns.set(font_scale=1.3)\n",
        "np.random.seed(42)"
      ],
      "execution_count": null,
      "outputs": []
    },
    {
      "cell_type": "markdown",
      "metadata": {
        "id": "G_2mS9aARoi9"
      },
      "source": [
        "### <a name='2'></a> Załadowanie danych"
      ]
    },
    {
      "cell_type": "code",
      "metadata": {
        "id": "xA7yhL3zy-TD"
      },
      "source": [
        "raw_data = load_iris()\n",
        "all_data = raw_data.copy()\n",
        "\n",
        "data = all_data['data']\n",
        "target = all_data['target']\n",
        "feature_names = [name.replace(' ', '_')[:-5] for name in all_data['feature_names']]\n",
        "target_names = all_data['target_names']\n",
        "\n",
        "print(f'Liczba próbek: {len(data)}')\n",
        "print(f'Kształt danych: {data.shape}')\n",
        "print(f'Nazwy zmiennych objaśniających: {feature_names}')\n",
        "print(f'Nazwy kategorii kosaćca: {target_names}')"
      ],
      "execution_count": null,
      "outputs": []
    },
    {
      "cell_type": "markdown",
      "metadata": {
        "id": "JavoskSTVKud"
      },
      "source": [
        "### <a name='3'></a> Eksploracja danych\n",
        "Iris Setosa"
      ]
    },
    {
      "cell_type": "code",
      "metadata": {
        "id": "9bGbWWerT1iR"
      },
      "source": [
        "Image(url='https://ml-repository-krakers.s3-eu-west-1.amazonaws.com/decision_tree_course/graphs/Iris_setosa.jpg', width=200)"
      ],
      "execution_count": null,
      "outputs": []
    },
    {
      "cell_type": "markdown",
      "metadata": {
        "id": "22lTB-omVMzX"
      },
      "source": [
        "Iris Versicolor"
      ]
    },
    {
      "cell_type": "code",
      "metadata": {
        "id": "yeJ1Z4fWUbxk"
      },
      "source": [
        "Image(url='https://ml-repository-krakers.s3-eu-west-1.amazonaws.com/decision_tree_course/graphs/Iris_versicolor.jpg', width=200)"
      ],
      "execution_count": null,
      "outputs": []
    },
    {
      "cell_type": "markdown",
      "metadata": {
        "id": "JV-OcknNVP-Y"
      },
      "source": [
        "Iris Virginica"
      ]
    },
    {
      "cell_type": "code",
      "metadata": {
        "id": "LXO9uInVU-gM"
      },
      "source": [
        "Image(url='https://ml-repository-krakers.s3-eu-west-1.amazonaws.com/decision_tree_course/graphs/Iris_virginica.jpg', width=200)"
      ],
      "execution_count": null,
      "outputs": []
    },
    {
      "cell_type": "code",
      "metadata": {
        "id": "3TYeBqW5R676"
      },
      "source": [
        "df = pd.DataFrame(data=np.c_[data, target], columns=feature_names + ['target'])\n",
        "df.head()"
      ],
      "execution_count": null,
      "outputs": []
    },
    {
      "source": [
        "plt.figure(figsize=(8, 6))\n",
        "_ = sns.scatterplot(x='sepal_length', y='sepal_width', hue='target', data=df, legend='full', palette=sns.color_palette()[:3])"
      ],
      "cell_type": "code",
      "metadata": {
        "id": "XqK2qi1gyv-1"
      },
      "execution_count": null,
      "outputs": []
    },
    {
      "cell_type": "code",
      "metadata": {
        "id": "Ez71AICPXxFy"
      },
      "source": [
        "df['target'].value_counts()"
      ],
      "execution_count": null,
      "outputs": []
    },
    {
      "cell_type": "markdown",
      "metadata": {
        "id": "fdEXFo_oa8Rs"
      },
      "source": [
        "### <a name='4'></a> Przygotowanie danych do modelu"
      ]
    },
    {
      "cell_type": "code",
      "metadata": {
        "id": "68Yf0ta-a_u0"
      },
      "source": [
        "data = df.copy()\n",
        "data = data[['sepal_length', 'sepal_width', 'target']]\n",
        "target = data.pop('target')\n",
        "\n",
        "data.head()"
      ],
      "execution_count": null,
      "outputs": []
    },
    {
      "cell_type": "code",
      "metadata": {
        "id": "cfTSZ_NFbLVO"
      },
      "source": [
        "target.head()"
      ],
      "execution_count": null,
      "outputs": []
    },
    {
      "cell_type": "code",
      "metadata": {
        "id": "6V0j0mNsbSNM"
      },
      "source": [
        "data = data.values\n",
        "target = target.values.astype('int16')"
      ],
      "execution_count": null,
      "outputs": []
    },
    {
      "cell_type": "markdown",
      "metadata": {
        "id": "wB1nxTZh2PKX"
      },
      "source": [
        "### <a name='5'></a> Budowa klasyfikatora drzewa decyzyjnego\n",
        "- max_depth=1\n"
      ]
    },
    {
      "cell_type": "code",
      "metadata": {
        "id": "YhWDIgQkzK0t"
      },
      "source": [
        "from sklearn.tree import DecisionTreeClassifier\n",
        "\n",
        "classifier = DecisionTreeClassifier(max_depth=1, random_state=42)\n",
        "classifier.fit(data, target)"
      ],
      "execution_count": null,
      "outputs": []
    },
    {
      "cell_type": "markdown",
      "metadata": {
        "id": "WD7laHw82aJ9"
      },
      "source": [
        "Wykreślenie granic decyzyjnych"
      ]
    },
    {
      "cell_type": "code",
      "metadata": {
        "id": "u2WNkLHg012H"
      },
      "source": [
        "from mlxtend.plotting import plot_decision_regions\n",
        "\n",
        "colors='#f1865b,#31c30f,#64647F,#d62728,#9467bd,#8c564b,#e377c2,#7f7f7f,#bcbd22,#17becf'\n",
        "\n",
        "acc = classifier.score(data, target)\n",
        "\n",
        "plt.figure(figsize=(8, 6))\n",
        "plot_decision_regions(data, target, classifier, legend=2, colors=colors)\n",
        "plt.xlabel('sepal length (cm)')\n",
        "plt.ylabel('sepal width (cm)')\n",
        "plt.title(f'Drzewo decyzyjne: max_depth=1, accuracy: {acc * 100:.2f}%')\n",
        "plt.show()"
      ],
      "execution_count": null,
      "outputs": []
    },
    {
      "cell_type": "markdown",
      "metadata": {
        "id": "n7THqtLf2WUG"
      },
      "source": [
        "### <a name='6'></a>  Graf drzewa decyzyjnego\n",
        "- max_depth = 1"
      ]
    },
    {
      "cell_type": "markdown",
      "metadata": {
        "id": "_q8eq7T2P4r2"
      },
      "source": [
        "Wyświetlenie grafu drzewa decyzyjnego"
      ]
    },
    {
      "cell_type": "code",
      "metadata": {
        "id": "-JYD9g7fPJtG"
      },
      "source": [
        "from io import StringIO\n",
        "from sklearn.tree import export_graphviz\n",
        "import pydotplus\n",
        "\n",
        "dot_data = StringIO()\n",
        "export_graphviz(classifier,\n",
        "               out_file=dot_data,\n",
        "               feature_names=feature_names[:2],\n",
        "               class_names=target_names,\n",
        "               special_characters=True,\n",
        "               rounded=True,\n",
        "               filled=True)\n",
        "graph = pydotplus.graph_from_dot_data(dot_data.getvalue())\n",
        "graph.write_png('graph.png')\n",
        "Image(graph.create_png(), width=300)"
      ],
      "execution_count": null,
      "outputs": []
    },
    {
      "cell_type": "markdown",
      "metadata": {
        "id": "hkMdUjGm2shX"
      },
      "source": [
        "### <a name='7'></a> Budowa funkcji dla modelu drzewa decyzyjnego"
      ]
    },
    {
      "cell_type": "code",
      "metadata": {
        "id": "VCsapKd12sJ4"
      },
      "source": [
        "def make_decision_tree(max_depth=1):\n",
        "    # trenowanie modelu\n",
        "    classifier = DecisionTreeClassifier(max_depth=max_depth, random_state=42)\n",
        "    classifier.fit(data, target)\n",
        "\n",
        "    # eksport grafu drzewa\n",
        "    dot_data = StringIO()\n",
        "    export_graphviz(classifier,\n",
        "                   out_file=dot_data,\n",
        "                   feature_names=feature_names[:2],\n",
        "                   class_names=target_names,\n",
        "                   special_characters=True,\n",
        "                   rounded=True,\n",
        "                   filled=True)\n",
        "    graph = pydotplus.graph_from_dot_data(dot_data.getvalue())\n",
        "    graph.write_png('graph.png')\n",
        "\n",
        "    # obliczenie dokładności\n",
        "    acc = classifier.score(data, target)\n",
        "\n",
        "    # wykreślenie granic decyzyjnych\n",
        "    colors='#f1865b,#31c30f,#64647F,#d62728,#9467bd,#8c564b,#e377c2,#7f7f7f,#bcbd22,#17becf'\n",
        "    plt.figure(figsize=(8, 6))\n",
        "    ax = plot_decision_regions(data, target, classifier, legend=0, colors=colors)\n",
        "    handles, labels = ax.get_legend_handles_labels()\n",
        "    ax.legend(handles, ['setosa', 'versicolor', 'virginica'], framealpha=0.3)\n",
        "    plt.xlabel('sepal length (cm)')\n",
        "    plt.ylabel('sepal width (cm)')\n",
        "    plt.title(f'Drzewo decyzyjne: max_depth={max_depth}, accuracy={acc * 100:.2f}')\n",
        "\n",
        "    return Image(graph.create_png(), width=200 + max_depth * 120)"
      ],
      "execution_count": null,
      "outputs": []
    },
    {
      "cell_type": "markdown",
      "metadata": {
        "id": "YXvfv9xe2lpM"
      },
      "source": [
        "\n",
        "- max_depth=2\n"
      ]
    },
    {
      "cell_type": "code",
      "metadata": {
        "id": "IYFDJagr07zw"
      },
      "source": [
        "make_decision_tree(max_depth=2)"
      ],
      "execution_count": null,
      "outputs": []
    },
    {
      "cell_type": "markdown",
      "metadata": {
        "id": "79MkZ5fB3IK7"
      },
      "source": [
        "- max_depth=3"
      ]
    },
    {
      "cell_type": "code",
      "metadata": {
        "id": "yBSiCMeF3EKU"
      },
      "source": [
        "make_decision_tree(max_depth=3)"
      ],
      "execution_count": null,
      "outputs": []
    },
    {
      "cell_type": "markdown",
      "metadata": {
        "id": "a8rSoGcnAYLt"
      },
      "source": [
        "- max_depth=4"
      ]
    },
    {
      "cell_type": "code",
      "metadata": {
        "id": "aAmGZKUp7jWv"
      },
      "source": [
        "make_decision_tree(max_depth=4)"
      ],
      "execution_count": null,
      "outputs": []
    },
    {
      "cell_type": "markdown",
      "metadata": {
        "id": "smZD72NwAwqz"
      },
      "source": [
        "- max_depth=5"
      ]
    },
    {
      "cell_type": "code",
      "metadata": {
        "id": "e5QFanAuAVTa"
      },
      "source": [
        "make_decision_tree(max_depth=5)"
      ],
      "execution_count": null,
      "outputs": []
    },
    {
      "cell_type": "code",
      "metadata": {
        "id": "mN7EicoH9dE3"
      },
      "source": [
        "make_decision_tree(max_depth=15)"
      ],
      "execution_count": null,
      "outputs": []
    },
    {
      "cell_type": "code",
      "metadata": {
        "id": "FPPYStL6BCDz"
      },
      "source": [],
      "execution_count": null,
      "outputs": []
    }
  ]
}