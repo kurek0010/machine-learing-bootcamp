{
  "nbformat": 4,
  "nbformat_minor": 0,
  "metadata": {
    "colab": {
      "name": "03_gini_entropy.ipynb",
      "provenance": [],
      "include_colab_link": true
    },
    "kernelspec": {
      "name": "python3",
      "display_name": "Python 3"
    }
  },
  "cells": [
    {
      "cell_type": "markdown",
      "metadata": {
        "id": "view-in-github",
        "colab_type": "text"
      },
      "source": [
        "<a href=\"https://colab.research.google.com/github/kurek0010/machine-learing-bootcamp/blob/main/supervised/03_classification/03_gini_entropy.ipynb\" target=\"_parent\"><img src=\"https://colab.research.google.com/assets/colab-badge.svg\" alt=\"Open In Colab\"/></a>"
      ]
    },
    {
      "cell_type": "markdown",
      "metadata": {
        "id": "_vIvYGcTjZAr"
      },
      "source": [
        "### scikit-learn\n",
        "Strona biblioteki: [https://scikit-learn.org](https://scikit-learn.org)  \n",
        "\n",
        "Dokumentacja/User Guide: [https://scikit-learn.org/stable/user_guide.html](https://scikit-learn.org/stable/user_guide.html)\n",
        "\n",
        "Podstawowa biblioteka do uczenia maszynowego w języku Python.\n",
        "\n",
        "Aby zainstalować bibliotekę scikit-learn, użyj polecenia poniżej:\n",
        "```\n",
        "!pip install scikit-learn\n",
        "```\n",
        "Aby zaktualizować do najnowszej wersji bibliotekę scikit-learn, użyj polecenia poniżej:\n",
        "```\n",
        "!pip install --upgrade scikit-learn\n",
        "```\n",
        "Kurs stworzony w oparciu o wersję `0.22.1`\n",
        "\n",
        "### Spis treści:\n",
        "1. [Import bibliotek](#1)\n",
        "2. [Wskaźnik Giniego](#2)\n",
        "3. [Entropia](#3)\n",
        "4. [Zysk informacyjny](#4)"
      ]
    },
    {
      "cell_type": "markdown",
      "metadata": {
        "id": "kMsDHWyz2ITv"
      },
      "source": [
        "### <a name='1'></a> Import bibliotek"
      ]
    },
    {
      "cell_type": "code",
      "metadata": {
        "id": "siCymeHky2ei"
      },
      "source": [
        "import numpy as np\n",
        "import pandas as pd\n",
        "import matplotlib.pyplot as plt\n",
        "import seaborn as sns\n",
        "from IPython.display import Image\n",
        "\n",
        "sns.set(font_scale=1.3)\n",
        "np.random.seed(42)"
      ],
      "execution_count": null,
      "outputs": []
    },
    {
      "cell_type": "markdown",
      "metadata": {
        "id": "voDColjGZtCI"
      },
      "source": [
        "### <a name='2'></a>  Wskaźnik Giniego\n",
        "Miara zanieczyszczenia\n",
        "- węzeł jest czysty (wszystkie próbki w węźle należą do tej samej klasy), gdy Gini = 0\n",
        "\n",
        "$$G_i = 1 - \\sum_{k=1}^{n}p_{i,k}^{2}$$\n",
        "\n",
        "$p_{i, k}$ - współczynnik występowania klas k wśród próbek uczących w $i$-tym węźle"
      ]
    },
    {
      "cell_type": "code",
      "metadata": {
        "id": "G5IdIX6eGy8Q"
      },
      "source": [
        "Image('https://storage.googleapis.com/esmartdata-courses-files/ml-course/Picture1.png')"
      ],
      "execution_count": null,
      "outputs": []
    },
    {
      "cell_type": "markdown",
      "metadata": {
        "id": "iMoOr74IZx5_"
      },
      "source": [
        "Gini dla korzenia (root) - poziom 0"
      ]
    },
    {
      "cell_type": "code",
      "metadata": {
        "id": "fRnnk5MLR0T0"
      },
      "source": [
        "1 - (50 / 150)**2 - (50 / 150)**2 - (50 / 150)**2"
      ],
      "execution_count": null,
      "outputs": []
    },
    {
      "cell_type": "markdown",
      "metadata": {
        "id": "Vxb5TKckZ1s7"
      },
      "source": [
        "Poziom 1, węzeł lewy"
      ]
    },
    {
      "cell_type": "code",
      "metadata": {
        "id": "k0LD12u6ZzuK"
      },
      "source": [
        "1 - (45 / 52)**2 - (6 / 52)**2 - (1 / 52)**2"
      ],
      "execution_count": null,
      "outputs": []
    },
    {
      "cell_type": "markdown",
      "metadata": {
        "id": "pKBLXdJlZ4mS"
      },
      "source": [
        "Poziom 1, węzeł prawy"
      ]
    },
    {
      "cell_type": "code",
      "metadata": {
        "id": "cnpHPWfqZ5DF"
      },
      "source": [
        "1 - (5 / 98)**2 - (44 / 98)**2 - (49 / 98)**2"
      ],
      "execution_count": null,
      "outputs": []
    },
    {
      "cell_type": "markdown",
      "metadata": {
        "id": "p3qr1lChaE5o"
      },
      "source": [
        "### <a name='3'></a> Entropia\n",
        "\n",
        "## $$Entropia  = -\\sum_{k=1}^{n}p_{i} \\cdot log_{2}(p_{i})$$"
      ]
    },
    {
      "cell_type": "code",
      "metadata": {
        "id": "9YmoiSSwG-KE"
      },
      "source": [
        "Image('https://storage.googleapis.com/esmartdata-courses-files/ml-course/Picture2.png')"
      ],
      "execution_count": null,
      "outputs": []
    },
    {
      "cell_type": "markdown",
      "metadata": {
        "id": "ik92lRVKHhh6"
      },
      "source": [
        "Entropia dla korzenia (root) - poziom 0"
      ]
    },
    {
      "cell_type": "code",
      "metadata": {
        "id": "7W4WMIVxaFRY"
      },
      "source": [
        "-((50 / 150) * np.log2(50 / 150) + (50 / 150) * np.log2(50 / 150) + (50 / 150) * np.log2(50 / 150))"
      ],
      "execution_count": null,
      "outputs": []
    },
    {
      "cell_type": "markdown",
      "metadata": {
        "id": "Q57bpY7cHnyg"
      },
      "source": [
        "Poziom 1, węzeł lewy"
      ]
    },
    {
      "cell_type": "code",
      "metadata": {
        "id": "rfeRLiLeaK6Q"
      },
      "source": [
        "-((47 / 59) * np.log2(47 / 59) + (11 / 59) * np.log2(11 / 59) + (1 / 59) * np.log2(1 / 59))"
      ],
      "execution_count": null,
      "outputs": []
    },
    {
      "cell_type": "markdown",
      "metadata": {
        "id": "x3lX6DAMH3dT"
      },
      "source": [
        "Poziom 1, węzeł prawy"
      ]
    },
    {
      "cell_type": "code",
      "metadata": {
        "id": "hv-G_KWBH5Hj"
      },
      "source": [
        "-((3 / 91) * np.log2(3 / 91) + (39 / 91) * np.log2(39 / 91) + (49 / 91) * np.log2(49/ 91))"
      ],
      "execution_count": null,
      "outputs": []
    },
    {
      "cell_type": "code",
      "metadata": {
        "id": "wKN1iNJEal7V"
      },
      "source": [
        "from scipy.stats import entropy\n",
        "\n",
        "print(entropy([0.5, 0.5], base=2))\n",
        "print(entropy([0.8, 0.2], base=2))\n",
        "print(entropy([0.95, 0.05], base=2))"
      ],
      "execution_count": null,
      "outputs": []
    },
    {
      "cell_type": "code",
      "metadata": {
        "id": "bwT_GVI5afp8"
      },
      "source": [
        "def entropy(x):\n",
        "    return -np.sum(x * np.log2(x))\n",
        "\n",
        "print(entropy([0.5, 0.5]))\n",
        "print(entropy([0.8, 0.2]))\n",
        "print(entropy([0.95, 0.05]))"
      ],
      "execution_count": null,
      "outputs": []
    },
    {
      "cell_type": "code",
      "metadata": {
        "id": "aM5Ias_MbjF0"
      },
      "source": [
        "p = np.arange(0.01, 1.0, 0.01)\n",
        "q = 1 - p\n",
        "pq = np.c_[p,q]\n",
        "pq[:10]"
      ],
      "execution_count": null,
      "outputs": []
    },
    {
      "cell_type": "code",
      "metadata": {
        "id": "xbjPx6Iibjec"
      },
      "source": [
        "entropies = [entropy(pair) for pair in pq]\n",
        "entropies[:10]"
      ],
      "execution_count": null,
      "outputs": []
    },
    {
      "cell_type": "code",
      "metadata": {
        "id": "MbirR8HkbliS"
      },
      "source": [
        "plt.plot(p, entropies)"
      ],
      "execution_count": null,
      "outputs": []
    },
    {
      "cell_type": "markdown",
      "metadata": {
        "id": "W8pC-eK_bsrp"
      },
      "source": [
        "### Rozważmy dane\n",
        "\n",
        "| ID | Dochód | Liczba osób w gospodarstwie | Wiarygodność | Udzielenie pożyczki |\n",
        "|----|--------|-----------------------------|--------------|---------------------|\n",
        "| 1  | niski  | 1                           | niska        | 0                   |\n",
        "| 2  | niski  | 3                           | niska        | 0                   |\n",
        "| 3  | średni | 4                           | niska        | 0                   |\n",
        "| 4  | wysoki | 3                           | średnia      | 0                   |\n",
        "| 5  | wysoki | 4                           | wysoka       | 1                   |\n",
        "| 6  | niski  | 4                           | niska        | 0                   |\n",
        "| 7  | średni | 2                           | średnia      | 1                   |\n",
        "| 8  | wysoki | 3                           | wysoka       | 1                   |\n",
        "| 9  | średni | 5                           | niska        | 0                   |\n",
        "| 10 | średni | 1                           | wysoka       | 1                   |\n",
        "\n",
        "\n",
        "Rozkład zmiennej Udzienie pożyczki:\n",
        "\n",
        "| Udzielenie pożyczki | 0    | 1    |\n",
        "|---------------------|------|------|\n",
        "| $p_{i}$               | 6/10 | 4/10 |\n",
        "\n",
        "\n",
        "Wzór na entropię:\n",
        "###  $E = - \\sum_{i=1}^{n}p_{i} \\cdot log_{2}p_{i}$\n",
        "\n",
        "Entropia po podziale:\n",
        "\n",
        "###  $E_{after}  = \\sum_{i=1}^{m} \\frac{S_{i}}{S}Entropia(S_{i})$\n",
        "\n",
        "gdzie\n",
        "$S$ - podział\n",
        "$m$ - liczba podziałów\n",
        "\n"
      ]
    },
    {
      "cell_type": "code",
      "metadata": {
        "id": "73RnhOd2boi2"
      },
      "source": [
        "entropia = -(6/10 * np.log2(6/10) + (4/10) * np.log2(4/10))\n",
        "entropia"
      ],
      "execution_count": null,
      "outputs": []
    },
    {
      "cell_type": "markdown",
      "metadata": {
        "id": "hHuakpAib6U7"
      },
      "source": [
        "### Rozkład zmiennej `Wiarygodność`\n",
        "\n",
        "|         | udział | udzielenie pożyczki = 0 | udzielenie pożyczki = 1 |  Entropia\n",
        "|---------|--------|-------------------------|-------------------------|--------|\n",
        "| niska   | 5/10   | 1                       | 0                       | 0\n",
        "| średnia | 2/10   | 1/2                     | 1/2                     | 1\n",
        "| wysoka  | 3/10   | 0                       | 1                       | 0\n",
        "\n",
        "Entropia po podziale"
      ]
    },
    {
      "cell_type": "code",
      "metadata": {
        "id": "v8__aIvgb4Ja"
      },
      "source": [
        "entropia_wiarygodnosc = 5/10 * 0 + 2/10 * 1 + 3/10 * 0\n",
        "entropia_wiarygodnosc"
      ],
      "execution_count": null,
      "outputs": []
    },
    {
      "cell_type": "markdown",
      "metadata": {
        "id": "KoIGrMp2b-V8"
      },
      "source": [
        "### Rozkład zmiennej  `Dochód`\n",
        "\n",
        "|        | udział | udzielenie pożyczki = 0 | udzielenie pożyczki = 1 | Entropia\n",
        "|--------|--------|-------------------------|-------------------------|----------|\n",
        "| niski  | 3/10   | 1                       | 0                       |0\n",
        "| sredni | 4/10   | 2/4                     | 2/4                     |1\n",
        "| wysoki | 3/10   | 1/3                     | 2/3                     | 0.9183\n",
        "\n",
        "Entropia po podziale"
      ]
    },
    {
      "cell_type": "code",
      "metadata": {
        "id": "tC-Lli7Gb8oU"
      },
      "source": [
        "entropia_dochod = 3/10 * 0 + 4/10 * 1 + 3/10 * 0.9183\n",
        "entropia_dochod"
      ],
      "execution_count": null,
      "outputs": []
    },
    {
      "cell_type": "markdown",
      "metadata": {
        "id": "a_gTV7DoacrO"
      },
      "source": [
        "### <a name='4'></a> Zysk informacyjny\n",
        "\n",
        "\n",
        "$IG (Information\\ Gain) = Entropia\\ przed\\ podziałem - Entropia\\ po\\ podziale$"
      ]
    },
    {
      "cell_type": "code",
      "metadata": {
        "id": "Xp_B58xjcAR1"
      },
      "source": [
        "ig_wiarygodnosc = entropia - entropia_wiarygodnosc\n",
        "ig_dochod = entropia - entropia_dochod\n",
        "\n",
        "print('Zysk informacyjny (IG): wiarygodność:', ig_wiarygodnosc)\n",
        "print('Zysk informacyjny (IG): dochód:', ig_dochod)"
      ],
      "execution_count": null,
      "outputs": []
    },
    {
      "cell_type": "code",
      "metadata": {
        "id": "_LHwxT6k7PjG"
      },
      "source": [],
      "execution_count": null,
      "outputs": []
    }
  ]
}