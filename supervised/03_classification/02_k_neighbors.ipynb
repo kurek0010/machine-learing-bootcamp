{
  "nbformat": 4,
  "nbformat_minor": 0,
  "metadata": {
    "colab": {
      "name": "02_k_neighbors.ipynb",
      "provenance": [],
      "include_colab_link": true
    },
    "kernelspec": {
      "name": "python3",
      "display_name": "Python 3"
    },
    "accelerator": "GPU"
  },
  "cells": [
    {
      "cell_type": "markdown",
      "metadata": {
        "id": "view-in-github",
        "colab_type": "text"
      },
      "source": [
        "<a href=\"https://colab.research.google.com/github/kurek0010/machine-learing-bootcamp/blob/main/supervised/03_classification/02_k_neighbors.ipynb\" target=\"_parent\"><img src=\"https://colab.research.google.com/assets/colab-badge.svg\" alt=\"Open In Colab\"/></a>"
      ]
    },
    {
      "cell_type": "markdown",
      "metadata": {
        "id": "hq0gnK-OSk97"
      },
      "source": [
        "### scikit-learn\n",
        "Strona biblioteki: [https://scikit-learn.org](https://scikit-learn.org)  \n",
        "\n",
        "Dokumentacja/User Guide: [https://scikit-learn.org/stable/user_guide.html](https://scikit-learn.org/stable/user_guide.html)\n",
        "\n",
        "Podstawowa biblioteka do uczenia maszynowego w języku Python.\n",
        "\n",
        "Aby zainstalować bibliotekę scikit-learn, użyj polecenia poniżej:\n",
        "```\n",
        "!pip install scikit-learn\n",
        "```\n",
        "Aby zaktualizować do najnowszej wersji bibliotekę scikit-learn, użyj polecenia poniżej:\n",
        "```\n",
        "!pip install --upgrade scikit-learn\n",
        "```\n",
        "Kurs stworzony w oparciu o wersję `0.22.1`\n",
        "\n",
        "### Spis treści:\n",
        "1. [Import bibliotek](#a1)\n",
        "2. [Wczytanie danych](#2)\n",
        "2. [K-nearest Neighbour Algorithm - Algorytm K-najbliższych sąsiadów](#3)\n",
        "3. [Wykres Rozproszenia](#a3)\n",
        "4. [K-nearest Neighbors Classifier](#a4)\n",
        "5. [Wykres granic decyzyjnych](#a5)"
      ]
    },
    {
      "cell_type": "markdown",
      "metadata": {
        "id": "PW5oENTwYX4C"
      },
      "source": [
        "### <a name='a1'></a> Import bibliotek"
      ]
    },
    {
      "cell_type": "code",
      "metadata": {
        "id": "vBlrJmN2Xtt7"
      },
      "source": [
        "import numpy as np\n",
        "import pandas as pd\n",
        "import matplotlib.pyplot as plt\n",
        "import seaborn as sns\n",
        "import plotly.express as px\n",
        "\n",
        "np.random.seed(42)\n",
        "sns.set(font_scale=1.3)"
      ],
      "execution_count": null,
      "outputs": []
    },
    {
      "cell_type": "markdown",
      "metadata": {
        "id": "iWF8DJUdxc62"
      },
      "source": [
        "### <a name='2'></a> Wczytanie danych"
      ]
    },
    {
      "cell_type": "code",
      "metadata": {
        "id": "hkcj5Yb_VhrK"
      },
      "source": [
        "from sklearn.datasets import load_iris\n",
        "\n",
        "raw_data = load_iris()\n",
        "raw_data.keys()"
      ],
      "execution_count": null,
      "outputs": []
    },
    {
      "cell_type": "code",
      "metadata": {
        "id": "4rgTQVn9XKWU"
      },
      "source": [
        "all_data = raw_data.copy()\n",
        "\n",
        "data = all_data['data']\n",
        "target = all_data['target']\n",
        "\n",
        "print(f'{data[:5]}\\n')\n",
        "print(f'{target[:5]}')"
      ],
      "execution_count": null,
      "outputs": []
    },
    {
      "cell_type": "code",
      "metadata": {
        "id": "dVnmVhk1DrBi"
      },
      "source": [
        "all_data['target_names']"
      ],
      "execution_count": null,
      "outputs": []
    },
    {
      "cell_type": "code",
      "source": [
        "all_data['feature_names']"
      ],
      "metadata": {
        "id": "K6nQzqx7iRHI"
      },
      "execution_count": null,
      "outputs": []
    },
    {
      "cell_type": "code",
      "metadata": {
        "id": "zvpxEPo-yQks"
      },
      "source": [
        "df = pd.DataFrame(data=np.c_[data, target], columns=all_data['feature_names'] + ['class'])\n",
        "df.head()"
      ],
      "execution_count": null,
      "outputs": []
    },
    {
      "cell_type": "code",
      "metadata": {
        "id": "t_FQjnyqymaZ"
      },
      "source": [
        "df.info()"
      ],
      "execution_count": null,
      "outputs": []
    },
    {
      "cell_type": "code",
      "metadata": {
        "id": "xEfWHhWeynsK"
      },
      "source": [
        "df.describe().T"
      ],
      "execution_count": null,
      "outputs": []
    },
    {
      "cell_type": "code",
      "metadata": {
        "id": "XAzC8OMYyt9p"
      },
      "source": [
        "df['class'].value_counts()"
      ],
      "execution_count": null,
      "outputs": []
    },
    {
      "cell_type": "markdown",
      "metadata": {
        "id": "_4k7XeK0OyL4"
      },
      "source": [
        "### <a name='a3'></a> Wykres Rozproszenia"
      ]
    },
    {
      "cell_type": "code",
      "metadata": {
        "id": "o2gc_Hcky7Nk"
      },
      "source": [
        "df.columns"
      ],
      "execution_count": null,
      "outputs": []
    },
    {
      "cell_type": "code",
      "metadata": {
        "id": "azRPPvEmWMBw"
      },
      "source": [
        "_ = sns.pairplot(df, vars=all_data['feature_names'], hue='class')"
      ],
      "execution_count": null,
      "outputs": []
    },
    {
      "cell_type": "code",
      "metadata": {
        "id": "orFl1NTHXZAj"
      },
      "source": [
        "df.corr()"
      ],
      "execution_count": null,
      "outputs": []
    },
    {
      "cell_type": "code",
      "metadata": {
        "id": "j3Z5qtvmXCN9"
      },
      "source": [
        "data = data[:, :2]\n",
        "\n",
        "print('data shape:', data.shape)\n",
        "print('target shape:', target.shape)"
      ],
      "execution_count": null,
      "outputs": []
    },
    {
      "cell_type": "code",
      "metadata": {
        "id": "v5QLQUf8O20_"
      },
      "source": [
        "plt.figure(figsize=(8, 6))\n",
        "plt.scatter(data[:, 0], data[:, 1], c=target, cmap='viridis')\n",
        "plt.title('Wykres punktowy')\n",
        "plt.xlabel('cecha_1: sepal_length')\n",
        "plt.ylabel('cecha_2: sepal_width')\n",
        "plt.show()"
      ],
      "execution_count": null,
      "outputs": []
    },
    {
      "cell_type": "code",
      "metadata": {
        "id": "Bp-vl9iw7UvG"
      },
      "source": [
        "df = pd.DataFrame(data=np.c_[data, target], columns=['sepal_length', 'sepal_width', 'class'])\n",
        "px.scatter(df, x='sepal_length', y='sepal_width', color='class', width=800)"
      ],
      "execution_count": null,
      "outputs": []
    },
    {
      "cell_type": "markdown",
      "metadata": {
        "id": "0w094asbLlOd"
      },
      "source": [
        "### <a name='a4'></a> K-nearest Neighbour Algorithm - Algorytm K-najbliższych sąsiadów\n",
        "\n",
        "Podstawą działania algorytmu jest:\n",
        "* znalezienie z góry określonej liczby próbek treningowych znajdujących się najbliżej naszej obserwacji\n",
        "* przewidzenie na ich podstawie etykiety\n",
        "\n",
        "Liczba sąsiadów jest określana przez użytkownika. Odległości zwykle kalkuluje sie przy pomocy metryki euklidesowej."
      ]
    },
    {
      "cell_type": "code",
      "metadata": {
        "id": "K947P9nlM_Mv"
      },
      "source": [
        "from sklearn.neighbors import KNeighborsClassifier\n",
        "\n",
        "classifier = KNeighborsClassifier(n_neighbors=5)\n",
        "classifier.fit(data, target)"
      ],
      "execution_count": null,
      "outputs": []
    },
    {
      "cell_type": "markdown",
      "metadata": {
        "id": "PzBEe5TfOlv0"
      },
      "source": [
        "### <a name='a5'></a> Wykres granic decyzyjnych"
      ]
    },
    {
      "cell_type": "code",
      "metadata": {
        "id": "7gcfPBmPNCEn"
      },
      "source": [
        "x_min, x_max = data[:, 0].min() - 0.5, data[:, 0].max() + 0.5\n",
        "y_min, y_max = data[:, 1].min() - 0.5, data[:, 1].max() + 0.5\n",
        "\n",
        "xx, yy = np.meshgrid(np.arange(x_min, x_max, 0.01), np.arange(y_min, y_max, 0.01))\n",
        "mesh = np.c_[xx.ravel(), yy.ravel()]\n",
        "Z = classifier.predict(mesh)\n",
        "Z = Z.reshape(xx.shape)\n",
        "\n",
        "plt.figure(figsize=(10, 8))\n",
        "plt.pcolormesh(xx, yy, Z, cmap='gnuplot', alpha=0.1)\n",
        "plt.scatter(data[:, 0], data[:, 1], c=target, cmap='gnuplot', edgecolors='r')\n",
        "plt.xlim(xx.min(), xx.max())\n",
        "plt.ylim(yy.min(), yy.max())\n",
        "plt.title('3-class classification k=5')\n",
        "plt.show()"
      ],
      "execution_count": null,
      "outputs": []
    },
    {
      "cell_type": "code",
      "metadata": {
        "id": "WbdpciQv4Ufa"
      },
      "source": [
        " def plot_decision_boundries(n_neighbors=1):\n",
        "\n",
        "    classifier = KNeighborsClassifier(n_neighbors=n_neighbors)\n",
        "    classifier.fit(data, target)\n",
        "\n",
        "    x_min, x_max = data[:, 0].min() - 0.5, data[:, 0].max() + 0.5\n",
        "    y_min, y_max = data[:, 1].min() - 0.5, data[:, 1].max() + 0.5\n",
        "\n",
        "    xx, yy = np.meshgrid(np.arange(x_min, x_max, 0.01), np.arange(y_min, y_max, 0.01))\n",
        "    mesh = np.c_[xx.ravel(), yy.ravel()]\n",
        "    Z = classifier.predict(mesh)\n",
        "    Z = Z.reshape(xx.shape)\n",
        "\n",
        "    plt.figure(figsize=(10, 8))\n",
        "    plt.pcolormesh(xx, yy, Z, cmap='gnuplot', alpha=0.1)\n",
        "    plt.scatter(data[:, 0], data[:, 1], c=target, cmap='gnuplot', edgecolors='r')\n",
        "    plt.xlim(xx.min(), xx.max())\n",
        "    plt.ylim(yy.min(), yy.max())\n",
        "    plt.title(f'3-class classification k={n_neighbors}')\n",
        "    plt.show()\n",
        "\n",
        "plot_decision_boundries()"
      ],
      "execution_count": null,
      "outputs": []
    },
    {
      "cell_type": "code",
      "metadata": {
        "id": "iXuQV0ct4sfm"
      },
      "source": [
        "plot_decision_boundries(2)"
      ],
      "execution_count": null,
      "outputs": []
    },
    {
      "cell_type": "code",
      "metadata": {
        "id": "v8fYKR7N48eB"
      },
      "source": [
        "plot_decision_boundries(50)"
      ],
      "execution_count": null,
      "outputs": []
    },
    {
      "cell_type": "code",
      "metadata": {
        "id": "4umcsH44V5IF"
      },
      "source": [
        "plt.figure(figsize=(12, 12))\n",
        "\n",
        "for i in range(1, 7):\n",
        "    plt.subplot(3, 2, i)\n",
        "\n",
        "    clf = KNeighborsClassifier(n_neighbors=i)\n",
        "    clf.fit(data, target)\n",
        "\n",
        "    xx, yy = np.meshgrid(np.arange(x_min, x_max, 0.01), np.arange(y_min, y_max, 0.01))\n",
        "    mesh = np.c_[xx.ravel(), yy.ravel()]\n",
        "    Z = clf.predict(mesh)\n",
        "    Z = Z.reshape(xx.shape)\n",
        "\n",
        "    plt.pcolormesh(xx, yy, Z, cmap='gnuplot', alpha=0.1)\n",
        "    plt.scatter(data[:, 0], data[:, 1], c=target, cmap='gnuplot', edgecolors='r')\n",
        "    plt.xlim(xx.min(), xx.max())\n",
        "    plt.ylim(yy.min(), yy.max())\n",
        "    plt.title(f'3-class classification k={i}')\n",
        "\n",
        "plt.show()"
      ],
      "execution_count": null,
      "outputs": []
    },
    {
      "cell_type": "code",
      "metadata": {
        "id": "9z98tHHGLyHQ"
      },
      "source": [],
      "execution_count": null,
      "outputs": []
    }
  ]
}