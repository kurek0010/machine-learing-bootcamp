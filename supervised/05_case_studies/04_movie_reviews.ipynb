{
  "nbformat": 4,
  "nbformat_minor": 0,
  "metadata": {
    "colab": {
      "name": "04_movie_reviews.ipynb",
      "provenance": [],
      "include_colab_link": true
    },
    "kernelspec": {
      "name": "python3",
      "display_name": "Python 3"
    }
  },
  "cells": [
    {
      "cell_type": "markdown",
      "metadata": {
        "id": "view-in-github",
        "colab_type": "text"
      },
      "source": [
        "<a href=\"https://colab.research.google.com/github/kurek0010/machine-learing-bootcamp/blob/main/supervised/05_case_studies/04_movie_reviews.ipynb\" target=\"_parent\"><img src=\"https://colab.research.google.com/assets/colab-badge.svg\" alt=\"Open In Colab\"/></a>"
      ]
    },
    {
      "cell_type": "markdown",
      "metadata": {
        "id": "UbjsT92Xd3z1"
      },
      "source": [
        "### scikit-learn\n",
        "Strona biblioteki: [https://scikit-learn.org](https://scikit-learn.org)  \n",
        "\n",
        "Dokumentacja/User Guide: [https://scikit-learn.org/stable/user_guide.html](https://scikit-learn.org/stable/user_guide.html)\n",
        "\n",
        "Podstawowa biblioteka do uczenia maszynowego w języku Python.\n",
        "\n",
        "Aby zainstalować bibliotekę scikit-learn, użyj polecenia poniżej:\n",
        "```\n",
        "!pip install scikit-learn\n",
        "```\n",
        "Aby zaktualizować do najnowszej wersji bibliotekę scikit-learn, użyj polecenia poniżej:\n",
        "```\n",
        "!pip install --upgrade scikit-learn\n",
        "```\n",
        "Kurs stworzony w oparciu o wersję `0.22.1`\n",
        "\n",
        "### Spis treści:\n",
        "1. [Import bibliotek](#0)\n",
        "2. [Pobranie danych](#1)\n",
        "3. [Eksploracja i przygotowanie danych](#2)\n",
        "4. [Trenowanie modelu](#3)\n",
        "5. [Ocena modelu](#4)\n",
        "6. [Predykcja na podstawie modelu](#5)\n",
        "\n"
      ]
    },
    {
      "cell_type": "markdown",
      "metadata": {
        "id": "YkIALacsUnj7"
      },
      "source": [
        "### <a name='0'></a> Import bibliotek"
      ]
    },
    {
      "cell_type": "code",
      "metadata": {
        "id": "VQ0ieU0UdN5D"
      },
      "source": [
        "import numpy as np\n",
        "import pandas as pd\n",
        "import plotly.express as px\n",
        "import sklearn\n",
        "\n",
        "np.random.seed(42)\n",
        "np.set_printoptions(precision=6, suppress=True, edgeitems=10, linewidth=1000, formatter=dict(float=lambda x: f'{x:.2f}'))\n",
        "sklearn.__version__"
      ],
      "execution_count": null,
      "outputs": []
    },
    {
      "cell_type": "markdown",
      "metadata": {
        "id": "55JlVHl016_3"
      },
      "source": [
        "### <a name='1'></a> Pobranie danych"
      ]
    },
    {
      "cell_type": "code",
      "metadata": {
        "id": "zlF29IVAFCVG"
      },
      "source": [
        "!wget https://raw.githubusercontent.com/nltk/nltk_data/gh-pages/packages/corpora/movie_reviews.zip"
      ],
      "execution_count": null,
      "outputs": []
    },
    {
      "cell_type": "code",
      "metadata": {
        "id": "PGxuHfaQFDUZ"
      },
      "source": [
        "!unzip -q movie_reviews.zip"
      ],
      "execution_count": null,
      "outputs": []
    },
    {
      "cell_type": "code",
      "metadata": {
        "id": "YABA13bPFT6k"
      },
      "source": [
        "!pwd\n",
        "!ls"
      ],
      "execution_count": null,
      "outputs": []
    },
    {
      "cell_type": "code",
      "metadata": {
        "id": "6Nd02e1sFIGT"
      },
      "source": [
        "from sklearn.datasets import load_files\n",
        "\n",
        "raw_movie = load_files('movie_reviews')\n",
        "movie = raw_movie.copy()\n",
        "movie.keys()"
      ],
      "execution_count": null,
      "outputs": []
    },
    {
      "cell_type": "markdown",
      "metadata": {
        "id": "ODzuZq9B2BLZ"
      },
      "source": [
        "### <a name='2'></a> Eksploracja i przygotowanie danych"
      ]
    },
    {
      "cell_type": "code",
      "metadata": {
        "id": "bEEV7nioFc-h"
      },
      "source": [
        "movie['data'][:10]"
      ],
      "execution_count": null,
      "outputs": []
    },
    {
      "cell_type": "code",
      "metadata": {
        "id": "xH5uM4b4F7eX"
      },
      "source": [
        "movie['target'][:10]"
      ],
      "execution_count": null,
      "outputs": []
    },
    {
      "cell_type": "code",
      "metadata": {
        "id": "3MPXmRmXFxXv"
      },
      "source": [
        "movie['target_names']"
      ],
      "execution_count": null,
      "outputs": []
    },
    {
      "cell_type": "code",
      "metadata": {
        "id": "qj7kqVRgF9jn"
      },
      "source": [
        "movie['filenames'][:2]"
      ],
      "execution_count": null,
      "outputs": []
    },
    {
      "cell_type": "code",
      "metadata": {
        "id": "9fwQtRraGncI"
      },
      "source": [
        "from sklearn.model_selection import train_test_split\n",
        "\n",
        "X_train, X_test, y_train, y_test = train_test_split(movie['data'], movie['target'], random_state=42)\n",
        "\n",
        "print(f'X_train: {len(X_train)}')\n",
        "print(f'X_test: {len(X_test)}')"
      ],
      "execution_count": null,
      "outputs": []
    },
    {
      "cell_type": "code",
      "metadata": {
        "id": "orPlYwxhLTJ6"
      },
      "source": [
        "X_train[0]"
      ],
      "execution_count": null,
      "outputs": []
    },
    {
      "cell_type": "code",
      "metadata": {
        "id": "nK0D_L0CGINs"
      },
      "source": [
        "from sklearn.feature_extraction.text import TfidfVectorizer\n",
        "\n",
        "tfidf = TfidfVectorizer(max_features=3000)\n",
        "X_train = tfidf.fit_transform(X_train)\n",
        "X_test = tfidf.transform(X_test)\n",
        "\n",
        "print(f'X_train shape: {X_train.shape}')\n",
        "print(f'X_test shape: {X_test.shape}')"
      ],
      "execution_count": null,
      "outputs": []
    },
    {
      "cell_type": "markdown",
      "metadata": {
        "id": "TzmQ7onl2KO2"
      },
      "source": [
        "### <a name='3'></a> Trenowanie modelu"
      ]
    },
    {
      "cell_type": "code",
      "metadata": {
        "id": "5n5BYun-Gflk"
      },
      "source": [
        "from sklearn.naive_bayes import MultinomialNB\n",
        "\n",
        "classifier = MultinomialNB()\n",
        "classifier.fit(X_train, y_train)\n",
        "classifier.score(X_test, y_test)"
      ],
      "execution_count": null,
      "outputs": []
    },
    {
      "cell_type": "markdown",
      "metadata": {
        "id": "eMvljKF12R6Q"
      },
      "source": [
        "### <a name='4'></a> Ocena modelu"
      ]
    },
    {
      "cell_type": "code",
      "metadata": {
        "id": "tqPWGsbcYhhV"
      },
      "source": [
        "from sklearn.metrics import confusion_matrix\n",
        "\n",
        "y_pred = classifier.predict(X_test)\n",
        "cm = confusion_matrix(y_test, y_pred)\n",
        "cm"
      ],
      "execution_count": null,
      "outputs": []
    },
    {
      "cell_type": "code",
      "metadata": {
        "id": "P-C8ePXuYsCF"
      },
      "source": [
        "import plotly.figure_factory as ff\n",
        "\n",
        "def plot_confusion_matrix(cm):\n",
        "    cm = cm[::-1]\n",
        "    cm = pd.DataFrame(cm, columns=['negative', 'positive'], index=['positive', 'negative'])\n",
        "\n",
        "    fig = ff.create_annotated_heatmap(z=cm.values, x=list(cm.columns), y=list(cm.index),\n",
        "                                      colorscale='ice', showscale=True, reversescale=True)\n",
        "    fig.update_layout(width=400, height=400, title='Confusion Matrix', font_size=16)\n",
        "    fig.show()\n",
        "\n",
        "plot_confusion_matrix(cm)"
      ],
      "execution_count": null,
      "outputs": []
    },
    {
      "cell_type": "code",
      "metadata": {
        "id": "9alJSTzqaCHc"
      },
      "source": [
        "from sklearn.metrics import classification_report\n",
        "\n",
        "print(classification_report(y_test, y_pred, target_names=['negative', 'positive']))"
      ],
      "execution_count": null,
      "outputs": []
    },
    {
      "cell_type": "markdown",
      "metadata": {
        "id": "e8LYTMNS2XWB"
      },
      "source": [
        "### <a name='5'></a> Predykcja na podstawie modelu"
      ]
    },
    {
      "cell_type": "code",
      "metadata": {
        "id": "GPTWFJLUaTPO"
      },
      "source": [
        "new_reviews = ['It was awesome! Very interesting story.',\n",
        "               'I cannot recommend this film. Short and awful.',\n",
        "               'Very long and boring. Don\\'t waste your time.',\n",
        "               'Well-organized and quite interesting.']\n",
        "\n",
        "new_reviews_tfidf = tfidf.transform(new_reviews)\n",
        "new_reviews_tfidf"
      ],
      "execution_count": null,
      "outputs": []
    },
    {
      "cell_type": "code",
      "metadata": {
        "id": "PcOC0cu5MDzi"
      },
      "source": [
        "new_reviews_tfidf.toarray()"
      ],
      "execution_count": null,
      "outputs": []
    },
    {
      "cell_type": "code",
      "metadata": {
        "id": "Kl-hJ2sSasrq"
      },
      "source": [
        "new_reviews_pred = classifier.predict(new_reviews_tfidf)\n",
        "new_reviews_pred"
      ],
      "execution_count": null,
      "outputs": []
    },
    {
      "cell_type": "code",
      "metadata": {
        "id": "rSsSgj9kchE9"
      },
      "source": [
        "new_reviews_prob = classifier.predict_proba(new_reviews_tfidf)\n",
        "new_reviews_prob"
      ],
      "execution_count": null,
      "outputs": []
    },
    {
      "cell_type": "code",
      "metadata": {
        "id": "f0Se88eBc11p"
      },
      "source": [
        "np.argmax(new_reviews_prob, axis=1)"
      ],
      "execution_count": null,
      "outputs": []
    },
    {
      "cell_type": "code",
      "metadata": {
        "id": "Mb0zGpjea1KF"
      },
      "source": [
        "movie['target_names']"
      ],
      "execution_count": null,
      "outputs": []
    },
    {
      "cell_type": "code",
      "metadata": {
        "id": "y4sJOGFuaybv"
      },
      "source": [
        "for review, target, prob in zip(new_reviews, new_reviews_pred, new_reviews_prob):\n",
        "    print(f\"{review} -> {movie['target_names'][target]} -> {prob[target]:.4f}\")"
      ],
      "execution_count": null,
      "outputs": []
    },
    {
      "cell_type": "code",
      "metadata": {
        "id": "_eOc0PnibIlu"
      },
      "source": [],
      "execution_count": null,
      "outputs": []
    }
  ]
}