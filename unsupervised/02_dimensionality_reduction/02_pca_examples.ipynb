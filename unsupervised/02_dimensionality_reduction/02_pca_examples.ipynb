{
  "nbformat": 4,
  "nbformat_minor": 0,
  "metadata": {
    "colab": {
      "name": "02_pca_examples.ipynb",
      "provenance": [],
      "include_colab_link": true
    },
    "kernelspec": {
      "name": "python3",
      "display_name": "Python 3"
    }
  },
  "cells": [
    {
      "cell_type": "markdown",
      "metadata": {
        "id": "view-in-github",
        "colab_type": "text"
      },
      "source": [
        "<a href=\"https://colab.research.google.com/github/kurek0010/machine-learing-bootcamp/blob/main/unsupervised/02_dimensionality_reduction/02_pca_examples.ipynb\" target=\"_parent\"><img src=\"https://colab.research.google.com/assets/colab-badge.svg\" alt=\"Open In Colab\"/></a>"
      ]
    },
    {
      "cell_type": "markdown",
      "metadata": {
        "id": "C80St0V-_VIi"
      },
      "source": [
        "* @author: krakowiakpawel9@gmail.com  \n",
        "* @site: e-smartdata.org\n",
        "\n",
        "### scikit-learn\n",
        "Strona biblioteki: [https://scikit-learn.org](https://scikit-learn.org)  \n",
        "\n",
        "Dokumentacja/User Guide: [https://scikit-learn.org/stable/user_guide.html](https://scikit-learn.org/stable/user_guide.html)\n",
        "\n",
        "Podstawowa biblioteka do uczenia maszynowego w języku Python.\n",
        "\n",
        "Aby zainstalować bibliotekę scikit-learn, użyj polecenia poniżej:\n",
        "```\n",
        "!pip install scikit-learn\n",
        "```\n",
        "Aby zaktualizować do najnowszej wersji bibliotekę scikit-learn, użyj polecenia poniżej:\n",
        "```\n",
        "!pip install --upgrade scikit-learn\n",
        "```\n",
        "Kurs stworzony w oparciu o wersję `0.22.1`\n",
        "\n",
        "### Spis treści:\n",
        "1. [Import bibliotek](#0)\n",
        "2. [Załadowanie danych - breast cancer](#1)\n",
        "3. [Standaryzacja](#2)\n",
        "4. [PCA - 2 komponenty](#3)\n",
        "5. [PCA - 3 komponenty](#4)\n",
        "6. [Zbiór danych MNIST](#5)\n",
        "7. [Zbiór danych Cifar](#6)\n",
        "\n",
        "\n"
      ]
    },
    {
      "cell_type": "markdown",
      "metadata": {
        "id": "dCogYvFX_YD4"
      },
      "source": [
        "### <a name='0'></a> Import bibliotek"
      ]
    },
    {
      "cell_type": "code",
      "metadata": {
        "id": "nGHVxtC7mp-X"
      },
      "source": [
        "import numpy as np\n",
        "import pandas as pd\n",
        "import matplotlib.pyplot as plt\n",
        "import plotly.graph_objects as go\n",
        "import plotly.express as px\n",
        "\n",
        "np.set_printoptions(precision=4, suppress=True, linewidth=150)"
      ],
      "execution_count": null,
      "outputs": []
    },
    {
      "cell_type": "markdown",
      "metadata": {
        "id": "9haehsnDfEDg"
      },
      "source": [
        "### <a name='1'></a> Załadowanie danych - breast cancer"
      ]
    },
    {
      "cell_type": "code",
      "metadata": {
        "id": "c-EXRI6wnCoB"
      },
      "source": [
        "from sklearn.datasets import load_breast_cancer\n",
        "\n",
        "raw_data = load_breast_cancer()\n",
        "all_data = raw_data.copy()\n",
        "data = all_data['data']\n",
        "target = all_data['target']\n",
        "data[:3]"
      ],
      "execution_count": null,
      "outputs": []
    },
    {
      "cell_type": "code",
      "metadata": {
        "id": "YK9tMlMim_61"
      },
      "source": [
        "target[:30]"
      ],
      "execution_count": null,
      "outputs": []
    },
    {
      "cell_type": "code",
      "metadata": {
        "id": "StoEBfwWglke"
      },
      "source": [
        "data.shape"
      ],
      "execution_count": null,
      "outputs": []
    },
    {
      "cell_type": "markdown",
      "metadata": {
        "id": "OIifFfbmfJrP"
      },
      "source": [
        "### <a name='2'></a> Standaryzacja"
      ]
    },
    {
      "cell_type": "code",
      "metadata": {
        "id": "7rC7rPjZnYzT"
      },
      "source": [
        "from sklearn.preprocessing import StandardScaler\n",
        "\n",
        "scaler = StandardScaler()\n",
        "data_std = scaler.fit_transform(data)\n",
        "data_std[:3]"
      ],
      "execution_count": null,
      "outputs": []
    },
    {
      "cell_type": "markdown",
      "metadata": {
        "id": "En0cNy8zfP3Z"
      },
      "source": [
        "### <a name='3'></a> PCA - 2 komponenty"
      ]
    },
    {
      "cell_type": "code",
      "metadata": {
        "id": "xXYEobtZoocW"
      },
      "source": [
        "from sklearn.decomposition import PCA\n",
        "\n",
        "pca = PCA(n_components=2)\n",
        "data_pca = pca.fit_transform(data_std)\n",
        "data_pca[:5]"
      ],
      "execution_count": null,
      "outputs": []
    },
    {
      "cell_type": "code",
      "metadata": {
        "id": "jDr3JmFMo6AD"
      },
      "source": [
        "pca_2 = pd.DataFrame(data={'pca_1': data_pca[:, 0], 'pca_2': data_pca[:, 1], 'class': target})\n",
        "pca_2.replace(0, 'Benign', inplace=True)\n",
        "pca_2.replace(1, 'Malignant', inplace=True)\n",
        "pca_2.head()"
      ],
      "execution_count": null,
      "outputs": []
    },
    {
      "cell_type": "code",
      "metadata": {
        "id": "m9s0SRpypIOZ"
      },
      "source": [
        "results = pd.DataFrame(data={'explained_variance_ratio': pca.explained_variance_ratio_})\n",
        "results['cumulative'] = results['explained_variance_ratio'].cumsum()\n",
        "results['component'] = results.index + 1\n",
        "results"
      ],
      "execution_count": null,
      "outputs": []
    },
    {
      "cell_type": "code",
      "metadata": {
        "id": "x3MooTBCpKpg"
      },
      "source": [
        "fig = go.Figure(data=[go.Bar(x=results['component'], y=results['explained_variance_ratio'], name='explained_variance_ratio'),\n",
        "                      go.Scatter(x=results['component'], y=results['cumulative'], name='cumulative')],\n",
        "                layout=go.Layout(title='PCA - 2 components', width=950, template='plotly_dark'))\n",
        "fig.show()"
      ],
      "execution_count": null,
      "outputs": []
    },
    {
      "cell_type": "code",
      "metadata": {
        "id": "ZuJDHT5ApMyI"
      },
      "source": [
        "px.scatter(pca_2, 'pca_1', 'pca_2', color=pca_2['class'], width=950, template='plotly_dark')"
      ],
      "execution_count": null,
      "outputs": []
    },
    {
      "cell_type": "markdown",
      "metadata": {
        "id": "mhrosBDqfthv"
      },
      "source": [
        "### <a name='4'></a> PCA - 3 komponenty"
      ]
    },
    {
      "cell_type": "code",
      "metadata": {
        "id": "WqKcTFwopPNd"
      },
      "source": [
        "pca = PCA(n_components=3)\n",
        "data_pca = pca.fit_transform(data_std)\n",
        "data_pca[:5]"
      ],
      "execution_count": null,
      "outputs": []
    },
    {
      "cell_type": "code",
      "metadata": {
        "id": "djR8143Fpswa"
      },
      "source": [
        "pca_3 = pd.DataFrame(data={'pca_1': data_pca[:, 0], 'pca_2': data_pca[:, 1], 'pca_3': data_pca[:, 2], 'class': target})\n",
        "pca_3.replace(0, 'Benign', inplace=True)\n",
        "pca_3.replace(1, 'Malignant', inplace=True)\n",
        "pca_3.head()"
      ],
      "execution_count": null,
      "outputs": []
    },
    {
      "cell_type": "code",
      "metadata": {
        "id": "snMpoosIp80J"
      },
      "source": [
        "results = pd.DataFrame(data={'explained_variance_ratio': pca.explained_variance_ratio_})\n",
        "results['cumulative'] = results['explained_variance_ratio'].cumsum()\n",
        "results['component'] = results.index + 1\n",
        "results"
      ],
      "execution_count": null,
      "outputs": []
    },
    {
      "cell_type": "code",
      "metadata": {
        "id": "AXFYaXRup-_2"
      },
      "source": [
        "fig = go.Figure(data=[go.Bar(x=results['component'], y=results['explained_variance_ratio'], name='explained_variance_ratio'),\n",
        "                      go.Scatter(x=results['component'], y=results['cumulative'], name='cumulative')],\n",
        "                layout=go.Layout(title='PCA - 3 components', width=950, template='plotly_dark'))\n",
        "fig.show()"
      ],
      "execution_count": null,
      "outputs": []
    },
    {
      "cell_type": "code",
      "metadata": {
        "id": "sCeGG2tLqA3i"
      },
      "source": [
        "px.scatter_3d(pca_3, x='pca_1', y='pca_2', z='pca_3', color='class', symbol='class',\n",
        "              opacity=0.7, size_max=10, width=950, template='plotly_dark')"
      ],
      "execution_count": null,
      "outputs": []
    },
    {
      "cell_type": "markdown",
      "metadata": {
        "id": "6P4yzFM3LWR_"
      },
      "source": [
        "### <a name='5'></a> Zbiór danych MNIST"
      ]
    },
    {
      "cell_type": "code",
      "metadata": {
        "id": "di3GeZ5gLQKc"
      },
      "source": [
        "from keras.datasets import mnist\n",
        "\n",
        "(X_train, y_train), (X_test, y_test) = mnist.load_data()\n",
        "\n",
        "print(f'X_train shape: {X_train.shape}')\n",
        "print(f'X_test shape: {X_test.shape}')\n",
        "print(f'y_train shape: {y_train.shape}')\n",
        "print(f'y_test shape: {y_test.shape}')"
      ],
      "execution_count": null,
      "outputs": []
    },
    {
      "cell_type": "markdown",
      "metadata": {
        "id": "hE1GVcX6hPHo"
      },
      "source": [
        "Obcięcie danych do pierwszych 5000 zdjęć"
      ]
    },
    {
      "cell_type": "code",
      "metadata": {
        "id": "mfTyidSALlbt"
      },
      "source": [
        "X_train = X_train[:5000]\n",
        "y_train = y_train[:5000]"
      ],
      "execution_count": null,
      "outputs": []
    },
    {
      "cell_type": "code",
      "metadata": {
        "id": "V10VsiUELf90"
      },
      "source": [
        "X_train[1]"
      ],
      "execution_count": null,
      "outputs": []
    },
    {
      "cell_type": "code",
      "metadata": {
        "id": "2vs_BR-iLsR1"
      },
      "source": [
        "y_train[:5]"
      ],
      "execution_count": null,
      "outputs": []
    },
    {
      "cell_type": "markdown",
      "metadata": {
        "id": "fG8wrCZRkOE6"
      },
      "source": [
        "Wizualizacja danych"
      ]
    },
    {
      "cell_type": "code",
      "metadata": {
        "id": "9B5WJAhqLxha"
      },
      "source": [
        "plt.figure(figsize=(12, 8))\n",
        "for i in range(8):\n",
        "    plt.subplot(240 + i + 1)\n",
        "    plt.imshow(X_train[i], cmap='gray_r')\n",
        "    plt.title(y_train[i], color='white', fontsize=17)\n",
        "    plt.axis('off')\n",
        "plt.show()"
      ],
      "execution_count": null,
      "outputs": []
    },
    {
      "cell_type": "markdown",
      "metadata": {
        "id": "d_OjQuyrha9G"
      },
      "source": [
        "Standaryzacja"
      ]
    },
    {
      "cell_type": "code",
      "metadata": {
        "id": "T7sTYl2HMDLD"
      },
      "source": [
        "X_train = X_train / 255.\n",
        "X_test = X_test / 255.\n",
        "X_train.shape"
      ],
      "execution_count": null,
      "outputs": []
    },
    {
      "cell_type": "markdown",
      "metadata": {
        "id": "WMA8eDgzhhns"
      },
      "source": [
        "Wypłaszczenie obrazów"
      ]
    },
    {
      "cell_type": "code",
      "metadata": {
        "id": "euNlcmeDMIH7"
      },
      "source": [
        "X_train = X_train.reshape(-1, 28 * 28)\n",
        "X_train.shape"
      ],
      "execution_count": null,
      "outputs": []
    },
    {
      "cell_type": "markdown",
      "metadata": {
        "id": "kA0L5BFbhkjU"
      },
      "source": [
        "PCA - 3 komponenty"
      ]
    },
    {
      "cell_type": "code",
      "metadata": {
        "id": "Koj6UNbHMNeR"
      },
      "source": [
        "pca = PCA(n_components=3)\n",
        "\n",
        "X_train_pca = pca.fit_transform(X_train)\n",
        "X_train_pca[:5]"
      ],
      "execution_count": null,
      "outputs": []
    },
    {
      "cell_type": "markdown",
      "metadata": {
        "id": "xdt53NvTkRDr"
      },
      "source": [
        "Wyjaśniona wariancja"
      ]
    },
    {
      "cell_type": "code",
      "metadata": {
        "id": "iIk4QS12MR58"
      },
      "source": [
        "results = pd.DataFrame(data={'explained_variance_ratio': pca.explained_variance_ratio_})\n",
        "results['cumulative'] = results['explained_variance_ratio'].cumsum()\n",
        "results['component'] = results.index + 1\n",
        "results"
      ],
      "execution_count": null,
      "outputs": []
    },
    {
      "cell_type": "code",
      "metadata": {
        "id": "facV3vRsMXn7"
      },
      "source": [
        "fig = go.Figure(data=[go.Bar(x=results['component'], y=results['explained_variance_ratio'], name='explained_variance_ratio'),\n",
        "                      go.Scatter(x=results['component'], y=results['cumulative'], name='cumulative')],\n",
        "                layout=go.Layout(title='PCA - 3 komponenty', width=950, template='plotly_dark'))\n",
        "fig.show()"
      ],
      "execution_count": null,
      "outputs": []
    },
    {
      "cell_type": "code",
      "metadata": {
        "id": "teBq_uy-Md4a"
      },
      "source": [
        "X_train_pca_df = pd.DataFrame(np.c_[X_train_pca, y_train], columns=['pca_1', 'pca_2', 'pca_3', 'class'])\n",
        "X_train_pca_df['class'] = X_train_pca_df['class'].astype('str')\n",
        "X_train_pca_df.head()"
      ],
      "execution_count": null,
      "outputs": []
    },
    {
      "cell_type": "markdown",
      "metadata": {
        "id": "bqpmVu9fkZMQ"
      },
      "source": [
        "Wizualizacja 3D głównych komponentów"
      ]
    },
    {
      "cell_type": "code",
      "metadata": {
        "id": "rxHfzBC2Mi15"
      },
      "source": [
        "px.scatter_3d(X_train_pca_df, x='pca_1', y='pca_2', z='pca_3', color='class',\n",
        "              symbol='class', opacity=0.7, size_max=10, width=950, height=700,\n",
        "              template='plotly_dark', title='PCA - MNIST dataset')"
      ],
      "execution_count": null,
      "outputs": []
    },
    {
      "cell_type": "code",
      "metadata": {
        "id": "LghGUsAVhIt8"
      },
      "source": [
        "pca = PCA(n_components=0.95)\n",
        "\n",
        "X_train_pca = pca.fit_transform(X_train)\n",
        "X_train_pca[:1]"
      ],
      "execution_count": null,
      "outputs": []
    },
    {
      "cell_type": "code",
      "metadata": {
        "id": "0d-pNWxmh3-t"
      },
      "source": [
        "pca.n_components_"
      ],
      "execution_count": null,
      "outputs": []
    },
    {
      "cell_type": "markdown",
      "metadata": {
        "id": "_C3Bh8HJhRlQ"
      },
      "source": [
        "Wyjaśniona wariancja"
      ]
    },
    {
      "cell_type": "code",
      "metadata": {
        "id": "zMrhfL3whQOk"
      },
      "source": [
        "results = pd.DataFrame(data={'explained_variance_ratio': pca.explained_variance_ratio_})\n",
        "results['cumulative'] = results['explained_variance_ratio'].cumsum()\n",
        "results['component'] = results.index + 1\n",
        "results"
      ],
      "execution_count": null,
      "outputs": []
    },
    {
      "cell_type": "code",
      "metadata": {
        "id": "SsODb-YFhWdJ"
      },
      "source": [
        "fig = go.Figure(data=[go.Bar(x=results['component'], y=results['explained_variance_ratio'], name='explained_variance_ratio'),\n",
        "                      go.Scatter(x=results['component'], y=results['cumulative'], name='cumulative')],\n",
        "                layout=go.Layout(title='PCA - 3 komponenty', width=950, template='plotly_dark'))\n",
        "fig.show()"
      ],
      "execution_count": null,
      "outputs": []
    },
    {
      "cell_type": "markdown",
      "metadata": {
        "id": "JVUADZCxLNyB"
      },
      "source": [
        "### <a name='6'></a> Zbiór danych Cifar"
      ]
    },
    {
      "cell_type": "code",
      "metadata": {
        "id": "o--6VyCJqCvH"
      },
      "source": [
        "from keras.datasets import cifar10\n",
        "\n",
        "(X_train, y_train), (X_test, y_test) = cifar10.load_data()\n",
        "\n",
        "print(f'X_train shape: {X_train.shape}')\n",
        "print(f'X_test shape: {X_test.shape}')\n",
        "print(f'y_train shape: {y_train.shape}')\n",
        "print(f'y_test shape: {y_test.shape}')"
      ],
      "execution_count": null,
      "outputs": []
    },
    {
      "cell_type": "markdown",
      "metadata": {
        "id": "ywGrnaxwkfjL"
      },
      "source": [
        "Obcięcie do pierwszych 5000 obrazów"
      ]
    },
    {
      "cell_type": "code",
      "metadata": {
        "id": "W0X9TPaWJBt7"
      },
      "source": [
        "X_train = X_train[:5000]\n",
        "y_train = y_train[:5000]\n",
        "X_train[0].shape"
      ],
      "execution_count": null,
      "outputs": []
    },
    {
      "cell_type": "code",
      "metadata": {
        "id": "006YOe5VEh1U"
      },
      "source": [
        "y_train[:5]"
      ],
      "execution_count": null,
      "outputs": []
    },
    {
      "cell_type": "markdown",
      "metadata": {
        "id": "hY_ttbMVkoPb"
      },
      "source": [
        "Wizualizacja"
      ]
    },
    {
      "cell_type": "code",
      "metadata": {
        "id": "1kEmjc7vEMc4"
      },
      "source": [
        "targets = {0: 'airplane', 1: 'automobile', 2: 'bird', 3: 'cat', 4: 'deer',\n",
        "           5: 'dog', 6: 'frog', 7: 'horse', 8: 'ship', 9: 'truck'}\n",
        "\n",
        "plt.imshow(X_train[1])\n",
        "plt.title(targets[y_train[1][0]], color='white', fontsize=17)\n",
        "plt.axis('off')\n",
        "plt.show()"
      ],
      "execution_count": null,
      "outputs": []
    },
    {
      "cell_type": "code",
      "metadata": {
        "id": "ZkJTl0XZFawA"
      },
      "source": [
        "plt.figure(figsize=(12, 8))\n",
        "for i in range(8):\n",
        "    plt.subplot(240 + i + 1)\n",
        "    plt.imshow(X_train[i])\n",
        "    plt.title(targets[y_train[i][0]], color='white', fontsize=17)\n",
        "    plt.axis('off')\n",
        "plt.show()"
      ],
      "execution_count": null,
      "outputs": []
    },
    {
      "cell_type": "markdown",
      "metadata": {
        "id": "PgB_IzQZjR7o"
      },
      "source": [
        "Standaryzacja"
      ]
    },
    {
      "cell_type": "code",
      "metadata": {
        "id": "e9IuzmiZF0HG"
      },
      "source": [
        "X_train = X_train / 255.\n",
        "X_test = X_test / 255.\n",
        "X_train.shape"
      ],
      "execution_count": null,
      "outputs": []
    },
    {
      "cell_type": "markdown",
      "metadata": {
        "id": "ShgmpJNPjTER"
      },
      "source": [
        "Wypłaszczenie obrazów"
      ]
    },
    {
      "cell_type": "code",
      "metadata": {
        "id": "ZtSRJLfnHVA6"
      },
      "source": [
        "X_train = X_train.reshape(-1, 32 * 32 * 3)\n",
        "X_train.shape"
      ],
      "execution_count": null,
      "outputs": []
    },
    {
      "cell_type": "code",
      "metadata": {
        "id": "lkJCEKJWHb2c"
      },
      "source": [
        "X_train[:5]"
      ],
      "execution_count": null,
      "outputs": []
    },
    {
      "cell_type": "markdown",
      "metadata": {
        "id": "HuzFFcgSjV1o"
      },
      "source": [
        "PCA - 3 komponenty"
      ]
    },
    {
      "cell_type": "code",
      "metadata": {
        "id": "JNZ5uscyHiD6"
      },
      "source": [
        "pca = PCA(n_components=3)\n",
        "\n",
        "X_train_pca = pca.fit_transform(X_train)\n",
        "X_train_pca[:5]"
      ],
      "execution_count": null,
      "outputs": []
    },
    {
      "cell_type": "markdown",
      "metadata": {
        "id": "_Qgh6mgjksYG"
      },
      "source": [
        "Wyjaśniona wariancja"
      ]
    },
    {
      "cell_type": "code",
      "metadata": {
        "id": "qTHqIusyHwjb"
      },
      "source": [
        "results = pd.DataFrame(data={'explained_variance_ratio': pca.explained_variance_ratio_})\n",
        "results['cumulative'] = results['explained_variance_ratio'].cumsum()\n",
        "results['component'] = results.index + 1\n",
        "results"
      ],
      "execution_count": null,
      "outputs": []
    },
    {
      "cell_type": "code",
      "metadata": {
        "id": "8SmFmDF6H24B"
      },
      "source": [
        "fig = go.Figure(data=[go.Bar(x=results['component'], y=results['explained_variance_ratio'], name='explained_variance_ratio'),\n",
        "                      go.Scatter(x=results['component'], y=results['cumulative'], name='cumulative')],\n",
        "                layout=go.Layout(title='PCA - 3 components', width=950, template='plotly_dark'))\n",
        "fig.show()"
      ],
      "execution_count": null,
      "outputs": []
    },
    {
      "cell_type": "code",
      "metadata": {
        "id": "ibfHEW2iIG_W"
      },
      "source": [
        "X_train_pca_df = pd.DataFrame(np.c_[X_train_pca, y_train], columns=['pca_1', 'pca_2', 'pca_3', 'class'])\n",
        "X_train_pca_df['name'] = X_train_pca_df['class'].map(targets)\n",
        "X_train_pca_df['class'] = X_train_pca_df['class'].astype('str')\n",
        "X_train_pca_df.head()"
      ],
      "execution_count": null,
      "outputs": []
    },
    {
      "cell_type": "markdown",
      "metadata": {
        "id": "1AbaeDxDkyGK"
      },
      "source": [
        "Wizualizacja 3D głównych komponentów"
      ]
    },
    {
      "cell_type": "code",
      "metadata": {
        "id": "fg2tOhyuH5Bl"
      },
      "source": [
        "px.scatter_3d(X_train_pca_df, x='pca_1', y='pca_2', z='pca_3', color='name',\n",
        "              symbol='name', opacity=0.7, size_max=10, width=950, height=700,\n",
        "              title='PCA - CIFAR dataset', template='plotly_dark')"
      ],
      "execution_count": null,
      "outputs": []
    },
    {
      "cell_type": "markdown",
      "metadata": {
        "id": "9-3YCfAZjbes"
      },
      "source": [
        "PCA - 0.95% wariancji"
      ]
    },
    {
      "cell_type": "code",
      "metadata": {
        "id": "wua3O-VXH7sE"
      },
      "source": [
        "pca = PCA(n_components=0.95)\n",
        "\n",
        "X_train_pca = pca.fit_transform(X_train)\n",
        "X_train_pca[:5]"
      ],
      "execution_count": null,
      "outputs": []
    },
    {
      "cell_type": "code",
      "metadata": {
        "id": "8uLDI1jAKgjQ"
      },
      "source": [
        "pca.n_components_"
      ],
      "execution_count": null,
      "outputs": []
    },
    {
      "cell_type": "code",
      "metadata": {
        "id": "6bxgAyPqKrZz"
      },
      "source": [
        "pca.explained_variance_ratio_"
      ],
      "execution_count": null,
      "outputs": []
    },
    {
      "cell_type": "markdown",
      "metadata": {
        "id": "Sspn_B9uk4AJ"
      },
      "source": [
        "Wariancja wyjaśniona"
      ]
    },
    {
      "cell_type": "code",
      "metadata": {
        "id": "44UwePPjKu8b"
      },
      "source": [
        "results = pd.DataFrame(data={'explained_variance_ratio': pca.explained_variance_ratio_})\n",
        "results['cumulative'] = results['explained_variance_ratio'].cumsum()\n",
        "results['component'] = results.index + 1\n",
        "results.head()"
      ],
      "execution_count": null,
      "outputs": []
    },
    {
      "cell_type": "code",
      "metadata": {
        "id": "LT0O5e8EK0K7"
      },
      "source": [
        "fig = go.Figure(data=[go.Bar(x=results['component'], y=results['explained_variance_ratio'], name='explained_variance_ratio'),\n",
        "                      go.Scatter(x=results['component'], y=results['cumulative'], name='cumulative')],\n",
        "                layout=go.Layout(title=f'PCA - {pca.n_components_} components', width=950, template='plotly_dark'))\n",
        "fig.show()"
      ],
      "execution_count": null,
      "outputs": []
    },
    {
      "cell_type": "code",
      "metadata": {
        "id": "9KkRZcfJhyjw"
      },
      "source": [],
      "execution_count": null,
      "outputs": []
    }
  ]
}