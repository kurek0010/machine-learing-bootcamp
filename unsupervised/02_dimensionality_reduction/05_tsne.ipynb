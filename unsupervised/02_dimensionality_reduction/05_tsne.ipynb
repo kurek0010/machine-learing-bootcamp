{
  "nbformat": 4,
  "nbformat_minor": 0,
  "metadata": {
    "colab": {
      "name": "05_tsne.ipynb",
      "provenance": [],
      "include_colab_link": true
    },
    "kernelspec": {
      "name": "python3",
      "display_name": "Python 3"
    }
  },
  "cells": [
    {
      "cell_type": "markdown",
      "metadata": {
        "id": "view-in-github",
        "colab_type": "text"
      },
      "source": [
        "<a href=\"https://colab.research.google.com/github/kurek0010/machine-learing-bootcamp/blob/main/unsupervised/02_dimensionality_reduction/05_tsne.ipynb\" target=\"_parent\"><img src=\"https://colab.research.google.com/assets/colab-badge.svg\" alt=\"Open In Colab\"/></a>"
      ]
    },
    {
      "cell_type": "markdown",
      "metadata": {
        "id": "C80St0V-_VIi"
      },
      "source": [
        "* @author: krakowiakpawel9@gmail.com  \n",
        "* @site: e-smartdata.org\n",
        "\n",
        "### scikit-learn\n",
        "Strona biblioteki: [https://scikit-learn.org](https://scikit-learn.org)  \n",
        "\n",
        "Dokumentacja/User Guide: [https://scikit-learn.org/stable/user_guide.html](https://scikit-learn.org/stable/user_guide.html)\n",
        "\n",
        "Podstawowa biblioteka do uczenia maszynowego w języku Python.\n",
        "\n",
        "Aby zainstalować bibliotekę scikit-learn, użyj polecenia poniżej:\n",
        "```\n",
        "!pip install scikit-learn\n",
        "```\n",
        "Aby zaktualizować do najnowszej wersji bibliotekę scikit-learn, użyj polecenia poniżej:\n",
        "```\n",
        "!pip install --upgrade scikit-learn\n",
        "```\n",
        "Kurs stworzony w oparciu o wersję `0.22.1`\n",
        "\n",
        "### Spis treści:\n",
        "1. [Import bibliotek](#0)\n",
        "2. [Załadowanie danych](#1)\n",
        "3. [Wizualizacja danych](#2)\n",
        "4. [Standaryzacja](#3)\n",
        "5. [PCA](#4)\n",
        "6. [t-SNE](#5)\n",
        "7. [Porównanie PCA vs. t-SNE](#6)\n",
        "8. [50 komponentów](#7)\n",
        "\n",
        "\n"
      ]
    },
    {
      "cell_type": "markdown",
      "metadata": {
        "id": "dCogYvFX_YD4"
      },
      "source": [
        "### <a name='0'></a> Import bibliotek"
      ]
    },
    {
      "cell_type": "code",
      "metadata": {
        "id": "KDjgLT2qbuRd"
      },
      "source": [
        "import pandas as pd\n",
        "import numpy as np\n",
        "from keras.datasets import mnist\n",
        "import plotly.graph_objects as go\n",
        "import plotly.express as px\n",
        "import matplotlib.pyplot as plt\n",
        "\n",
        "np.random.seed(42)"
      ],
      "execution_count": null,
      "outputs": []
    },
    {
      "cell_type": "markdown",
      "metadata": {
        "id": "9YC6LW9Lhh9M"
      },
      "source": [
        "### <a name='1'></a> Załadowanie danych"
      ]
    },
    {
      "cell_type": "code",
      "metadata": {
        "id": "HbYMNlBAb0TE"
      },
      "source": [
        "(X_train, y_train), (X_test, y_test) = mnist.load_data()\n",
        "\n",
        "print(f'X_train shape: {X_train.shape}')\n",
        "print(f'X_test shape: {X_test.shape}')\n",
        "print(f'y_train shape: {y_train.shape}')\n",
        "print(f'y_test shape: {y_test.shape}')"
      ],
      "execution_count": null,
      "outputs": []
    },
    {
      "cell_type": "markdown",
      "metadata": {
        "id": "kitjTilYurV7"
      },
      "source": [
        "### <a name='2'></a> Wizualizacja danych"
      ]
    },
    {
      "cell_type": "code",
      "metadata": {
        "id": "PJuqhNcBb5zS"
      },
      "source": [
        "plt.figure(figsize=(12, 8))\n",
        "for i in range(8):\n",
        "    plt.subplot(240 + i + 1)\n",
        "    plt.imshow(X_train[i], cmap='gray_r')\n",
        "    plt.title(y_train[i], color='white', fontsize=17)\n",
        "    plt.axis('off')\n",
        "plt.show()"
      ],
      "execution_count": null,
      "outputs": []
    },
    {
      "cell_type": "code",
      "metadata": {
        "id": "ypwZ7-xwb_oK"
      },
      "source": [
        "X_train = X_train[:10000]\n",
        "y_train = y_train[:10000]\n",
        "X_train = X_train.reshape(-1, 28 * 28)\n",
        "X_train.shape"
      ],
      "execution_count": null,
      "outputs": []
    },
    {
      "cell_type": "markdown",
      "metadata": {
        "id": "4IsoMBdMuwn7"
      },
      "source": [
        "### <a name='3'></a> Standaryzacja"
      ]
    },
    {
      "cell_type": "code",
      "metadata": {
        "id": "Pqgg6GvmcleN"
      },
      "source": [
        "from sklearn.preprocessing import StandardScaler\n",
        "\n",
        "scaler = StandardScaler()\n",
        "X_train_std = scaler.fit_transform(X_train)"
      ],
      "execution_count": null,
      "outputs": []
    },
    {
      "cell_type": "markdown",
      "metadata": {
        "id": "CvJSKBDGu0DI"
      },
      "source": [
        "### <a name='4'></a> PCA\n"
      ]
    },
    {
      "cell_type": "code",
      "metadata": {
        "id": "2esmaYbWcCgK"
      },
      "source": [
        "from sklearn.decomposition import PCA\n",
        "\n",
        "pca = PCA(n_components=3)\n",
        "X_train_pca = pca.fit_transform(X_train_std)\n",
        "X_train_pca.shape"
      ],
      "execution_count": null,
      "outputs": []
    },
    {
      "cell_type": "markdown",
      "metadata": {
        "id": "ZYypG52ou7zQ"
      },
      "source": [
        "Wyjaśniona wariancja"
      ]
    },
    {
      "cell_type": "code",
      "metadata": {
        "id": "b1JIIVAbc3aN"
      },
      "source": [
        "results = pd.DataFrame(data={'explained_variance_ratio': pca.explained_variance_ratio_})\n",
        "results['cumulative'] = results['explained_variance_ratio'].cumsum()\n",
        "results['component'] = results.index + 1\n",
        "results"
      ],
      "execution_count": null,
      "outputs": []
    },
    {
      "cell_type": "code",
      "metadata": {
        "id": "KDUPgRyUc994"
      },
      "source": [
        "fig = go.Figure(data=[go.Bar(x=results['component'], y=results['explained_variance_ratio'], name='explained_variance_ratio'),\n",
        "                      go.Scatter(x=results['component'], y=results['cumulative'], name='cumulative')],\n",
        "                layout=go.Layout(title='PCA - 3 components', width=950, template='plotly_dark'))\n",
        "fig.show()"
      ],
      "execution_count": null,
      "outputs": []
    },
    {
      "cell_type": "code",
      "metadata": {
        "id": "wsuexWesdANO"
      },
      "source": [
        "X_train_pca_df = pd.DataFrame(data=np.c_[X_train_pca, y_train], columns=['pca_1', 'pca_2', 'pca_3', 'class'])\n",
        "X_train_pca_df['class'] = X_train_pca_df['class'].astype(str)\n",
        "X_train_pca_df.head()"
      ],
      "execution_count": null,
      "outputs": []
    },
    {
      "cell_type": "code",
      "metadata": {
        "id": "-HdKcNzodf6w"
      },
      "source": [
        "px.scatter(X_train_pca_df, x='pca_1', y='pca_2', color='class', opacity=0.5, width=950,\n",
        "           title='PCA - 2 components', template='plotly_dark')"
      ],
      "execution_count": null,
      "outputs": []
    },
    {
      "cell_type": "code",
      "metadata": {
        "id": "Ba5HNF3Ddxtr"
      },
      "source": [
        "px.scatter_3d(X_train_pca_df, x='pca_1', y='pca_2', z='pca_3', color='class',\n",
        "              opacity=0.5, width=950, height=700, title='PCA - 3 components', template='plotly_dark')"
      ],
      "execution_count": null,
      "outputs": []
    },
    {
      "cell_type": "markdown",
      "metadata": {
        "id": "0dNm1kRmvDDn"
      },
      "source": [
        "### <a name='5'></a> t-SNE\n",
        "2 components\n"
      ]
    },
    {
      "cell_type": "code",
      "metadata": {
        "id": "bO_Xfvfgfoww"
      },
      "source": [
        "from sklearn.manifold import TSNE\n",
        "\n",
        "tsne = TSNE(n_components=2, verbose=1)\n",
        "X_train_tsne = tsne.fit_transform(X_train_std)"
      ],
      "execution_count": null,
      "outputs": []
    },
    {
      "cell_type": "code",
      "metadata": {
        "id": "uSYdf3Tuf4MY"
      },
      "source": [
        "X_train_tsne_df = pd.DataFrame(data=np.c_[X_train_tsne, y_train], columns=['tsne_1', 'tsne_2', 'class'])\n",
        "X_train_tsne_df['class'] = X_train_tsne_df['class'].astype(str)\n",
        "X_train_tsne_df"
      ],
      "execution_count": null,
      "outputs": []
    },
    {
      "cell_type": "markdown",
      "metadata": {
        "id": "vCqMTm8svRvK"
      },
      "source": [
        "Wizualizacja t-SNE"
      ]
    },
    {
      "cell_type": "code",
      "metadata": {
        "id": "h9sJe_qogg9A"
      },
      "source": [
        "px.scatter(X_train_tsne_df, x='tsne_1', y='tsne_2', color='class', opacity=0.5, width=950, height=700,\n",
        "           template='plotly_dark', title='TSNE - 2 components')"
      ],
      "execution_count": null,
      "outputs": []
    },
    {
      "cell_type": "markdown",
      "metadata": {
        "id": "lgZKeg12vUsc"
      },
      "source": [
        "### <a name='6'></a> Porównanie PCA vs. t-SNE"
      ]
    },
    {
      "cell_type": "code",
      "metadata": {
        "id": "jbTyjeiWhG9F"
      },
      "source": [
        "from plotly.subplots import make_subplots\n",
        "\n",
        "fig = make_subplots(rows=1, cols=2, subplot_titles=['PCA', 't-SNE'], horizontal_spacing=0.03)\n",
        "\n",
        "fig1 = px.scatter(X_train_pca_df, x='pca_1', y='pca_2', color='class', opacity=0.5)\n",
        "fig2 = px.scatter(X_train_tsne_df, x='tsne_1', y='tsne_2', color='class', opacity=0.5)\n",
        "\n",
        "for i in range(0, 10):\n",
        "    fig.add_trace(fig1['data'][i], row=1, col=1)\n",
        "    fig.add_trace(fig2['data'][i], row=1, col=2)\n",
        "fig.update_layout(width=950, showlegend=False, template='plotly_dark')\n",
        "fig.show()"
      ],
      "execution_count": null,
      "outputs": []
    },
    {
      "cell_type": "markdown",
      "metadata": {
        "id": "y5_U3xnMpx2_"
      },
      "source": [
        "### <a name='7'></a> 50 komponentów"
      ]
    },
    {
      "cell_type": "code",
      "metadata": {
        "id": "08CfBSCTod4I"
      },
      "source": [
        "pca = PCA(n_components=50)\n",
        "X_train_pca = pca.fit_transform(X_train_std)\n",
        "X_train_pca.shape"
      ],
      "execution_count": null,
      "outputs": []
    },
    {
      "cell_type": "code",
      "metadata": {
        "id": "_kmBS380qDBv"
      },
      "source": [
        "tsne = TSNE(n_components=2, verbose=1)\n",
        "X_train_tsne_50 = tsne.fit_transform(X_train_pca)"
      ],
      "execution_count": null,
      "outputs": []
    },
    {
      "cell_type": "code",
      "metadata": {
        "id": "34W6ytT8qSGe"
      },
      "source": [
        "X_train_tsne_50_df = pd.DataFrame(data=np.c_[X_train_tsne_50, y_train], columns=['tsne_1', 'tsne_2', 'class'])\n",
        "X_train_tsne_50_df['class'] = X_train_tsne_50_df['class'].astype(str)\n",
        "X_train_tsne_50_df"
      ],
      "execution_count": null,
      "outputs": []
    },
    {
      "cell_type": "code",
      "metadata": {
        "id": "oapwZTMKqfgK"
      },
      "source": [
        "px.scatter(X_train_tsne_50_df, x='tsne_1', y='tsne_2', color='class', opacity=0.5, width=950, height=700,\n",
        "           template='plotly_dark', title='t-SNE - 2 components after PCA')"
      ],
      "execution_count": null,
      "outputs": []
    },
    {
      "cell_type": "code",
      "metadata": {
        "id": "IkSHF3ZfqiEh"
      },
      "source": [
        "fig = make_subplots(rows=1, cols=3, subplot_titles=['PCA', 't-SNE', 't-SNE after PCA'], horizontal_spacing=0.03)\n",
        "\n",
        "fig1 = px.scatter(X_train_pca_df, x='pca_1', y='pca_2', color='class', opacity=0.5)\n",
        "fig2 = px.scatter(X_train_tsne_df, x='tsne_1', y='tsne_2', color='class', opacity=0.5)\n",
        "fig3 = px.scatter(X_train_tsne_50_df, x='tsne_1', y='tsne_2', color='class', opacity=0.5)\n",
        "\n",
        "for i in range(0, 10):\n",
        "    fig.add_trace(fig1['data'][i], row=1, col=1)\n",
        "    fig.add_trace(fig2['data'][i], row=1, col=2)\n",
        "    fig.add_trace(fig3['data'][i], row=1, col=3)\n",
        "fig.update_layout(width=950, height=450, showlegend=False, template='plotly_dark')\n",
        "fig.show()"
      ],
      "execution_count": null,
      "outputs": []
    },
    {
      "cell_type": "markdown",
      "metadata": {
        "id": "jJkZGyfSu7Hw"
      },
      "source": [
        "3 components"
      ]
    },
    {
      "cell_type": "code",
      "metadata": {
        "id": "SwM_Tvpjqjnc"
      },
      "source": [
        "tsne = TSNE(n_components=3, verbose=1)\n",
        "X_train_tsne = tsne.fit_transform(X_train_pca)"
      ],
      "execution_count": null,
      "outputs": []
    },
    {
      "cell_type": "code",
      "metadata": {
        "id": "tjusUYerqlq3"
      },
      "source": [
        "X_train_tsne_df = pd.DataFrame(data=np.c_[X_train_tsne, y_train], columns=['tsne_1', 'tsne_2', 'tsne_3', 'class'])\n",
        "X_train_tsne_df['class'] = X_train_tsne_df['class'].astype(str)\n",
        "X_train_tsne_df"
      ],
      "execution_count": null,
      "outputs": []
    },
    {
      "cell_type": "code",
      "metadata": {
        "id": "IQjTKo4gqmxH"
      },
      "source": [
        "px.scatter_3d(X_train_tsne_df, x='tsne_1', y='tsne_2', z='tsne_3', color='class', opacity=0.5, width=950, height=700,\n",
        "           template='plotly_dark', title='TSNE - 3 components')"
      ],
      "execution_count": null,
      "outputs": []
    },
    {
      "cell_type": "code",
      "metadata": {
        "id": "AFiqSM1oyPVP"
      },
      "source": [
        "TSNE?"
      ],
      "execution_count": null,
      "outputs": []
    },
    {
      "cell_type": "code",
      "metadata": {
        "id": "rohC-8kH6C0i"
      },
      "source": [],
      "execution_count": null,
      "outputs": []
    }
  ]
}