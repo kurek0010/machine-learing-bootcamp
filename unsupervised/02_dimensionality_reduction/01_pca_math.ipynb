{
  "nbformat": 4,
  "nbformat_minor": 0,
  "metadata": {
    "colab": {
      "name": "01_pca_math.ipynb",
      "provenance": [],
      "include_colab_link": true
    },
    "kernelspec": {
      "name": "python3",
      "display_name": "Python 3"
    }
  },
  "cells": [
    {
      "cell_type": "markdown",
      "metadata": {
        "id": "view-in-github",
        "colab_type": "text"
      },
      "source": [
        "<a href=\"https://colab.research.google.com/github/kurek0010/machine-learing-bootcamp/blob/main/unsupervised/02_dimensionality_reduction/01_pca_math.ipynb\" target=\"_parent\"><img src=\"https://colab.research.google.com/assets/colab-badge.svg\" alt=\"Open In Colab\"/></a>"
      ]
    },
    {
      "cell_type": "markdown",
      "metadata": {
        "id": "C80St0V-_VIi"
      },
      "source": [
        "* @author: krakowiakpawel9@gmail.com  \n",
        "* @site: e-smartdata.org\n",
        "\n",
        "### scikit-learn\n",
        "Strona biblioteki: [https://scikit-learn.org](https://scikit-learn.org)  \n",
        "\n",
        "Dokumentacja/User Guide: [https://scikit-learn.org/stable/user_guide.html](https://scikit-learn.org/stable/user_guide.html)\n",
        "\n",
        "Podstawowa biblioteka do uczenia maszynowego w języku Python.\n",
        "\n",
        "Aby zainstalować bibliotekę scikit-learn, użyj polecenia poniżej:\n",
        "```\n",
        "!pip install scikit-learn\n",
        "```\n",
        "Aby zaktualizować do najnowszej wersji bibliotekę scikit-learn, użyj polecenia poniżej:\n",
        "```\n",
        "!pip install --upgrade scikit-learn\n",
        "```\n",
        "Kurs stworzony w oparciu o wersję `0.22.1`\n",
        "\n",
        "### Spis treści:\n",
        "1. [Import bibliotek](#0)\n",
        "2. [Wygenerowanie danych](#1)\n",
        "3. [Wizualizacja danych](#2)\n",
        "4. [Standaryzacja](#3)\n",
        "5. [Implementacja PCA](#4)\n",
        "6. [PCA - scikit-learn](#5)\n",
        "\n"
      ]
    },
    {
      "cell_type": "markdown",
      "metadata": {
        "id": "dCogYvFX_YD4"
      },
      "source": [
        "### <a name='0'></a> Import bibliotek"
      ]
    },
    {
      "cell_type": "code",
      "metadata": {
        "id": "0VLpyDxWU7qi"
      },
      "source": [
        "import pandas as pd\n",
        "import numpy as np\n",
        "import matplotlib.pyplot as plt\n",
        "import plotly.graph_objects as go\n",
        "import plotly.express as px\n",
        "\n",
        "np.set_printoptions(precision=8, suppress=True, edgeitems=5, linewidth=200)"
      ],
      "execution_count": null,
      "outputs": []
    },
    {
      "cell_type": "markdown",
      "metadata": {
        "id": "kOqWtjQi5SJS"
      },
      "source": [
        "### <a name='1'></a> Wygenerowanie danych"
      ]
    },
    {
      "cell_type": "code",
      "metadata": {
        "id": "z0yk5XkYpFFN"
      },
      "source": [
        "from sklearn.datasets import load_iris\n",
        "\n",
        "raw_data = load_iris()\n",
        "data = raw_data['data']\n",
        "target = raw_data['target']\n",
        "feature_names = list(raw_data['feature_names'])\n",
        "feature_names = [name.replace(' ', '_')[:-5] for name in feature_names]\n",
        "df = pd.DataFrame(data=np.c_[data, target], columns=feature_names + ['class'])\n",
        "df['class'] = df['class'].map({0.0: 'setosa', 1.0: 'versicolor', 2.0: 'virginica'})\n",
        "df.head()"
      ],
      "execution_count": null,
      "outputs": []
    },
    {
      "cell_type": "markdown",
      "metadata": {
        "id": "MVPdeGPv5X7B"
      },
      "source": [
        "### <a name='2'></a> Wizualizacja danych"
      ]
    },
    {
      "cell_type": "code",
      "metadata": {
        "id": "68TuT1Kh8hwc"
      },
      "source": [
        "px.scatter_3d(df, x='sepal_length', y='petal_length', z='petal_width', template='plotly_dark',\n",
        "              title='Iris data - wizualizacja 3D (sepal_length, petal_length, petal_width)',\n",
        "              color='class', symbol='class', opacity=0.5, width=950, height=700)"
      ],
      "execution_count": null,
      "outputs": []
    },
    {
      "cell_type": "markdown",
      "metadata": {
        "id": "haHuvC9Y5htc"
      },
      "source": [
        "### <a name='3'></a> Standaryzacja"
      ]
    },
    {
      "cell_type": "code",
      "metadata": {
        "id": "CFI5CMDkqChf"
      },
      "source": [
        "from sklearn.preprocessing import StandardScaler\n",
        "\n",
        "X = df.iloc[:, [0, 2, 3]]\n",
        "y = df.iloc[:, -1]\n",
        "\n",
        "scaler = StandardScaler()\n",
        "X_std = scaler.fit_transform(X)\n",
        "X_std[:5]"
      ],
      "execution_count": null,
      "outputs": []
    },
    {
      "cell_type": "code",
      "source": [
        "X"
      ],
      "metadata": {
        "id": "_0e8x6AJwnPA"
      },
      "execution_count": null,
      "outputs": []
    },
    {
      "cell_type": "markdown",
      "metadata": {
        "id": "AT2y6gZ55p1n"
      },
      "source": [
        "### <a name='4'></a> Implementacja PCA"
      ]
    },
    {
      "cell_type": "code",
      "metadata": {
        "id": "HP3S1-XYqLhH"
      },
      "source": [
        "# macierz kowariancji\n",
        "cov_mat = np.cov(X_std, rowvar=False)\n",
        "cov_mat"
      ],
      "execution_count": null,
      "outputs": []
    },
    {
      "cell_type": "code",
      "metadata": {
        "id": "xtpRy7NKqeMK"
      },
      "source": [
        "# wektory własne i odpowiadające nim wartości własne macierzy kowariancji\n",
        "eig_vals, eig_vecs = np.linalg.eig(cov_mat)\n",
        "\n",
        "print(f'Wartości własne:\\n{eig_vals}\\n')\n",
        "print(f'Wektory własne:\\n{eig_vecs}')"
      ],
      "execution_count": null,
      "outputs": []
    },
    {
      "cell_type": "code",
      "metadata": {
        "id": "qmqRwB5hq16m"
      },
      "source": [
        "# posortowanie wektorów według wartości własnych\n",
        "eig_pairs = [(np.abs(eig_vals[i]), eig_vecs[:, i]) for i in range(len(eig_vals))]\n",
        "eig_pairs.sort(reverse=True)\n",
        "eig_pairs"
      ],
      "execution_count": null,
      "outputs": []
    },
    {
      "cell_type": "code",
      "metadata": {
        "id": "lwqVWRrprrWb"
      },
      "source": [
        "# obliczenie wartości procentowej wyjaśnionej wariancji\n",
        "total = sum(eig_vals)\n",
        "explained_variance_ratio = [(i / total) for i in sorted(eig_vals, reverse=True)]\n",
        "explained_variance_ratio"
      ],
      "execution_count": null,
      "outputs": []
    },
    {
      "cell_type": "code",
      "metadata": {
        "id": "6R-zBEvPsG6R"
      },
      "source": [
        "cumulative_explained_variance = np.cumsum(explained_variance_ratio)\n",
        "cumulative_explained_variance"
      ],
      "execution_count": null,
      "outputs": []
    },
    {
      "cell_type": "code",
      "metadata": {
        "id": "mP5hzPT5sOwv"
      },
      "source": [
        "results = pd.DataFrame(data={'explained_variance_ratio': explained_variance_ratio})\n",
        "results['cumulative'] = results['explained_variance_ratio'].cumsum()\n",
        "results['component'] = results.index + 1\n",
        "results"
      ],
      "execution_count": null,
      "outputs": []
    },
    {
      "cell_type": "code",
      "metadata": {
        "id": "a_XC0SzAsk0Z"
      },
      "source": [
        "fig = go.Figure(data=[go.Bar(x=results['component'], y=results['explained_variance_ratio'], name='explained variance ratio'),\n",
        "                      go.Scatter(x=results['component'], y=results['cumulative'], name='cumulative explained variance')],\n",
        "                layout=go.Layout(title='PCA - 3 components', width=950, template='plotly_dark'))\n",
        "fig.show()"
      ],
      "execution_count": null,
      "outputs": []
    },
    {
      "cell_type": "code",
      "metadata": {
        "id": "PJ3eFcgRtHmi"
      },
      "source": [
        "eig_pairs"
      ],
      "execution_count": null,
      "outputs": []
    },
    {
      "cell_type": "code",
      "metadata": {
        "id": "uTWdy3EAtqEI"
      },
      "source": [
        "# 2 komponenty, W - macierz składająca się z 2 wektorów własnych mających największą wartość własną\n",
        "W = np.hstack((eig_pairs[0][1].reshape(3, 1), eig_pairs[1][1].reshape(3, 1)))\n",
        "W"
      ],
      "execution_count": null,
      "outputs": []
    },
    {
      "cell_type": "code",
      "metadata": {
        "id": "aecRapb4tu2c"
      },
      "source": [
        "X_pca = X_std.dot(W)\n",
        "pca_df = pd.DataFrame(data=X_pca, columns=['pca_1', 'pca_2'])\n",
        "pca_df['class'] = df['class']\n",
        "pca_df['pca_2'] = - pca_df['pca_2']\n",
        "pca_df"
      ],
      "execution_count": null,
      "outputs": []
    },
    {
      "cell_type": "code",
      "metadata": {
        "id": "pM2JdxmStyK2"
      },
      "source": [
        "px.scatter(pca_df, 'pca_1', 'pca_2', color='class', width=950, template='plotly_dark')"
      ],
      "execution_count": null,
      "outputs": []
    },
    {
      "cell_type": "markdown",
      "metadata": {
        "id": "Nk8HvtTd6MPS"
      },
      "source": [
        "### <a name='5'></a> PCA - scikit-learn"
      ]
    },
    {
      "cell_type": "code",
      "metadata": {
        "id": "Vpq7GMLUuSCe"
      },
      "source": [
        "from sklearn.decomposition import PCA\n",
        "\n",
        "pca = PCA(n_components=2)\n",
        "X_pca = pca.fit_transform(X_std)\n",
        "pca_df = pd.DataFrame(data=X_pca, columns=['pca_1', 'pca_2'])\n",
        "pca_df['class'] = df['class']\n",
        "pca_df"
      ],
      "execution_count": null,
      "outputs": []
    },
    {
      "cell_type": "code",
      "metadata": {
        "id": "sczf6U67uj9L"
      },
      "source": [
        "px.scatter(pca_df, 'pca_1', 'pca_2', color='class', width=950, template='plotly_dark')"
      ],
      "execution_count": null,
      "outputs": []
    },
    {
      "cell_type": "code",
      "metadata": {
        "id": "TnAD6YJHyeAs"
      },
      "source": [],
      "execution_count": null,
      "outputs": []
    }
  ]
}