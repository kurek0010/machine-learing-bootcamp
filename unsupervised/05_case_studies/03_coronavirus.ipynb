{
  "nbformat": 4,
  "nbformat_minor": 0,
  "metadata": {
    "colab": {
      "name": "03_coronavirus.ipynb",
      "provenance": [],
      "include_colab_link": true
    },
    "kernelspec": {
      "name": "python3",
      "display_name": "Python 3"
    }
  },
  "cells": [
    {
      "cell_type": "markdown",
      "metadata": {
        "id": "view-in-github",
        "colab_type": "text"
      },
      "source": [
        "<a href=\"https://colab.research.google.com/github/kurek0010/machine-learing-bootcamp/blob/main/unsupervised/05_case_studies/03_coronavirus.ipynb\" target=\"_parent\"><img src=\"https://colab.research.google.com/assets/colab-badge.svg\" alt=\"Open In Colab\"/></a>"
      ]
    },
    {
      "cell_type": "markdown",
      "metadata": {
        "id": "C80St0V-_VIi"
      },
      "source": [
        "* @author: krakowiakpawel9@gmail.com  \n",
        "* @site: e-smartdata.org\n",
        "\n",
        "### prophet\n",
        "Strona biblioteki: [https://facebook.github.io/prophet/](https://facebook.github.io/prophet/)  \n",
        "\n",
        "Dokumentacja/User Guide: [https://facebook.github.io/prophet/docs/quick_start.html](https://facebook.github.io/prophet/docs/quick_start.html)\n",
        "\n",
        "Biblioteka do pracy z szeregami czasowymi od Facebook'a\n",
        "\n",
        "Aby zainstalować bibliotekę prophet, użyj polecenia poniżej:\n",
        "```\n",
        "!pip install fbprophet\n",
        "```\n",
        "Aby zaktualizować do najnowszej wersji użyj polecenia poniżej:\n",
        "```\n",
        "!pip install --upgrade fbprophet\n",
        "```\n",
        "Kurs stworzony w oparciu o wersję `0.5`\n",
        "\n",
        "### Spis treści:\n",
        "1. [Import bibliotek](#0)\n",
        "2. [Wczytanie danych](#1)\n",
        "3. [Eksploracja i przygotowanie danych](#2)\n",
        "4. [Budowa modelu](#3)\n",
        "\n",
        "\n"
      ]
    },
    {
      "cell_type": "markdown",
      "metadata": {
        "id": "dCogYvFX_YD4"
      },
      "source": [
        "### <a name='0'></a> Import bibliotek"
      ]
    },
    {
      "cell_type": "code",
      "metadata": {
        "id": "fZdZIE2jGnt_"
      },
      "source": [
        "import numpy as np\n",
        "import pandas as pd\n",
        "import plotly.express as px\n",
        "import plotly.graph_objects as go\n",
        "\n",
        "np.random.seed(42)"
      ],
      "execution_count": null,
      "outputs": []
    },
    {
      "cell_type": "markdown",
      "metadata": {
        "id": "gQkws0vY0dze"
      },
      "source": [
        "### <a name='1'></a> Wczytanie danych"
      ]
    },
    {
      "cell_type": "code",
      "metadata": {
        "id": "B-3_yAZyGo45"
      },
      "source": [
        "# dane od 22.01.2020 do 17.02.2020\n",
        "url = 'https://storage.googleapis.com/esmartdata-courses-files/ml-course/coronavirus.csv'\n",
        "data = pd.read_csv(url, parse_dates=['Date', 'Last Update'])\n",
        "data.head()"
      ],
      "execution_count": null,
      "outputs": []
    },
    {
      "cell_type": "markdown",
      "metadata": {
        "id": "DuIuWhrU0l8_"
      },
      "source": [
        "### <a name='2'></a> Eksploracja i przygotowanie danych"
      ]
    },
    {
      "cell_type": "code",
      "metadata": {
        "id": "yoEbR_DreCsY"
      },
      "source": [
        "data.info()"
      ],
      "execution_count": null,
      "outputs": []
    },
    {
      "cell_type": "code",
      "metadata": {
        "id": "7wkvfqfFeI5M"
      },
      "source": [
        "data.isnull().sum()"
      ],
      "execution_count": null,
      "outputs": []
    },
    {
      "cell_type": "code",
      "metadata": {
        "id": "4T1KQ1BOedrt"
      },
      "source": [
        "# brak Province/State -> Country\n",
        "data['Province/State'] = np.where(data['Province/State'].isnull(), data['Country'], data['Province/State'])\n",
        "data.isnull().sum()"
      ],
      "execution_count": null,
      "outputs": []
    },
    {
      "cell_type": "code",
      "metadata": {
        "id": "Yy6neoh1HNli"
      },
      "source": [
        "data['Country'].value_counts().nlargest(10)"
      ],
      "execution_count": null,
      "outputs": []
    },
    {
      "cell_type": "code",
      "metadata": {
        "id": "dEpGH8pOkfYR"
      },
      "source": [
        "data['Country'] = np.where(data['Country'] == 'Mainland China', 'China', data['Country'])\n",
        "data['Country'].value_counts().nlargest(10)"
      ],
      "execution_count": null,
      "outputs": []
    },
    {
      "cell_type": "code",
      "metadata": {
        "id": "A9J-yTwmHclR"
      },
      "source": [
        "tmp = data['Country'].value_counts().nlargest(15).reset_index()\n",
        "tmp.columns = ['Country', 'Count']\n",
        "tmp = tmp.sort_values(by=['Count', 'Country'], ascending=[False, True])\n",
        "tmp['iso_alpha'] = ['CHN', 'USA', 'AUS', 'CAN', 'JPN', 'KOR', 'THA', 'HKG', np.nan, 'SGP', 'TWN', 'VNM', 'FRA', 'MYS', 'NPL']\n",
        "tmp"
      ],
      "execution_count": null,
      "outputs": []
    },
    {
      "cell_type": "code",
      "metadata": {
        "id": "6R08cz5Tj4si"
      },
      "source": [
        "px.scatter_geo(tmp, locations='iso_alpha', size='Count', size_max=40, template='plotly_dark', color='Count',\n",
        "               text='Country', projection='natural earth', color_continuous_scale='reds', width=950,\n",
        "               title='Liczba przypadków Koronawirusa na świcie - TOP15')"
      ],
      "execution_count": null,
      "outputs": []
    },
    {
      "cell_type": "code",
      "metadata": {
        "id": "HqIiGTkOnAQD"
      },
      "source": [
        "px.scatter_geo(tmp, locations='iso_alpha', size='Count', size_max = 40, template='plotly_dark', color='Count',\n",
        "               text='Country', projection='natural earth', color_continuous_scale='reds', scope='asia', width=950,\n",
        "               title='Liczba przypadków Koronawirusa - Azja (z TOP15 global)')"
      ],
      "execution_count": null,
      "outputs": []
    },
    {
      "cell_type": "code",
      "metadata": {
        "id": "iwAqdICEHTY9"
      },
      "source": [
        "px.bar(tmp, x='Country', y='Count', template='plotly_dark', width=950, color_discrete_sequence=['#42f5c8'],\n",
        "       title='Liczba przypadków Koronawirusa w rozbiciu na kraje')"
      ],
      "execution_count": null,
      "outputs": []
    },
    {
      "cell_type": "code",
      "metadata": {
        "id": "iZlaIqhNfbJX"
      },
      "source": [
        "px.bar(tmp.query(\"Country != 'China'\"), x='Country', y='Count', template='plotly_dark', width=950,\n",
        "       color_discrete_sequence=['#42f5c8'], title='Liczba przypadków Koronawirusa w rozbiciu na kraje (poza Chinami)')"
      ],
      "execution_count": null,
      "outputs": []
    },
    {
      "cell_type": "code",
      "metadata": {
        "id": "YzimYU8EHqX1"
      },
      "source": [
        "tmp = data.groupby(by=data['Date'].dt.date)[['Confirmed', 'Deaths', 'Recovered']].sum().reset_index()\n",
        "tmp"
      ],
      "execution_count": null,
      "outputs": []
    },
    {
      "cell_type": "code",
      "metadata": {
        "id": "Kbo-tfyNIWem"
      },
      "source": [
        "fig = go.Figure()\n",
        "\n",
        "trace1 = go.Scatter(x=tmp['Date'], y=tmp['Confirmed'], mode='markers+lines', name='Confirmed')\n",
        "trace2 = go.Scatter(x=tmp['Date'], y=tmp['Deaths'], mode='markers+lines', name='Deaths')\n",
        "trace3 = go.Scatter(x=tmp['Date'], y=tmp['Recovered'], mode='markers+lines', name='Recovered')\n",
        "\n",
        "fig.add_trace(trace1)\n",
        "fig.add_trace(trace2)\n",
        "fig.add_trace(trace3)\n",
        "\n",
        "fig.update_layout(template='plotly_dark', width=950, title='Koronawirus (22.01-17.02.2020)')"
      ],
      "execution_count": null,
      "outputs": []
    },
    {
      "cell_type": "code",
      "metadata": {
        "id": "QXXLW7w7MWOm"
      },
      "source": [
        "data_confirmed = tmp[['Date', 'Confirmed']]\n",
        "data_confirmed.columns = ['ds', 'y']\n",
        "data_confirmed.head()"
      ],
      "execution_count": null,
      "outputs": []
    },
    {
      "cell_type": "code",
      "metadata": {
        "id": "0wApFglDvzhm"
      },
      "source": [
        "fig = go.Figure()\n",
        "fig.add_trace(go.Scatter(x=data_confirmed['ds'], y=data_confirmed['y'], mode='markers+lines',\n",
        "                         name='Confirmed', fill='tozeroy'))\n",
        "fig.update_layout(template='plotly_dark', width=950, title='Liczba potwierdzonych przypadków (22.01-12.02)')"
      ],
      "execution_count": null,
      "outputs": []
    },
    {
      "cell_type": "markdown",
      "metadata": {
        "id": "FTUqpAFQ1_lW"
      },
      "source": [
        "### <a name='3'></a> Budowa modelu"
      ]
    },
    {
      "cell_type": "code",
      "metadata": {
        "id": "3ZtIYBt4Miqu"
      },
      "source": [
        "from prophet import Prophet\n",
        "from prophet.plot import plot_plotly\n",
        "\n",
        "# dopasowanie modelu\n",
        "model = Prophet(yearly_seasonality=False, weekly_seasonality=False, daily_seasonality=False)\n",
        "model.fit(data_confirmed)\n",
        "\n",
        "# predykcja\n",
        "future = model.make_future_dataframe(periods=7, freq='D')\n",
        "forecast = model.predict(future)\n",
        "plot_plotly(model, forecast)"
      ],
      "execution_count": null,
      "outputs": []
    },
    {
      "cell_type": "code",
      "metadata": {
        "id": "GBxDmIu5ZEAE"
      },
      "source": [],
      "execution_count": null,
      "outputs": []
    }
  ]
}