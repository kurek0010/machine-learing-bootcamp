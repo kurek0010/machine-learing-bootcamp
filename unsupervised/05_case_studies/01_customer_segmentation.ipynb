{
  "nbformat": 4,
  "nbformat_minor": 0,
  "metadata": {
    "colab": {
      "name": "01_customer_segmentation.ipynb",
      "provenance": [],
      "include_colab_link": true
    },
    "kernelspec": {
      "name": "python3",
      "display_name": "Python 3"
    }
  },
  "cells": [
    {
      "cell_type": "markdown",
      "metadata": {
        "id": "view-in-github",
        "colab_type": "text"
      },
      "source": [
        "<a href=\"https://colab.research.google.com/github/kurek0010/machine-learing-bootcamp/blob/main/unsupervised/05_case_studies/01_customer_segmentation.ipynb\" target=\"_parent\"><img src=\"https://colab.research.google.com/assets/colab-badge.svg\" alt=\"Open In Colab\"/></a>"
      ]
    },
    {
      "cell_type": "markdown",
      "metadata": {
        "id": "C80St0V-_VIi"
      },
      "source": [
        "### scikit-learn\n",
        "Strona biblioteki: [https://scikit-learn.org](https://scikit-learn.org)  \n",
        "\n",
        "Dokumentacja/User Guide: [https://scikit-learn.org/stable/user_guide.html](https://scikit-learn.org/stable/user_guide.html)\n",
        "\n",
        "Podstawowa biblioteka do uczenia maszynowego w języku Python.\n",
        "\n",
        "Aby zainstalować bibliotekę scikit-learn, użyj polecenia poniżej:\n",
        "```\n",
        "!pip install scikit-learn\n",
        "```\n",
        "Aby zaktualizować do najnowszej wersji bibliotekę scikit-learn, użyj polecenia poniżej:\n",
        "```\n",
        "!pip install --upgrade scikit-learn\n",
        "```\n",
        "Kurs stworzony w oparciu o wersję `0.22.1`\n",
        "\n",
        "### Spis treści:\n",
        "1. [Import bibliotek](#0)\n",
        "2. [Załadowanie danych](#1)\n",
        "3. [Eksploracja danych](#2)\n",
        "4. [Wyznacznie retencji klienta](#3)\n",
        "5. [Retencja - KMeans](#4)\n",
        "6. [Retencja - DBSCAN](#5)\n",
        "7. [Sprzedaż](#6)\n",
        "8. [Sprzedaż - KMeans](#7)\n",
        "9. [Sprzedaż - DBSCAN](#8)\n",
        "10. [Retencja, sprzedaż - KMeans](#9)\n",
        "\n",
        "\n"
      ]
    },
    {
      "cell_type": "markdown",
      "metadata": {
        "id": "dCogYvFX_YD4"
      },
      "source": [
        "### <a name='0'></a> Import bibliotek"
      ]
    },
    {
      "cell_type": "code",
      "metadata": {
        "id": "HxbO7mdbGS7y"
      },
      "source": [
        "import numpy as np\n",
        "import pandas as pd\n",
        "import plotly.express as px\n",
        "import plotly.graph_objects as go"
      ],
      "execution_count": null,
      "outputs": []
    },
    {
      "cell_type": "markdown",
      "metadata": {
        "id": "xaxE-5VlifPz"
      },
      "source": [
        "### <a name='1'></a> Załadowanie danych"
      ]
    },
    {
      "cell_type": "code",
      "metadata": {
        "id": "oTn2wb-PGVeG"
      },
      "source": [
        "url = 'https://storage.googleapis.com/esmartdata-courses-files/ml-course/OnlineRetail.csv'\n",
        "raw_data = pd.read_csv(url, encoding='latin', parse_dates=['InvoiceDate'])\n",
        "data = raw_data.copy()\n",
        "data.head(3)"
      ],
      "execution_count": null,
      "outputs": []
    },
    {
      "cell_type": "markdown",
      "metadata": {
        "id": "Ige5PH2Win-V"
      },
      "source": [
        "### <a name='2'></a> Eksploracja danych"
      ]
    },
    {
      "cell_type": "code",
      "metadata": {
        "id": "f-uW5CdDGaXO"
      },
      "source": [
        "data.info()"
      ],
      "execution_count": null,
      "outputs": []
    },
    {
      "cell_type": "code",
      "metadata": {
        "id": "UZTfBDU0Gt1p"
      },
      "source": [
        "data.describe()"
      ],
      "execution_count": null,
      "outputs": []
    },
    {
      "cell_type": "code",
      "metadata": {
        "id": "IKXtY7xmG3H9"
      },
      "source": [
        "data.describe(include=['object'])"
      ],
      "execution_count": null,
      "outputs": []
    },
    {
      "cell_type": "code",
      "metadata": {
        "id": "14vtSyVeG5kO"
      },
      "source": [
        "data.describe(include=['datetime'])"
      ],
      "execution_count": null,
      "outputs": []
    },
    {
      "cell_type": "code",
      "metadata": {
        "id": "g8EVVUf8MHb7"
      },
      "source": [
        "data.isnull().sum()"
      ],
      "execution_count": null,
      "outputs": []
    },
    {
      "cell_type": "code",
      "metadata": {
        "id": "5_B0R8UuMMmu"
      },
      "source": [
        "# usunięcie braków\n",
        "data = data.dropna()\n",
        "data.isnull().sum()"
      ],
      "execution_count": null,
      "outputs": []
    },
    {
      "cell_type": "code",
      "metadata": {
        "id": "BShmCtGsHMDI"
      },
      "source": [
        "data['Country'].value_counts()"
      ],
      "execution_count": null,
      "outputs": []
    },
    {
      "cell_type": "code",
      "metadata": {
        "id": "frCf30hsQYG0"
      },
      "source": [
        "tmp = data['Country'].value_counts().nlargest(10).reset_index()\n",
        "tmp.columns = ['Country', 'Count']\n",
        "tmp.query(\"Count > 200\", inplace=True)\n",
        "px.bar(tmp, x='Country', y='Count', template='plotly_dark', color_discrete_sequence=['#03fcb5'],\n",
        "       title='Częstotliwość zakupów ze względu na kraj', width=900, height=500)"
      ],
      "execution_count": null,
      "outputs": []
    },
    {
      "cell_type": "code",
      "metadata": {
        "id": "1SjhqT8jHYK8"
      },
      "source": [
        "# obcięcie tylko do United Kingdom\n",
        "data_uk = data.query(\"Country == 'United Kingdom'\").copy()\n",
        "data_uk.head()"
      ],
      "execution_count": null,
      "outputs": []
    },
    {
      "cell_type": "code",
      "metadata": {
        "id": "LmJ9p-kgiLJh"
      },
      "source": [
        "# utworzenie nowej zmiennej Sales\n",
        "data_uk['Sales'] = data_uk['Quantity'] * data_uk['UnitPrice']\n",
        "data_uk.head()"
      ],
      "execution_count": null,
      "outputs": []
    },
    {
      "cell_type": "code",
      "metadata": {
        "id": "hE_haEdMRXfs"
      },
      "source": [
        "# częstotliwość zakupów ze względu na datę\n",
        "tmp = data_uk.groupby(data_uk['InvoiceDate'].dt.date)['CustomerID'].count().reset_index()\n",
        "tmp.columns = ['InvoiceDate', 'Count']\n",
        "tmp.head()"
      ],
      "execution_count": null,
      "outputs": []
    },
    {
      "cell_type": "code",
      "metadata": {
        "id": "CZx5L4C2SvHv"
      },
      "source": [
        "from plotly.subplots import make_subplots\n",
        "\n",
        "fig = make_subplots(rows=2, cols=1, shared_xaxes=True, vertical_spacing=0.02)\n",
        "\n",
        "trace1 = px.line(tmp, x='InvoiceDate', y='Count', template='plotly_dark', color_discrete_sequence=['#03fcb5'])['data'][0]\n",
        "trace2 = px.scatter(tmp, x='InvoiceDate', y='Count', template='plotly_dark', color_discrete_sequence=['#03fcb5'])['data'][0]\n",
        "\n",
        "fig.add_trace(trace1, row=1, col=1)\n",
        "fig.add_trace(trace2, row=2, col=1)\n",
        "fig.update_layout(template='plotly_dark', title='Częstotliwość zakupów ze względu na datę', width=950)\n",
        "fig.show()"
      ],
      "execution_count": null,
      "outputs": []
    },
    {
      "cell_type": "code",
      "metadata": {
        "id": "EdJDhoffTqa9"
      },
      "source": [
        "data_uk.head()"
      ],
      "execution_count": null,
      "outputs": []
    },
    {
      "cell_type": "code",
      "metadata": {
        "id": "lL0mL0edTlyX"
      },
      "source": [
        "# Łączna sprzedaż ze względu na datę\n",
        "tmp = data_uk.groupby(data_uk['InvoiceDate'].dt.date)['Sales'].sum().reset_index()\n",
        "tmp.columns = ['InvoiceDate', 'Sales']\n",
        "tmp.head()"
      ],
      "execution_count": null,
      "outputs": []
    },
    {
      "cell_type": "code",
      "metadata": {
        "id": "yQBo1oOpUs1Z"
      },
      "source": [
        "fig = make_subplots(rows=2, cols=1, shared_xaxes=True, vertical_spacing=0.02)\n",
        "\n",
        "trace1 = px.line(tmp, x='InvoiceDate', y='Sales', template='plotly_dark', color_discrete_sequence=['#03fcb5'])['data'][0]\n",
        "trace2 = px.scatter(tmp, x='InvoiceDate', y='Sales', template='plotly_dark', color_discrete_sequence=['#03fcb5'])['data'][0]\n",
        "\n",
        "fig.add_trace(trace1, row=1, col=1)\n",
        "fig.add_trace(trace2, row=2, col=1)\n",
        "fig.update_layout(template='plotly_dark', title='Łączna sprzedaż ze względu na datę', width=950)\n",
        "fig.show()"
      ],
      "execution_count": null,
      "outputs": []
    },
    {
      "cell_type": "markdown",
      "metadata": {
        "id": "tiRlaJgwjHmU"
      },
      "source": [
        "### <a name='3'></a> Wyznacznie retencji klienta"
      ]
    },
    {
      "cell_type": "code",
      "metadata": {
        "id": "RGEfwmk6IFyU"
      },
      "source": [
        "# wydobycie unikalnych wartości CustomerID\n",
        "data_user = pd.DataFrame(data['CustomerID'].unique(), columns=['CustomerID'])\n",
        "data_user.head(3)"
      ],
      "execution_count": null,
      "outputs": []
    },
    {
      "cell_type": "code",
      "metadata": {
        "id": "_dLRkvF5ITjf"
      },
      "source": [
        "# wydobycie daty ostatniego zakupu dla każdego klienta\n",
        "last_purchase = data_uk.groupby('CustomerID')['InvoiceDate'].max().reset_index()\n",
        "last_purchase.columns = ['CustomerID', 'LastPurchaseDate']\n",
        "last_purchase.head()"
      ],
      "execution_count": null,
      "outputs": []
    },
    {
      "cell_type": "code",
      "metadata": {
        "id": "L4fG35Q2OprR"
      },
      "source": [
        "last_purchase['LastPurchaseDate'].max()"
      ],
      "execution_count": null,
      "outputs": []
    },
    {
      "cell_type": "code",
      "metadata": {
        "id": "FdK7YWalO2oa"
      },
      "source": [
        "last_purchase['LastPurchaseDate'].min()"
      ],
      "execution_count": null,
      "outputs": []
    },
    {
      "cell_type": "code",
      "metadata": {
        "id": "4ZaNGuX2L0Hh"
      },
      "source": [
        "# wyznaczenie retencji jako liczby dni od daty ostatniego kupna klienta do maksymalnej (ostatniej) daty kupna w danych\n",
        "last_purchase['Retention'] = (last_purchase['LastPurchaseDate'].max() - last_purchase['LastPurchaseDate']).dt.days\n",
        "last_purchase.head()"
      ],
      "execution_count": null,
      "outputs": []
    },
    {
      "cell_type": "code",
      "metadata": {
        "id": "mYq9z8ZiO4EY"
      },
      "source": [
        "last_purchase['Retention'].value_counts()"
      ],
      "execution_count": null,
      "outputs": []
    },
    {
      "cell_type": "code",
      "metadata": {
        "id": "H8BDcx1NPm8J"
      },
      "source": [
        "px.histogram(last_purchase, x='Retention', template='plotly_dark',\n",
        "             width=950, height=500, title='Retention', nbins=100,\n",
        "             color_discrete_sequence=['#03fcb5'])"
      ],
      "execution_count": null,
      "outputs": []
    },
    {
      "cell_type": "code",
      "metadata": {
        "id": "gnmF0FxvPtR5"
      },
      "source": [
        "# połaczenie CustomerID oraz retencji\n",
        "data_user = pd.merge(data_user, last_purchase, on='CustomerID')\n",
        "data_user = data_user[['CustomerID', 'Retention']]\n",
        "data_user.head()"
      ],
      "execution_count": null,
      "outputs": []
    },
    {
      "cell_type": "code",
      "metadata": {
        "id": "BESyvXtYV7IO"
      },
      "source": [
        "px.scatter(data_user, x='CustomerID', y='Retention', template='plotly_dark', width=950,\n",
        "           color_discrete_sequence=['#03fcb5'])"
      ],
      "execution_count": null,
      "outputs": []
    },
    {
      "cell_type": "code",
      "metadata": {
        "id": "vvMPtPFdasb0"
      },
      "source": [
        "data_retention = data_user[['Retention']]\n",
        "data_retention.head()"
      ],
      "execution_count": null,
      "outputs": []
    },
    {
      "cell_type": "code",
      "metadata": {
        "id": "c6jOLfsafEI7"
      },
      "source": [
        "# standaryzacja danych\n",
        "from sklearn.preprocessing import StandardScaler\n",
        "\n",
        "scaler = StandardScaler()\n",
        "data_user['RetentionScaled'] = scaler.fit_transform(data_retention)\n",
        "data_user.head()"
      ],
      "execution_count": null,
      "outputs": []
    },
    {
      "cell_type": "code",
      "metadata": {
        "id": "gOTmnXRGffiH"
      },
      "source": [
        "px.scatter(data_user, x='CustomerID', y='RetentionScaled', template='plotly_dark', width=950,\n",
        "           color_discrete_sequence=['#03fcb5'])"
      ],
      "execution_count": null,
      "outputs": []
    },
    {
      "cell_type": "code",
      "metadata": {
        "id": "WmkPbmZ3gFA6"
      },
      "source": [
        "data_retention_scaled = data_user[['RetentionScaled']]\n",
        "data_retention_scaled.head()"
      ],
      "execution_count": null,
      "outputs": []
    },
    {
      "cell_type": "markdown",
      "metadata": {
        "id": "VAq9wUMveJgI"
      },
      "source": [
        "### <a name='4'></a> Retencja - KMeans"
      ]
    },
    {
      "cell_type": "code",
      "metadata": {
        "id": "ycObTYqOWhRC"
      },
      "source": [
        "from sklearn.cluster import KMeans\n",
        "\n",
        "wcss = []\n",
        "for i in range(1, 10):\n",
        "    kmeans = KMeans(n_clusters=i, max_iter=1000)\n",
        "    kmeans.fit(data_retention_scaled)\n",
        "    wcss.append(kmeans.inertia_)\n",
        "\n",
        "wcss = pd.DataFrame(data=np.c_[range(1, 10), wcss], columns=['NumberOfClusters', 'WCSS'])\n",
        "wcss"
      ],
      "execution_count": null,
      "outputs": []
    },
    {
      "cell_type": "code",
      "metadata": {
        "id": "TVplqRWOZWta"
      },
      "source": [
        "px.line(wcss, x='NumberOfClusters', y='WCSS', template='plotly_dark', title='WCSS',\n",
        "        width=950, color_discrete_sequence=['#03fcb5'])"
      ],
      "execution_count": null,
      "outputs": []
    },
    {
      "cell_type": "code",
      "metadata": {
        "id": "Xl7Wf0M9ZoMM"
      },
      "source": [
        "kmeans = KMeans(n_clusters=3, max_iter=1000)\n",
        "kmeans.fit(data_retention_scaled)"
      ],
      "execution_count": null,
      "outputs": []
    },
    {
      "cell_type": "code",
      "metadata": {
        "id": "elLhjAh2aPZ0"
      },
      "source": [
        "data_user['Cluster'] = kmeans.labels_\n",
        "data_user.head()"
      ],
      "execution_count": null,
      "outputs": []
    },
    {
      "cell_type": "code",
      "metadata": {
        "id": "PMc0YC6taWAQ"
      },
      "source": [
        "tmp = data_user.groupby('Cluster')['Retention'].describe()\n",
        "tmp"
      ],
      "execution_count": null,
      "outputs": []
    },
    {
      "cell_type": "code",
      "metadata": {
        "id": "YwizDUnIjsXu"
      },
      "source": [
        "tmp = tmp['mean'].reset_index()\n",
        "tmp.columns = ['Cluster', 'MeanRetention']\n",
        "px.bar(tmp, x='Cluster', y='MeanRetention', template='plotly_dark', width=950,\n",
        "       height=400, color_discrete_sequence=['#03fcb5'])"
      ],
      "execution_count": null,
      "outputs": []
    },
    {
      "cell_type": "code",
      "metadata": {
        "id": "i_DB6HGMakF3"
      },
      "source": [
        "px.scatter(data_user, x='CustomerID', y='Retention', color='Cluster', template='plotly_dark',\n",
        "           width=950, title='Wizualizacja klastrów')"
      ],
      "execution_count": null,
      "outputs": []
    },
    {
      "cell_type": "code",
      "metadata": {
        "id": "Al5M_7M1lLlP"
      },
      "source": [
        "tmp = data_user['Cluster'].value_counts().reset_index()\n",
        "tmp.columns = ['Cluster', 'Count']\n",
        "px.bar(tmp, x='Cluster', y='Count', template='plotly_dark', color_discrete_sequence=['#03fcb5'], width=950,\n",
        "       title='Rozkład częstości klastrów')"
      ],
      "execution_count": null,
      "outputs": []
    },
    {
      "cell_type": "markdown",
      "metadata": {
        "id": "B1G1PQUHePXV"
      },
      "source": [
        "### <a name='5'></a> Retencja - DBSCAN"
      ]
    },
    {
      "cell_type": "code",
      "metadata": {
        "id": "L6b1tny9bC1N"
      },
      "source": [
        "from sklearn.cluster import DBSCAN\n",
        "\n",
        "dbscan = DBSCAN(eps=0.03, min_samples=5)\n",
        "dbscan.fit(data_retention_scaled)\n",
        "clusters = dbscan.labels_\n",
        "data_user['Cluster'] = clusters\n",
        "data_user.head()"
      ],
      "execution_count": null,
      "outputs": []
    },
    {
      "cell_type": "code",
      "metadata": {
        "id": "GBrnT_m1efs2"
      },
      "source": [
        "px.scatter(data_user, x='CustomerID', y='Retention', color='Cluster', template='plotly_dark', width=950,\n",
        "           title='Wizualizacja klastrów')"
      ],
      "execution_count": null,
      "outputs": []
    },
    {
      "cell_type": "markdown",
      "metadata": {
        "id": "U60NXDBUrWAY"
      },
      "source": [
        "### <a name='6'></a> Sprzedaż"
      ]
    },
    {
      "cell_type": "code",
      "metadata": {
        "id": "vM3KUTiVlykI"
      },
      "source": [
        "data_sales = data_uk.groupby('CustomerID')['Sales'].sum().reset_index()\n",
        "data_sales.head()"
      ],
      "execution_count": null,
      "outputs": []
    },
    {
      "cell_type": "code",
      "metadata": {
        "id": "1H7h5q_zlzws"
      },
      "source": [
        "data_user = pd.merge(data_user, data_sales, on='CustomerID')\n",
        "data_user.head()"
      ],
      "execution_count": null,
      "outputs": []
    },
    {
      "cell_type": "code",
      "metadata": {
        "id": "EGk4uwxHmJDi"
      },
      "source": [
        "scaler = StandardScaler()\n",
        "data_user['SalesScaled'] = scaler.fit_transform(data_user[['Sales']])\n",
        "data_user.head()"
      ],
      "execution_count": null,
      "outputs": []
    },
    {
      "cell_type": "code",
      "metadata": {
        "id": "jwZWTED0nKX4"
      },
      "source": [
        "px.scatter(data_user, x='CustomerID', y='Sales', template='plotly_dark',\n",
        "           color_discrete_sequence=['#03fcb5'], title='Sprzedaż w rozbiciu na klienta')"
      ],
      "execution_count": null,
      "outputs": []
    },
    {
      "cell_type": "code",
      "metadata": {
        "id": "rYbiz0BYnWPw"
      },
      "source": [
        "px.scatter(data_user, x='CustomerID', y='SalesScaled', template='plotly_dark',\n",
        "           color_discrete_sequence=['#03fcb5'], title='Sprzedaż w rozbiciu na klienta - dane przeskalowane')"
      ],
      "execution_count": null,
      "outputs": []
    },
    {
      "cell_type": "code",
      "metadata": {
        "id": "ixP0n_Onnb20"
      },
      "source": [
        "data_sales_scaled = data_user[['SalesScaled']]\n",
        "data_sales_scaled.head()"
      ],
      "execution_count": null,
      "outputs": []
    },
    {
      "cell_type": "markdown",
      "metadata": {
        "id": "mLADly777CVv"
      },
      "source": [
        "### <a name='7'></a> Sprzedaż - KMeans"
      ]
    },
    {
      "cell_type": "code",
      "metadata": {
        "id": "y-WLIp_cno5u"
      },
      "source": [
        "wcss = []\n",
        "for i in range(1, 10):\n",
        "    kmeans = KMeans(n_clusters=i, max_iter=1000)\n",
        "    kmeans.fit(data_sales_scaled)\n",
        "    wcss.append(kmeans.inertia_)\n",
        "\n",
        "wcss = pd.DataFrame(data=np.c_[range(1, 10), wcss], columns=['NumberOfClusters', 'WCSS'])\n",
        "wcss"
      ],
      "execution_count": null,
      "outputs": []
    },
    {
      "cell_type": "code",
      "metadata": {
        "id": "0Wa50vo7nvuK"
      },
      "source": [
        "px.line(wcss, x='NumberOfClusters', y='WCSS', template='plotly_dark', color_discrete_sequence=['#03fcb5'],\n",
        "        width=950, title='WCSS')"
      ],
      "execution_count": null,
      "outputs": []
    },
    {
      "cell_type": "code",
      "metadata": {
        "id": "6atMWc2Yn3wn"
      },
      "source": [
        "kmeans = KMeans(n_clusters=3, max_iter=1000)\n",
        "kmeans.fit(data_sales_scaled)"
      ],
      "execution_count": null,
      "outputs": []
    },
    {
      "cell_type": "code",
      "metadata": {
        "id": "rhiSAe1VoAnV"
      },
      "source": [
        "data_user['Cluster'] = kmeans.labels_\n",
        "data_user['Cluster'] = data_user['Cluster'].astype(str)\n",
        "data_user.head()"
      ],
      "execution_count": null,
      "outputs": []
    },
    {
      "cell_type": "code",
      "metadata": {
        "id": "rp6IhfyRD5TJ"
      },
      "source": [
        "kmeans.cluster_centers_"
      ],
      "execution_count": null,
      "outputs": []
    },
    {
      "cell_type": "code",
      "metadata": {
        "id": "zg7dg_U8oECp"
      },
      "source": [
        "px.scatter(data_user, x='CustomerID', y='SalesScaled', color='Cluster', template='plotly_dark', width=950,\n",
        "           title='Wizualizacja klastrów - dane przeskalowane')"
      ],
      "execution_count": null,
      "outputs": []
    },
    {
      "cell_type": "markdown",
      "metadata": {
        "id": "FTR8Zkgn7Kd7"
      },
      "source": [
        "### <a name='8'></a> Sprzedaż - DBSCAN"
      ]
    },
    {
      "cell_type": "code",
      "metadata": {
        "id": "M6mkScUSpDbP"
      },
      "source": [
        "dbscan = DBSCAN(eps=0.5, min_samples=7)\n",
        "dbscan.fit(data_sales_scaled)\n",
        "clusters = dbscan.labels_\n",
        "data_user['Cluster'] = clusters\n",
        "data_user['Cluster'] = data_user['Cluster'].astype(str)\n",
        "data_user.head()"
      ],
      "execution_count": null,
      "outputs": []
    },
    {
      "cell_type": "code",
      "metadata": {
        "id": "89ZiMKG9tNcA"
      },
      "source": [
        "px.scatter(data_user, x='CustomerID', y='Sales', color='Cluster', template='plotly_dark', width=950,\n",
        "           title='DBSCAN - Wizualizacja klastrów')"
      ],
      "execution_count": null,
      "outputs": []
    },
    {
      "cell_type": "markdown",
      "metadata": {
        "id": "xu3nnRVIw4pm"
      },
      "source": [
        "### <a name='9'></a> Retencja, sprzedaż - KMeans"
      ]
    },
    {
      "cell_type": "code",
      "metadata": {
        "id": "SrYZdEaaw63_"
      },
      "source": [
        "data_user.head()"
      ],
      "execution_count": null,
      "outputs": []
    },
    {
      "cell_type": "code",
      "metadata": {
        "id": "hCszuhNXuGvt"
      },
      "source": [
        "px.scatter(data_user, x='RetentionScaled', y='SalesScaled', template='plotly_dark', width=950,\n",
        "           title='Retencja vs. Sprzedaż')"
      ],
      "execution_count": null,
      "outputs": []
    },
    {
      "cell_type": "code",
      "metadata": {
        "id": "BhAS8fDywqA9"
      },
      "source": [
        "data_scaled = data_user[['RetentionScaled', 'SalesScaled']]\n",
        "data_scaled.head()"
      ],
      "execution_count": null,
      "outputs": []
    },
    {
      "cell_type": "code",
      "metadata": {
        "id": "RSU3locLxweU"
      },
      "source": [
        "wcss = []\n",
        "for i in range(1, 10):\n",
        "    kmeans = KMeans(n_clusters=i, max_iter=1000)\n",
        "    kmeans.fit(data_scaled)\n",
        "    wcss.append(kmeans.inertia_)\n",
        "\n",
        "wcss = pd.DataFrame(data=np.c_[range(1, 10), wcss], columns=['NumberOfClusters', 'WCSS'])\n",
        "wcss"
      ],
      "execution_count": null,
      "outputs": []
    },
    {
      "cell_type": "code",
      "metadata": {
        "id": "sLrtMC0zx0FG"
      },
      "source": [
        "px.line(wcss, x='NumberOfClusters', y='WCSS', template='plotly_dark', color_discrete_sequence=['#03fcb5'], width=950,\n",
        "        title='WCSS')"
      ],
      "execution_count": null,
      "outputs": []
    },
    {
      "cell_type": "code",
      "metadata": {
        "id": "JiPWibunx7hw"
      },
      "source": [
        "kmeans = KMeans(n_clusters=5, max_iter=1000)\n",
        "kmeans.fit(data_scaled)"
      ],
      "execution_count": null,
      "outputs": []
    },
    {
      "cell_type": "code",
      "metadata": {
        "id": "ODSeVRsdyPS1"
      },
      "source": [
        "data_user['Cluster'] = kmeans.labels_\n",
        "data_user['Cluster'] = data_user['Cluster'].astype(str)\n",
        "data_user.head()"
      ],
      "execution_count": null,
      "outputs": []
    },
    {
      "cell_type": "code",
      "metadata": {
        "id": "mGzfj8C6x_C5"
      },
      "source": [
        "px.scatter(data_user, x='RetentionScaled', y='SalesScaled', color='Cluster', template='plotly_dark', width=950,\n",
        "           title='KMeans - Wizualizacja klastrów')"
      ],
      "execution_count": null,
      "outputs": []
    },
    {
      "cell_type": "code",
      "metadata": {
        "id": "uw3jg3828daO"
      },
      "source": [
        "centroids = kmeans.cluster_centers_\n",
        "centroids"
      ],
      "execution_count": null,
      "outputs": []
    },
    {
      "cell_type": "code",
      "metadata": {
        "id": "6ZBeMeq88cpn"
      },
      "source": [
        "fig = px.scatter(data_user, x='RetentionScaled', y='SalesScaled', color='Cluster', template='plotly_dark', width=900,\n",
        "                 title='KMeans - Wizualizacja klastrów + centroidy')\n",
        "fig.add_trace(go.Scatter(x=centroids[:, 0], y=centroids[:, 1], mode='markers', marker_symbol='star',\n",
        "                         marker_size=10, marker_color='white', showlegend=False))"
      ],
      "execution_count": null,
      "outputs": []
    },
    {
      "cell_type": "code",
      "metadata": {
        "id": "w3VI-Xh-yIV2"
      },
      "source": [
        "desc = data_user.groupby('Cluster')[['Retention', 'Sales']].describe()\n",
        "desc"
      ],
      "execution_count": null,
      "outputs": []
    },
    {
      "cell_type": "code",
      "metadata": {
        "id": "ZW_D8T3kAQnn"
      },
      "source": [
        "tmp = pd.merge(desc['Retention'][['count', 'mean']].reset_index(), desc['Sales'][['mean']].reset_index(), on='Cluster',\n",
        "         suffixes=('_Retention', '_Sales'))\n",
        "tmp"
      ],
      "execution_count": null,
      "outputs": []
    },
    {
      "cell_type": "code",
      "metadata": {
        "id": "d6ztVarY_H7i"
      },
      "source": [
        "px.bar(tmp, x='count', y='Cluster', hover_data=['mean_Retention', 'mean_Sales'], template='plotly_dark',\n",
        "       width=950, orientation='h', title='Rozkład klastrów')"
      ],
      "execution_count": null,
      "outputs": []
    },
    {
      "cell_type": "code",
      "metadata": {
        "id": "FC3rXfSm-jq4"
      },
      "source": [],
      "execution_count": null,
      "outputs": []
    }
  ]
}