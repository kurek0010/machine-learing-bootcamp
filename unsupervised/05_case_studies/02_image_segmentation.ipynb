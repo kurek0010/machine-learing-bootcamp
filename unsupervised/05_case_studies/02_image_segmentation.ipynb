{
  "nbformat": 4,
  "nbformat_minor": 0,
  "metadata": {
    "colab": {
      "name": "02_image_segmentation.ipynb",
      "provenance": [],
      "include_colab_link": true
    },
    "kernelspec": {
      "name": "python3",
      "display_name": "Python 3"
    }
  },
  "cells": [
    {
      "cell_type": "markdown",
      "metadata": {
        "id": "view-in-github",
        "colab_type": "text"
      },
      "source": [
        "<a href=\"https://colab.research.google.com/github/kurek0010/machine-learing-bootcamp/blob/main/unsupervised/05_case_studies/02_image_segmentation.ipynb\" target=\"_parent\"><img src=\"https://colab.research.google.com/assets/colab-badge.svg\" alt=\"Open In Colab\"/></a>"
      ]
    },
    {
      "cell_type": "markdown",
      "metadata": {
        "id": "C80St0V-_VIi"
      },
      "source": [
        "* @author: krakowiakpawel9@gmail.com  \n",
        "* @site: e-smartdata.org\n",
        "\n",
        "### OpenCV\n",
        "Strona biblioteki: [https://opencv.org/](https://opencv.org/)  \n",
        "\n",
        "Dokumentacja: [https://docs.opencv.org/](https://docs.opencv.org/)\n",
        "\n",
        "Podstawowa biblioteka do Computer Vision w języku Python.\n",
        "\n",
        "Aby zainstalować bibliotekę OpenCV, użyj polecenia poniżej:\n",
        "```\n",
        "!pip install opencv-python\n",
        "```\n",
        "Aby zaktualizować do najnowszej wersji użyj polecenia poniżej:\n",
        "```\n",
        "!pip install --upgrade opencv-python\n",
        "```\n",
        "Kurs stworzony w oparciu o wersję `4.1.2`\n",
        "\n",
        "### Spis treści:\n",
        "1. [Import bibliotek](#0)\n",
        "2. [Pobranie obrazów](#1)\n",
        "3. [Eksploracja](#2)\n",
        "4. [KMeans](#3)\n",
        "5. [Wizualizacja klastrów](#4)\n",
        "\n",
        "\n"
      ]
    },
    {
      "cell_type": "markdown",
      "metadata": {
        "id": "dCogYvFX_YD4"
      },
      "source": [
        "### <a name='0'></a> Import bibliotek"
      ]
    },
    {
      "cell_type": "code",
      "metadata": {
        "id": "YBNOq4d47jUi"
      },
      "source": [
        "import numpy as np\n",
        "import pandas as pd\n",
        "import cv2\n",
        "from google.colab.patches import cv2_imshow"
      ],
      "execution_count": null,
      "outputs": []
    },
    {
      "cell_type": "markdown",
      "metadata": {
        "id": "NOwkDdv-GDah"
      },
      "source": [
        "### <a name='1'></a> Pobranie obrazów"
      ]
    },
    {
      "cell_type": "code",
      "metadata": {
        "id": "bG9YG9EADw9q"
      },
      "source": [
        "!wget https://storage.googleapis.com/esmartdata-courses-files/ml-course/green.jpg\n",
        "!wget https://storage.googleapis.com/esmartdata-courses-files/ml-course/ski.jpg\n",
        "!wget https://storage.googleapis.com/esmartdata-courses-files/ml-course/view.jpg"
      ],
      "execution_count": null,
      "outputs": []
    },
    {
      "cell_type": "markdown",
      "metadata": {
        "id": "fD2DvJrzGJFr"
      },
      "source": [
        "### <a name='2'></a> Eksploracja"
      ]
    },
    {
      "cell_type": "code",
      "metadata": {
        "id": "iTr1luCO7oYg"
      },
      "source": [
        "img = cv2.imread('ski.jpg')\n",
        "img.shape"
      ],
      "execution_count": null,
      "outputs": []
    },
    {
      "cell_type": "code",
      "metadata": {
        "id": "MzryZ5MeJAGE"
      },
      "source": [
        "img"
      ],
      "execution_count": null,
      "outputs": []
    },
    {
      "cell_type": "code",
      "metadata": {
        "id": "w2tVCSyi8G34"
      },
      "source": [
        "cv2_imshow(img)"
      ],
      "execution_count": null,
      "outputs": []
    },
    {
      "cell_type": "code",
      "metadata": {
        "id": "JQHwNmXb9Zp6"
      },
      "source": [
        "# przygotowanie obrazu do modelu\n",
        "img_data = img.reshape((-1, 3))\n",
        "img_data = np.float32(img_data)\n",
        "img_data.shape"
      ],
      "execution_count": null,
      "outputs": []
    },
    {
      "cell_type": "code",
      "metadata": {
        "id": "QsIM3sCO-d38"
      },
      "source": [
        "df = pd.DataFrame(data=img_data, columns=['dim1', 'dim2', 'dim3'])\n",
        "df.head(3)"
      ],
      "execution_count": null,
      "outputs": []
    },
    {
      "cell_type": "markdown",
      "metadata": {
        "id": "q7edZ6u_GQK9"
      },
      "source": [
        "### <a name='3'></a> KMeans"
      ]
    },
    {
      "cell_type": "code",
      "metadata": {
        "id": "YI8c_FZ6_71p"
      },
      "source": [
        "cv2.kmeans?"
      ],
      "execution_count": null,
      "outputs": []
    },
    {
      "cell_type": "markdown",
      "metadata": {
        "id": "iK377i2pAr5Q"
      },
      "source": [
        "https://docs.opencv.org/master/d1/d5c/tutorial_py_kmeans_opencv.html"
      ]
    },
    {
      "cell_type": "code",
      "metadata": {
        "id": "u-iHcxeW8R3P"
      },
      "source": [
        "_, label, center = cv2.kmeans(\n",
        "    data=img_data,  # float32 data type\n",
        "    K=2,            # liczba klastrów\n",
        "    bestLabels=None,\n",
        "    criteria=(cv2.TERM_CRITERIA_EPS + cv2.TERM_CRITERIA_MAX_ITER, 10, 1.0),  # kryterium zatrzymania (typ, max_iter, eps)\n",
        "    attempts=10,    # liczba uruchomień algorytmu\n",
        "    flags=cv2.KMEANS_RANDOM_CENTERS)    # określenie inicjalizacji centroidów\n",
        "\n",
        "center = np.uint8(center)\n",
        "res = center[label.flatten()]\n",
        "res = res.reshape((img.shape))\n",
        "cv2_imshow(res)"
      ],
      "execution_count": null,
      "outputs": []
    },
    {
      "cell_type": "code",
      "metadata": {
        "id": "Jd5h5CvQ_bua"
      },
      "source": [
        "def make_kmeans(n_neighbor=2, img_name='ski.jpg'):\n",
        "\n",
        "    # wczytanie zdjęcia\n",
        "    img = cv2.imread(img_name)\n",
        "    cv2_imshow(img)\n",
        "\n",
        "    # przygotowanie zdjęcia\n",
        "    img_data = img.reshape((-1, 3))\n",
        "    img_data = np.float32(img_data)\n",
        "\n",
        "    # kmeans\n",
        "    _, label, center = cv2.kmeans(\n",
        "        data=img_data,\n",
        "        K=2,\n",
        "        bestLabels=None,\n",
        "        criteria=(cv2.TERM_CRITERIA_EPS + cv2.TERM_CRITERIA_MAX_ITER, 10, 1.0),\n",
        "        attempts=10,\n",
        "        flags=cv2.KMEANS_RANDOM_CENTERS)\n",
        "\n",
        "    # przygotowanie do wyświetlenia\n",
        "    center = np.uint8(center)\n",
        "    res = center[label.flatten()]\n",
        "    res = res.reshape((img.shape))\n",
        "    cv2_imshow(res)\n",
        "\n",
        "make_kmeans()"
      ],
      "execution_count": null,
      "outputs": []
    },
    {
      "cell_type": "code",
      "metadata": {
        "id": "ydzvURILCjSJ"
      },
      "source": [
        "make_kmeans(3, img_name='view.jpg')"
      ],
      "execution_count": null,
      "outputs": []
    },
    {
      "cell_type": "code",
      "metadata": {
        "id": "pCoV3NyUCpr4"
      },
      "source": [
        "make_kmeans(3, img_name='green.jpg')"
      ],
      "execution_count": null,
      "outputs": []
    },
    {
      "cell_type": "code",
      "metadata": {
        "id": "Kg0NLRwHC4VT"
      },
      "source": [],
      "execution_count": null,
      "outputs": []
    }
  ]
}