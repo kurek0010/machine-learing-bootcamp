{
  "nbformat": 4,
  "nbformat_minor": 0,
  "metadata": {
    "colab": {
      "name": "05_dbscan.ipynb",
      "provenance": [],
      "include_colab_link": true
    },
    "kernelspec": {
      "name": "python3",
      "display_name": "Python 3"
    }
  },
  "cells": [
    {
      "cell_type": "markdown",
      "metadata": {
        "id": "view-in-github",
        "colab_type": "text"
      },
      "source": [
        "<a href=\"https://colab.research.google.com/github/kurek0010/machine-learing-bootcamp/blob/main/unsupervised/01_clustering/05_dbscan.ipynb\" target=\"_parent\"><img src=\"https://colab.research.google.com/assets/colab-badge.svg\" alt=\"Open In Colab\"/></a>"
      ]
    },
    {
      "cell_type": "markdown",
      "metadata": {
        "id": "UbjsT92Xd3z1"
      },
      "source": [
        "* @author: krakowiakpawel9@gmail.com  \n",
        "* @site: e-smartdata.org\n",
        "\n",
        "### scikit-learn\n",
        "Strona biblioteki: [https://scikit-learn.org](https://scikit-learn.org)  \n",
        "\n",
        "Dokumentacja/User Guide: [https://scikit-learn.org/stable/user_guide.html](https://scikit-learn.org/stable/user_guide.html)\n",
        "\n",
        "Podstawowa biblioteka do uczenia maszynowego w języku Python.\n",
        "\n",
        "Aby zainstalować bibliotekę scikit-learn, użyj polecenia poniżej:\n",
        "```\n",
        "!pip install scikit-learn\n",
        "```\n",
        "Aby zaktualizować do najnowszej wersji bibliotekę scikit-learn, użyj polecenia poniżej:\n",
        "```\n",
        "!pip install --upgrade scikit-learn\n",
        "```\n",
        "Kurs stworzony w oparciu o wersję `0.22.1`\n",
        "\n",
        "### Spis treści:\n",
        "1. [Import bibliotek](#0)\n",
        "2. [Wygenerowanie danych i wizualizacja](#1)\n",
        "3. [DBSCAN](#2)\n",
        "4. [DBSCAN - wizualizacja](#3)\n",
        "5. [DBSCAN - 4 klastry](#4)"
      ]
    },
    {
      "cell_type": "markdown",
      "metadata": {
        "id": "aAuqm5ngPYRX"
      },
      "source": [
        "### <a name='0'></a> Import bibliotek"
      ]
    },
    {
      "cell_type": "code",
      "metadata": {
        "id": "VQ0ieU0UdN5D"
      },
      "source": [
        "import numpy as np\n",
        "import pandas as pd\n",
        "import plotly.express as px"
      ],
      "execution_count": null,
      "outputs": []
    },
    {
      "cell_type": "markdown",
      "metadata": {
        "id": "xajg7hGQPacy"
      },
      "source": [
        "### <a name='1'></a> Wygenerowanie danych i wizualizacja"
      ]
    },
    {
      "cell_type": "code",
      "metadata": {
        "id": "UDbWnF8rdceb"
      },
      "source": [
        "from sklearn.datasets import make_blobs\n",
        "\n",
        "data = make_blobs(n_samples=1000, centers=3, cluster_std=1.2, center_box=(-8.0, 8.0), random_state=42)[0]\n",
        "df = pd.DataFrame(data, columns=['x1', 'x2'])\n",
        "px.scatter(df, 'x1', 'x2', width=950, height=500, title='Klasteryzacja', template='plotly_dark')"
      ],
      "execution_count": null,
      "outputs": []
    },
    {
      "cell_type": "markdown",
      "metadata": {
        "id": "leT69jMBPfEU"
      },
      "source": [
        "### <a name='2'></a> DBSCAN"
      ]
    },
    {
      "cell_type": "code",
      "metadata": {
        "id": "HdtFxPkIliWD"
      },
      "source": [
        "from sklearn.cluster import DBSCAN\n",
        "\n",
        "cluster = DBSCAN(eps=0.5, min_samples=5)\n",
        "cluster.fit(data)"
      ],
      "execution_count": null,
      "outputs": []
    },
    {
      "cell_type": "code",
      "metadata": {
        "id": "_fgxvGOqmSQI"
      },
      "source": [
        "cluster.labels_[:10]"
      ],
      "execution_count": null,
      "outputs": []
    },
    {
      "cell_type": "markdown",
      "metadata": {
        "id": "hQMqqA-VPjNd"
      },
      "source": [
        "### <a name='3'></a> DBSCAN - wizualizacja"
      ]
    },
    {
      "cell_type": "code",
      "metadata": {
        "id": "3ux6h0qtl86b"
      },
      "source": [
        "df['cluster'] = cluster.labels_\n",
        "px.scatter(df, 'x1', 'x2', 'cluster', width=950, height=500, title='DBSCAN(eps=0.5, min_samples=5)',\n",
        "           template='plotly_dark', color_continuous_midpoint=0)"
      ],
      "execution_count": null,
      "outputs": []
    },
    {
      "cell_type": "code",
      "metadata": {
        "id": "FLFFUoUddWZ2"
      },
      "source": [
        "cluster = DBSCAN(eps=0.5, min_samples=7)\n",
        "cluster.fit(data)\n",
        "\n",
        "df['cluster'] = cluster.labels_\n",
        "px.scatter(df, 'x1', 'x2', 'cluster', width=950, height=500, title='DBSCAN(eps=0.5, min_samples=7)',\n",
        "           template='plotly_dark')"
      ],
      "execution_count": null,
      "outputs": []
    },
    {
      "cell_type": "code",
      "metadata": {
        "id": "Qdqnew-ud9ur"
      },
      "source": [
        "cluster = DBSCAN(eps=0.8, min_samples=5)\n",
        "cluster.fit(data)\n",
        "\n",
        "df['cluster'] = cluster.labels_\n",
        "px.scatter(df, 'x1', 'x2', 'cluster', width=950, height=500, title='DBSCAN(eps=0.7, min_samples=5)', template='plotly_dark')"
      ],
      "execution_count": null,
      "outputs": []
    },
    {
      "cell_type": "markdown",
      "metadata": {
        "id": "3zD7z6Empra7"
      },
      "source": [
        "### <a name='4'></a> DBSCAN - 4 klastry"
      ]
    },
    {
      "cell_type": "code",
      "metadata": {
        "id": "lO5h4EZWnNQu"
      },
      "source": [
        "data = make_blobs(n_samples=1000, centers=4, cluster_std=1.2, center_box=(-8.0, 8.0), random_state=43)[0]\n",
        "df = pd.DataFrame(data, columns=['x1', 'x2'])\n",
        "px.scatter(df, 'x1', 'x2', width=950, height=500, title='DBSCAN', template='plotly_dark')"
      ],
      "execution_count": null,
      "outputs": []
    },
    {
      "cell_type": "code",
      "metadata": {
        "id": "PxBak0Ukc8L6"
      },
      "source": [
        "cluster = DBSCAN(eps=0.5, min_samples=5)\n",
        "cluster.fit(data)\n",
        "\n",
        "df['cluster'] = cluster.labels_\n",
        "px.scatter(df, 'x1', 'x2', 'cluster', width=950, height=500, title='DBSCAN(eps=0.5, min_samples=5)', template='plotly_dark')"
      ],
      "execution_count": null,
      "outputs": []
    },
    {
      "cell_type": "code",
      "metadata": {
        "id": "IaA0QImcp6Jk"
      },
      "source": [
        "df.cluster.value_counts()"
      ],
      "execution_count": null,
      "outputs": []
    },
    {
      "cell_type": "markdown",
      "metadata": {
        "id": "s3tBUBP6shNO"
      },
      "source": [
        "Punkty graniczne, które są osiągalne z więcej niż jednego klastra, mogą być częścią każdego klastra, w zależności od kolejności przetwarzania danych. Taka sytuacja ma niewielki wpływ na wynik klastrowania."
      ]
    },
    {
      "cell_type": "code",
      "metadata": {
        "id": "-s6yFBYZdBJ7"
      },
      "source": [
        "cluster = DBSCAN(eps=0.8, min_samples=5)\n",
        "cluster.fit(data)\n",
        "\n",
        "df['cluster'] = cluster.labels_\n",
        "px.scatter(df, 'x1', 'x2', 'cluster', width=950, height=500, title='DBSCAN(eps=0.8, min_samples=5)', template='plotly_dark')"
      ],
      "execution_count": null,
      "outputs": []
    },
    {
      "cell_type": "code",
      "metadata": {
        "id": "7zA4GD3Ze1Qh"
      },
      "source": [
        "cluster = DBSCAN(eps=0.6, min_samples=6)\n",
        "cluster.fit(data)\n",
        "\n",
        "df['cluster'] = cluster.labels_\n",
        "px.scatter(df, 'x1', 'x2', 'cluster', width=950, height=500, title='DBSCAN(eps=0.6, min_samples=6)', template='plotly_dark')"
      ],
      "execution_count": null,
      "outputs": []
    },
    {
      "cell_type": "code",
      "metadata": {
        "id": "fXLTT-gm5_Ds"
      },
      "source": [
        "DBSCAN?"
      ],
      "execution_count": null,
      "outputs": []
    },
    {
      "cell_type": "code",
      "source": [],
      "metadata": {
        "id": "1EbeGJtMdRKz"
      },
      "execution_count": null,
      "outputs": []
    }
  ]
}