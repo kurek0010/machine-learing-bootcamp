{
  "nbformat": 4,
  "nbformat_minor": 0,
  "metadata": {
    "colab": {
      "name": "03_kmeans_elbow_method.ipynb",
      "provenance": [],
      "include_colab_link": true
    },
    "kernelspec": {
      "name": "python3",
      "display_name": "Python 3"
    }
  },
  "cells": [
    {
      "cell_type": "markdown",
      "metadata": {
        "id": "view-in-github",
        "colab_type": "text"
      },
      "source": [
        "<a href=\"https://colab.research.google.com/github/kurek0010/machine-learing-bootcamp/blob/main/unsupervised/01_clustering/03_kmeans_elbow_method.ipynb\" target=\"_parent\"><img src=\"https://colab.research.google.com/assets/colab-badge.svg\" alt=\"Open In Colab\"/></a>"
      ]
    },
    {
      "cell_type": "markdown",
      "metadata": {
        "id": "U7hV6-UrESnz"
      },
      "source": [
        "* @author: krakowiakpawel9@gmail.com  \n",
        "* @site: e-smartdata.org\n",
        "\n",
        "### scikit-learn\n",
        "Strona biblioteki: [https://scikit-learn.org](https://scikit-learn.org)  \n",
        "\n",
        "Dokumentacja/User Guide: [https://scikit-learn.org/stable/user_guide.html](https://scikit-learn.org/stable/user_guide.html)\n",
        "\n",
        "Podstawowa biblioteka do uczenia maszynowego w języku Python.\n",
        "\n",
        "Aby zainstalować bibliotekę scikit-learn, użyj polecenia poniżej:\n",
        "```\n",
        "!pip install scikit-learn\n",
        "```\n",
        "Aby zaktualizować do najnowszej wersji bibliotekę scikit-learn, użyj polecenia poniżej:\n",
        "```\n",
        "!pip install --upgrade scikit-learn\n",
        "```\n",
        "Kurs stworzony w oparciu o wersję `0.22.1`\n",
        "\n",
        "### Spis treści:\n",
        "1. [Import bibliotek](#0)\n",
        "2. [Wygenerowanie danych](#1)\n",
        "3. [Algorytm K-średnich](#2)\n",
        "4. [WCSS - Within-Cluster Sum-of-Squared](#3)\n",
        "5. [Metoda \"łokcia\" - Elbow Method](#4)\n",
        "6. [Wizualizacja klastrów](#5)\n",
        "\n"
      ]
    },
    {
      "cell_type": "markdown",
      "metadata": {
        "id": "0ARh02_sEVBo"
      },
      "source": [
        "### <a name='0'></a> Import bibliotek"
      ]
    },
    {
      "cell_type": "code",
      "metadata": {
        "id": "NFP7N7s_b86B"
      },
      "source": [
        "import pandas as pd\n",
        "import plotly.express as px\n",
        "import plotly.graph_objects as go\n",
        "import matplotlib.pyplot as plt\n",
        "import seaborn as sns\n",
        "\n",
        "sns.set(font_scale=1.3)"
      ],
      "execution_count": null,
      "outputs": []
    },
    {
      "cell_type": "markdown",
      "metadata": {
        "id": "oNXviN0PEXfT"
      },
      "source": [
        "### <a name='1'></a> Wygenerowanie danych"
      ]
    },
    {
      "cell_type": "code",
      "metadata": {
        "id": "FYjBghtPcV7u"
      },
      "source": [
        "from sklearn.datasets import make_blobs\n",
        "\n",
        "data = make_blobs(n_samples=1000, centers=4, cluster_std=1.5, center_box=(-8.0, 8.0), random_state=42)[0]\n",
        "df = pd.DataFrame(data, columns=['x1', 'x2'])\n",
        "\n",
        "px.scatter(df, 'x1', 'x2', width=950, height=500, title='Algorytm K-średnich', template='plotly_dark')"
      ],
      "execution_count": null,
      "outputs": []
    },
    {
      "cell_type": "markdown",
      "metadata": {
        "id": "tilw4-MJEksf"
      },
      "source": [
        "### <a name='2'></a> Algorytm K-średnich"
      ]
    },
    {
      "cell_type": "code",
      "metadata": {
        "id": "qhTYsjW5dz8c"
      },
      "source": [
        "from sklearn.cluster import KMeans\n",
        "\n",
        "kmeans = KMeans(n_clusters=5)\n",
        "kmeans.fit(data)"
      ],
      "execution_count": null,
      "outputs": []
    },
    {
      "cell_type": "code",
      "metadata": {
        "id": "K5oUlLfTi7UF"
      },
      "source": [
        "# wcss\n",
        "kmeans.inertia_"
      ],
      "execution_count": null,
      "outputs": []
    },
    {
      "cell_type": "code",
      "metadata": {
        "id": "5-LodvGKfBk9"
      },
      "source": [
        "y_kmeans = kmeans.predict(data)\n",
        "df['y_kmeans'] = y_kmeans\n",
        "df.head()"
      ],
      "execution_count": null,
      "outputs": []
    },
    {
      "cell_type": "code",
      "metadata": {
        "id": "f-LS-hLlfRW1"
      },
      "source": [
        "px.scatter(df, 'x1', 'x2', 'y_kmeans', width=950, height=500, title='Algorytm K-średnich - 5 klastrów',\n",
        "           template='plotly_dark')"
      ],
      "execution_count": null,
      "outputs": []
    },
    {
      "cell_type": "markdown",
      "metadata": {
        "id": "wsitkMBzEjFj"
      },
      "source": [
        "### <a name='3'></a> WCSS - Within-Cluster Sum-of-Squared"
      ]
    },
    {
      "cell_type": "code",
      "metadata": {
        "id": "cfeEhYBXfV6u"
      },
      "source": [
        "wcss = []\n",
        "for i in range(2, 10):\n",
        "    kmeans = KMeans(n_clusters=i)\n",
        "    kmeans.fit(data)\n",
        "    wcss.append(kmeans.inertia_)\n",
        "\n",
        "print(wcss)"
      ],
      "execution_count": null,
      "outputs": []
    },
    {
      "cell_type": "code",
      "metadata": {
        "id": "Tb98zvGrjO9m"
      },
      "source": [
        "wcss = pd.DataFrame(wcss, columns=['wcss'])\n",
        "wcss = wcss.reset_index()\n",
        "wcss = wcss.rename(columns={'index': 'clusters'})\n",
        "wcss['clusters'] += 1\n",
        "wcss.head()"
      ],
      "execution_count": null,
      "outputs": []
    },
    {
      "cell_type": "markdown",
      "metadata": {
        "id": "7o8Wk824E43S"
      },
      "source": [
        "### <a name='4'></a> Metoda \"łokcia\" - Elbow Method"
      ]
    },
    {
      "cell_type": "code",
      "metadata": {
        "id": "qV9WfvoejI96"
      },
      "source": [
        "px.line(wcss, x='clusters', y='wcss', width=950, height=500, title='Within-Cluster-Sum of Squared Errors (WCSS)',\n",
        "        template='plotly_dark')"
      ],
      "execution_count": null,
      "outputs": []
    },
    {
      "cell_type": "markdown",
      "metadata": {
        "id": "rj5lwAyRFPpa"
      },
      "source": [
        "### <a name='5'></a> Wizualizacja klastrów"
      ]
    },
    {
      "cell_type": "code",
      "metadata": {
        "id": "BFNrYKucjOH5"
      },
      "source": [
        "kmeans = KMeans(n_clusters=3)\n",
        "kmeans.fit(data)\n",
        "\n",
        "y_kmeans = kmeans.predict(data)\n",
        "df['y_kmeans'] = y_kmeans\n",
        "\n",
        "px.scatter(df, 'x1', 'x2', 'y_kmeans', width=950, height=500, title='Algorytm K-średnich - 3 klastry',\n",
        "           template='plotly_dark')"
      ],
      "execution_count": null,
      "outputs": []
    },
    {
      "cell_type": "code",
      "metadata": {
        "id": "IqdFDnfHsPx6"
      },
      "source": [
        "centers = pd.DataFrame(data=kmeans.cluster_centers_, columns=['c1', 'c2'])\n",
        "centers"
      ],
      "execution_count": null,
      "outputs": []
    },
    {
      "cell_type": "code",
      "metadata": {
        "id": "M0fxVg4VfBBm"
      },
      "source": [
        "fig = px.scatter(df, 'x1', 'x2', 'y_kmeans', width=950, height=500,\n",
        "                 title='Algorytm K-średnich - 3 klastry', template='plotly_dark')\n",
        "fig.add_trace(go.Scatter(x=centers['c1'], y=centers['c2'], mode='markers',\n",
        "                         marker={'size': 12, 'color': 'LightSkyBlue', 'line': {'width': 2, 'color': 'tomato'}},\n",
        "                         showlegend=False))\n",
        "fig.show()"
      ],
      "execution_count": null,
      "outputs": []
    },
    {
      "cell_type": "code",
      "metadata": {
        "id": "k-oTEvZaqkIk"
      },
      "source": [
        "from mlxtend.plotting import plot_decision_regions\n",
        "\n",
        "plt.figure(figsize=(15, 8))\n",
        "plt.title('Granice decyzyjne')\n",
        "plot_decision_regions(data, y_kmeans, clf=kmeans, legend=1)\n",
        "plt.scatter(kmeans.cluster_centers_[:, 0], kmeans.cluster_centers_[:, 1], s=100, c='yellow')\n",
        "plt.show()"
      ],
      "execution_count": null,
      "outputs": []
    },
    {
      "cell_type": "code",
      "metadata": {
        "id": "cxiYAHcQrbyC"
      },
      "source": [],
      "execution_count": null,
      "outputs": []
    }
  ]
}