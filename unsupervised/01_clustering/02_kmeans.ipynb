{
  "nbformat": 4,
  "nbformat_minor": 0,
  "metadata": {
    "colab": {
      "name": "02_kmeans.ipynb",
      "provenance": [],
      "include_colab_link": true
    },
    "kernelspec": {
      "name": "python3",
      "display_name": "Python 3"
    }
  },
  "cells": [
    {
      "cell_type": "markdown",
      "metadata": {
        "id": "view-in-github",
        "colab_type": "text"
      },
      "source": [
        "<a href=\"https://colab.research.google.com/github/kurek0010/machine-learing-bootcamp/blob/main/unsupervised/01_clustering/02_kmeans.ipynb\" target=\"_parent\"><img src=\"https://colab.research.google.com/assets/colab-badge.svg\" alt=\"Open In Colab\"/></a>"
      ]
    },
    {
      "cell_type": "markdown",
      "metadata": {
        "id": "C80St0V-_VIi"
      },
      "source": [
        "* @author: krakowiakpawel9@gmail.com  \n",
        "* @site: e-smartdata.org\n",
        "\n",
        "### scikit-learn\n",
        "Strona biblioteki: [https://scikit-learn.org](https://scikit-learn.org)  \n",
        "\n",
        "Dokumentacja/User Guide: [https://scikit-learn.org/stable/user_guide.html](https://scikit-learn.org/stable/user_guide.html)\n",
        "\n",
        "Podstawowa biblioteka do uczenia maszynowego w języku Python.\n",
        "\n",
        "Aby zainstalować bibliotekę scikit-learn, użyj polecenia poniżej:\n",
        "```\n",
        "!pip install scikit-learn\n",
        "```\n",
        "Aby zaktualizować do najnowszej wersji bibliotekę scikit-learn, użyj polecenia poniżej:\n",
        "```\n",
        "!pip install --upgrade scikit-learn\n",
        "```\n",
        "Kurs stworzony w oparciu o wersję `0.22.1`\n",
        "\n",
        "### Spis treści:\n",
        "1. [Import bibliotek](#0)\n",
        "2. [Wygenerowanie danych](#1)\n",
        "3. [Wizualizacja danych](#2)\n",
        "4. [Algorytm K-średnich](#3)\n",
        "5. [Wizualizacja klastrów](#4)\n",
        "\n",
        "\n"
      ]
    },
    {
      "cell_type": "markdown",
      "metadata": {
        "id": "dCogYvFX_YD4"
      },
      "source": [
        "### <a name='0'></a> Import bibliotek"
      ]
    },
    {
      "cell_type": "code",
      "metadata": {
        "id": "NFP7N7s_b86B"
      },
      "source": [
        "import pandas as pd\n",
        "import plotly.express as px"
      ],
      "execution_count": null,
      "outputs": []
    },
    {
      "cell_type": "markdown",
      "metadata": {
        "id": "ObDll5R__a8O"
      },
      "source": [
        "### <a name='1'></a> Wygenerowanie danych"
      ]
    },
    {
      "cell_type": "code",
      "metadata": {
        "id": "FYjBghtPcV7u"
      },
      "source": [
        "from sklearn.datasets import make_blobs\n",
        "\n",
        "data = make_blobs(n_samples=1000, centers=None, cluster_std=1.0, center_box=(-4.0, 4.0), random_state=42)[0]\n",
        "df = pd.DataFrame(data, columns=['x1', 'x2'])\n",
        "df.head()"
      ],
      "execution_count": null,
      "outputs": []
    },
    {
      "cell_type": "markdown",
      "metadata": {
        "id": "Tm9VDbBY_e-P"
      },
      "source": [
        "### <a name='2'></a> Wizualizacja danych"
      ]
    },
    {
      "cell_type": "code",
      "metadata": {
        "id": "IErGtrV7dwSH"
      },
      "source": [
        "px.scatter(df, 'x1', 'x2', width=950, height=500, title='Klasteryzacja - Algorytm K-średnich')"
      ],
      "execution_count": null,
      "outputs": []
    },
    {
      "cell_type": "markdown",
      "metadata": {
        "id": "G2vw4crN_kMd"
      },
      "source": [
        "### <a name='3'></a> Algorytm K-średnich"
      ]
    },
    {
      "cell_type": "code",
      "metadata": {
        "id": "qhTYsjW5dz8c"
      },
      "source": [
        "from sklearn.cluster import KMeans\n",
        "\n",
        "kmeans = KMeans(n_clusters=4)\n",
        "kmeans.fit(data)"
      ],
      "execution_count": null,
      "outputs": []
    },
    {
      "cell_type": "code",
      "metadata": {
        "id": "5-LodvGKfBk9"
      },
      "source": [
        "y_kmeans = kmeans.predict(data)\n",
        "y_kmeans[:10]"
      ],
      "execution_count": null,
      "outputs": []
    },
    {
      "cell_type": "code",
      "metadata": {
        "id": "M3i0FGA6fKIR"
      },
      "source": [
        "df['y_kmeans'] = y_kmeans\n",
        "df.head()"
      ],
      "execution_count": null,
      "outputs": []
    },
    {
      "cell_type": "markdown",
      "metadata": {
        "id": "_AlFuf1k_tC0"
      },
      "source": [
        "### <a name='4'></a> Wizualizacja klastrów"
      ]
    },
    {
      "cell_type": "code",
      "metadata": {
        "id": "f-LS-hLlfRW1"
      },
      "source": [
        "px.scatter(df, 'x1', 'x2', 'y_kmeans', width=950, height=500, title='Algorytm K-średnich - 3 klastry')"
      ],
      "execution_count": null,
      "outputs": []
    },
    {
      "cell_type": "code",
      "metadata": {
        "id": "syj9XB3LOLoY"
      },
      "source": [],
      "execution_count": null,
      "outputs": []
    }
  ]
}