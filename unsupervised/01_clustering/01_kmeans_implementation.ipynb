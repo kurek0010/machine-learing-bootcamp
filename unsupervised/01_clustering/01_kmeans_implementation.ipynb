{
  "nbformat": 4,
  "nbformat_minor": 0,
  "metadata": {
    "colab": {
      "name": "01_kmeans_implementation.ipynb",
      "provenance": [],
      "include_colab_link": true
    },
    "kernelspec": {
      "name": "python3",
      "display_name": "Python 3"
    }
  },
  "cells": [
    {
      "cell_type": "markdown",
      "metadata": {
        "id": "view-in-github",
        "colab_type": "text"
      },
      "source": [
        "<a href=\"https://colab.research.google.com/github/kurek0010/machine-learing-bootcamp/blob/main/unsupervised/01_clustering/01_kmeans_implementation.ipynb\" target=\"_parent\"><img src=\"https://colab.research.google.com/assets/colab-badge.svg\" alt=\"Open In Colab\"/></a>"
      ]
    },
    {
      "cell_type": "markdown",
      "metadata": {
        "id": "Nm92GcwHAxNF"
      },
      "source": [
        "* @author: krakowiakpawel9@gmail.com  \n",
        "* @site: e-smartdata.org\n",
        "\n",
        "### scikit-learn\n",
        "Strona biblioteki: [https://scikit-learn.org](https://scikit-learn.org)  \n",
        "\n",
        "Dokumentacja/User Guide: [https://scikit-learn.org/stable/user_guide.html](https://scikit-learn.org/stable/user_guide.html)\n",
        "\n",
        "Podstawowa biblioteka do uczenia maszynowego w języku Python.\n",
        "\n",
        "Aby zainstalować bibliotekę scikit-learn, użyj polecenia poniżej:\n",
        "```\n",
        "!pip install scikit-learn\n",
        "```\n",
        "Aby zaktualizować do najnowszej wersji bibliotekę scikit-learn, użyj polecenia poniżej:\n",
        "```\n",
        "!pip install --upgrade scikit-learn\n",
        "```\n",
        "Kurs stworzony w oparciu o wersję `0.22.1`\n",
        "\n",
        "### Spis treści:\n",
        "1. [Import bibliotek](#0)\n",
        "2. [Wygenerowanie danych](#1)\n",
        "3. [Wizualizacja danych](#2)\n",
        "4. [Implementacja algorytmu K-średnich](#3)\n",
        "5. [Implementacja algorytmu K-średnich - podsumowanie](#4)\n",
        "6. [Implementacja algorytmu K-średnich - wizualizacja](#5)\n",
        "\n"
      ]
    },
    {
      "cell_type": "markdown",
      "metadata": {
        "id": "7uILM3-EAzkS"
      },
      "source": [
        "### <a name='0'></a> Import bibliotek"
      ]
    },
    {
      "cell_type": "code",
      "metadata": {
        "id": "NFP7N7s_b86B"
      },
      "source": [
        "import numpy as np\n",
        "from numpy.linalg import norm\n",
        "import pandas as pd\n",
        "import random\n",
        "import plotly.express as px\n",
        "import plotly.graph_objects as go\n",
        "\n",
        "np.random.seed(42)\n",
        "np.set_printoptions(precision=6)\n",
        "random.seed(41)"
      ],
      "execution_count": null,
      "outputs": []
    },
    {
      "cell_type": "markdown",
      "metadata": {
        "id": "qptuaVaQA1yw"
      },
      "source": [
        "### <a name='1'></a> Wygenerowanie danych"
      ]
    },
    {
      "cell_type": "code",
      "metadata": {
        "id": "cfeEhYBXfV6u"
      },
      "source": [
        "from sklearn.datasets import make_blobs\n",
        "\n",
        "data = make_blobs(n_samples=40, centers=2, cluster_std=1.0, center_box=(-4.0, 4.0), random_state=42)[0]\n",
        "df = pd.DataFrame(data, columns=['x1', 'x2'])\n",
        "df.head()"
      ],
      "execution_count": null,
      "outputs": []
    },
    {
      "cell_type": "markdown",
      "metadata": {
        "id": "XDlNEH5jA4s0"
      },
      "source": [
        "### <a name='2'></a> Wizualizacja danych"
      ]
    },
    {
      "cell_type": "code",
      "metadata": {
        "id": "6OAclhDkiJLa"
      },
      "source": [
        "fig = px.scatter(df, 'x1', 'x2', width=950, height=500, title='Algorytm K-średnich')\n",
        "fig.update_traces(marker_size=12)"
      ],
      "execution_count": null,
      "outputs": []
    },
    {
      "cell_type": "markdown",
      "metadata": {
        "id": "XHz0pjBvBMXf"
      },
      "source": [
        "### <a name='3'></a> Implementacja algorytmu K-średnich"
      ]
    },
    {
      "cell_type": "code",
      "metadata": {
        "id": "DUqdh3lriwtG"
      },
      "source": [
        "# wyznaczenie wartości brzegowych\n",
        "x1_min = df.x1.min()\n",
        "x1_max = df.x1.max()\n",
        "\n",
        "x2_min = df.x2.min()\n",
        "x2_max = df.x2.max()\n",
        "\n",
        "print(x1_min, x1_max)\n",
        "print(x2_min, x2_max)"
      ],
      "execution_count": null,
      "outputs": []
    },
    {
      "cell_type": "code",
      "metadata": {
        "id": "OKEXDNR2nNaE"
      },
      "source": [
        "# losowe wygnererowanie współrzędnych centroidów\n",
        "centroid_1 = np.array([random.uniform(x1_min, x1_max), random.uniform(x2_min, x2_max)])\n",
        "centroid_2 = np.array([random.uniform(x1_min, x1_max), random.uniform(x2_min, x2_max)])\n",
        "print(centroid_1)\n",
        "print(centroid_2)"
      ],
      "execution_count": null,
      "outputs": []
    },
    {
      "cell_type": "code",
      "metadata": {
        "id": "WOUVrsUXoNmk"
      },
      "source": [
        "# wizualizacja tzw. punktów startowych centroidów\n",
        "fig = px.scatter(df, 'x1', 'x2', width=950, height=500, title='Algorytm K-średnich - inicjalizacja centroidów')\n",
        "fig.add_trace(go.Scatter(x=[centroid_1[0]], y=[centroid_1[1]], name='centroid 1', mode='markers', marker_line_width=3))\n",
        "fig.add_trace(go.Scatter(x=[centroid_2[0]], y=[centroid_2[1]], name='centroid 2', mode='markers', marker_line_width=3))\n",
        "fig.update_traces(marker_size=12, showlegend=False)"
      ],
      "execution_count": null,
      "outputs": []
    },
    {
      "cell_type": "code",
      "metadata": {
        "id": "bcUP-CxeofET"
      },
      "source": [
        "# przypisanie punktów do najbliższego centroidu\n",
        "clusters = []\n",
        "for point in data:\n",
        "    centroid_1_dist = norm(centroid_1 - point)\n",
        "    centroid_2_dist = norm(centroid_2 - point)\n",
        "    cluster = 1\n",
        "    if centroid_1_dist > centroid_2_dist:\n",
        "        cluster = 2\n",
        "    clusters.append(cluster)\n",
        "\n",
        "df['cluster'] = clusters\n",
        "df.head()"
      ],
      "execution_count": null,
      "outputs": []
    },
    {
      "cell_type": "code",
      "metadata": {
        "id": "8N6sWgT2sTqx"
      },
      "source": [
        "# wizualizacja przypisania\n",
        "fig = px.scatter(df, 'x1', 'x2', color='cluster', width=950, height=500,\n",
        "                 title='Algorytm K-średnich - iteracja 1 - przypisanie punktów do najbliższego centroidu')\n",
        "fig.add_trace(go.Scatter(x=[centroid_1[0]], y=[centroid_1[1]], name='centroid 1', mode='markers', marker_line_width=3))\n",
        "fig.add_trace(go.Scatter(x=[centroid_2[0]], y=[centroid_2[1]], name='centroid 2', mode='markers', marker_line_width=3))\n",
        "fig.update_traces(marker_size=12)\n",
        "fig.update_layout(showlegend=False)"
      ],
      "execution_count": null,
      "outputs": []
    },
    {
      "cell_type": "code",
      "metadata": {
        "id": "VEiDmE3ltKX9"
      },
      "source": [
        "# obliczenie nowych współrzędnych centroidów\n",
        "new_centroid_1 = [df[df.cluster == 1].x1.mean(), df[df.cluster == 1].x2.mean()]\n",
        "new_centroid_2 = [df[df.cluster == 2].x1.mean(), df[df.cluster == 2].x2.mean()]\n",
        "\n",
        "print(new_centroid_1, new_centroid_2)"
      ],
      "execution_count": null,
      "outputs": []
    },
    {
      "cell_type": "code",
      "metadata": {
        "id": "npHyCmmKwLgg"
      },
      "source": [
        "# wizualizacja aktualizacji centroidów\n",
        "fig = px.scatter(df, 'x1', 'x2', color='cluster', width=950, height=500,\n",
        "                 title='Algorytm K-średnich - obliczenie nowych centroidów')\n",
        "fig.add_trace(go.Scatter(x=[centroid_1[0]], y=[centroid_1[1]], name='centroid 1', mode='markers', marker_line_width=3))\n",
        "fig.add_trace(go.Scatter(x=[centroid_2[0]], y=[centroid_2[1]], name='centroid 2', mode='markers', marker_line_width=3))\n",
        "fig.add_trace(go.Scatter(x=[new_centroid_1[0]], y=[new_centroid_1[1]], name='centroid 1', mode='markers', marker_line_width=3))\n",
        "fig.add_trace(go.Scatter(x=[new_centroid_2[0]], y=[new_centroid_2[1]], name='centroid 2', mode='markers', marker_line_width=3))\n",
        "fig.update_traces(marker_size=12)\n",
        "fig.update_layout(showlegend=False)"
      ],
      "execution_count": null,
      "outputs": []
    },
    {
      "cell_type": "code",
      "metadata": {
        "id": "JJSOgCviwoxE"
      },
      "source": [
        "fig = px.scatter(df, 'x1', 'x2', color='cluster', width=950, height=500,\n",
        "                 title='Algorytm K-średnich - aktualizacja centroidów')\n",
        "fig.add_trace(go.Scatter(x=[new_centroid_1[0]], y=[new_centroid_1[1]], name='centroid 1', mode='markers', marker_line_width=3))\n",
        "fig.add_trace(go.Scatter(x=[new_centroid_2[0]], y=[new_centroid_2[1]], name='centroid 2', mode='markers', marker_line_width=3))\n",
        "fig.update_traces(marker_size=12)\n",
        "fig.update_layout(showlegend=False)"
      ],
      "execution_count": null,
      "outputs": []
    },
    {
      "cell_type": "code",
      "metadata": {
        "id": "_7y8AbQBwz_7"
      },
      "source": [
        "# ponowne przypisanie punktów do najbliższego centroidu\n",
        "clusters = []\n",
        "for point in data:\n",
        "    centroid_1_dist = norm(new_centroid_1 - point)\n",
        "    centroid_2_dist = norm(new_centroid_2 - point)\n",
        "    cluster = 1\n",
        "    if centroid_1_dist > centroid_2_dist:\n",
        "        cluster = 2\n",
        "    clusters.append(cluster)\n",
        "\n",
        "df['cluster'] = clusters\n",
        "df.head()"
      ],
      "execution_count": null,
      "outputs": []
    },
    {
      "cell_type": "code",
      "metadata": {
        "id": "GHhWiKxXw923"
      },
      "source": [
        "fig = px.scatter(df, 'x1', 'x2', color='cluster', width=950, height=500,\n",
        "                 title='Algorytm K-średnich - iteracja 2 - ponowne przypisanie punktów')\n",
        "fig.add_trace(go.Scatter(x=[new_centroid_1[0]], y=[new_centroid_1[1]], name='centroid 1', mode='markers', marker_line_width=3))\n",
        "fig.add_trace(go.Scatter(x=[new_centroid_2[0]], y=[new_centroid_2[1]], name='centroid 2', mode='markers', marker_line_width=3))\n",
        "fig.update_traces(marker_size=12)\n",
        "fig.update_layout(showlegend=False)"
      ],
      "execution_count": null,
      "outputs": []
    },
    {
      "cell_type": "code",
      "metadata": {
        "id": "hSiu_pbUxC85"
      },
      "source": [
        "# aktualizacja centroidów\n",
        "new_2_centroid_1 = [df[df.cluster == 1].x1.mean(), df[df.cluster == 1].x2.mean()]\n",
        "new_2_centroid_2 = [df[df.cluster == 2].x1.mean(), df[df.cluster == 2].x2.mean()]\n",
        "\n",
        "print(new_2_centroid_1, new_2_centroid_2)"
      ],
      "execution_count": null,
      "outputs": []
    },
    {
      "cell_type": "code",
      "metadata": {
        "id": "aTMazrhzybD8"
      },
      "source": [
        "# aktualizacja centroidów\n",
        "fig = px.scatter(df, 'x1', 'x2', color='cluster', width=950, height=500,\n",
        "                 title='Algorytm K-średnich - ponowne obliczenie centroidów')\n",
        "fig.add_trace(go.Scatter(x=[new_centroid_1[0]], y=[new_centroid_1[1]], name='centroid 1', mode='markers', marker_line_width=3))\n",
        "fig.add_trace(go.Scatter(x=[new_centroid_2[0]], y=[new_centroid_2[1]], name='centroid 2', mode='markers', marker_line_width=3))\n",
        "fig.add_trace(go.Scatter(x=[new_2_centroid_1[0]], y=[new_2_centroid_1[1]], name='centroid 1', mode='markers', marker_line_width=3))\n",
        "fig.add_trace(go.Scatter(x=[new_2_centroid_2[0]], y=[new_2_centroid_2[1]], name='centroid 2', mode='markers', marker_line_width=3))\n",
        "fig.update_traces(marker_size=12)\n",
        "fig.update_layout(showlegend=False)"
      ],
      "execution_count": null,
      "outputs": []
    },
    {
      "cell_type": "code",
      "metadata": {
        "id": "SHgoOKEsyj-t"
      },
      "source": [
        "clusters = []\n",
        "for point in data:\n",
        "    centroid_1_dist = norm(new_centroid_1 - point)\n",
        "    centroid_2_dist = norm(new_centroid_2 - point)\n",
        "    cluster = 1\n",
        "    if centroid_1_dist > centroid_2_dist:\n",
        "        cluster = 2\n",
        "    clusters.append(cluster)\n",
        "\n",
        "df['cluster'] = clusters\n",
        "df.head()"
      ],
      "execution_count": null,
      "outputs": []
    },
    {
      "cell_type": "code",
      "metadata": {
        "id": "hq-JcNPZynek"
      },
      "source": [
        "fig = px.scatter(df, 'x1', 'x2', color='cluster', width=950, height=500,\n",
        "                 title='Algorytm K-średnich - aktualzacja centroidów')\n",
        "fig.add_trace(go.Scatter(x=[new_2_centroid_1[0]], y=[new_2_centroid_1[1]], name='centroid 1', mode='markers', marker_line_width=3))\n",
        "fig.add_trace(go.Scatter(x=[new_2_centroid_2[0]], y=[new_2_centroid_2[1]], name='centroid 2', mode='markers', marker_line_width=3))\n",
        "fig.update_traces(marker_size=12)\n",
        "fig.update_layout(showlegend=False)"
      ],
      "execution_count": null,
      "outputs": []
    },
    {
      "cell_type": "markdown",
      "metadata": {
        "id": "DmlaZxJCCXVp"
      },
      "source": [
        "### <a name='4'></a> Implementacja algorytmu K-średnich - podsumowanie"
      ]
    },
    {
      "cell_type": "code",
      "metadata": {
        "id": "Uck5ZCQoyruL"
      },
      "source": [
        "data = make_blobs(n_samples=40, centers=2, cluster_std=1.0, center_box=(-4.0, 4.0), random_state=42)[0]\n",
        "df = pd.DataFrame(data, columns=['x1', 'x2'])\n",
        "df.head()\n",
        "\n",
        "x1_min = df.x1.min()\n",
        "x1_max = df.x1.max()\n",
        "\n",
        "x2_min = df.x2.min()\n",
        "x2_max = df.x2.max()\n",
        "\n",
        "centroid_1 = np.array([random.uniform(x1_min, x1_max), random.uniform(x2_min, x2_max)])\n",
        "centroid_2 = np.array([random.uniform(x1_min, x1_max), random.uniform(x2_min, x2_max)])\n",
        "\n",
        "for i in range(10):\n",
        "    clusters = []\n",
        "    for point in data:\n",
        "        centroid_1_dist = norm(centroid_1 - point)\n",
        "        centroid_2_dist = norm(centroid_2 - point)\n",
        "        cluster = 1\n",
        "        if centroid_1_dist > centroid_2_dist:\n",
        "            cluster = 2\n",
        "        clusters.append(cluster)\n",
        "\n",
        "    df['cluster'] = clusters\n",
        "\n",
        "    centroid_1 = [df[df.cluster == 1].x1.mean(), df[df.cluster == 1].x2.mean()]\n",
        "    centroid_2 = [df[df.cluster == 2].x1.mean(), df[df.cluster == 2].x2.mean()]\n",
        "\n",
        "print(new_centroid_1, new_centroid_2)"
      ],
      "execution_count": null,
      "outputs": []
    },
    {
      "cell_type": "markdown",
      "metadata": {
        "id": "UHisO1XKCi8w"
      },
      "source": [
        "### <a name='5'></a> Implementacja algorytmu K-średnich - wizualizacja"
      ]
    },
    {
      "cell_type": "code",
      "metadata": {
        "id": "UkMuIx0Zn2br"
      },
      "source": [
        "fig = px.scatter(df, 'x1', 'x2', color='cluster', width=950, height=500,\n",
        "                 title='Algorytm K-średnich - końcowy rezultat')\n",
        "fig.add_trace(go.Scatter(x=[new_2_centroid_1[0]], y=[new_2_centroid_1[1]], name='centroid 1', mode='markers', marker_line_width=3))\n",
        "fig.add_trace(go.Scatter(x=[new_2_centroid_2[0]], y=[new_2_centroid_2[1]], name='centroid 2', mode='markers', marker_line_width=3))\n",
        "fig.update_traces(marker_size=12)\n",
        "fig.update_layout(showlegend=False)"
      ],
      "execution_count": null,
      "outputs": []
    },
    {
      "cell_type": "code",
      "metadata": {
        "id": "b-nhsAA10dxR"
      },
      "source": [],
      "execution_count": null,
      "outputs": []
    }
  ]
}