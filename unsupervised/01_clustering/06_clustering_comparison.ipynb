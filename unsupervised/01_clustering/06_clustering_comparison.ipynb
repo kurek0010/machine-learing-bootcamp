{
  "nbformat": 4,
  "nbformat_minor": 0,
  "metadata": {
    "colab": {
      "name": "06_clustering_comparison.ipynb",
      "provenance": [],
      "include_colab_link": true
    },
    "kernelspec": {
      "name": "python3",
      "display_name": "Python 3"
    }
  },
  "cells": [
    {
      "cell_type": "markdown",
      "metadata": {
        "id": "view-in-github",
        "colab_type": "text"
      },
      "source": [
        "<a href=\"https://colab.research.google.com/github/kurek0010/machine-learing-bootcamp/blob/main/unsupervised/01_clustering/06_clustering_comparison.ipynb\" target=\"_parent\"><img src=\"https://colab.research.google.com/assets/colab-badge.svg\" alt=\"Open In Colab\"/></a>"
      ]
    },
    {
      "cell_type": "markdown",
      "metadata": {
        "id": "UbjsT92Xd3z1"
      },
      "source": [
        "* @author: krakowiakpawel9@gmail.com  \n",
        "* @site: e-smartdata.org\n",
        "\n",
        "### scikit-learn\n",
        "Strona biblioteki: [https://scikit-learn.org](https://scikit-learn.org)  \n",
        "\n",
        "Dokumentacja/User Guide: [https://scikit-learn.org/stable/user_guide.html](https://scikit-learn.org/stable/user_guide.html)\n",
        "\n",
        "Podstawowa biblioteka do uczenia maszynowego w języku Python.\n",
        "\n",
        "Aby zainstalować bibliotekę scikit-learn, użyj polecenia poniżej:\n",
        "```\n",
        "!pip install scikit-learn\n",
        "```\n",
        "Aby zaktualizować do najnowszej wersji bibliotekę scikit-learn, użyj polecenia poniżej:\n",
        "```\n",
        "!pip install --upgrade scikit-learn\n",
        "```\n",
        "Kurs stworzony w oparciu o wersję `0.22.1`\n",
        "\n",
        "### Spis treści:\n",
        "1. [Import bibliotek](#0)\n",
        "2. [Wygenerowanie danych i wizualizacja](#1)\n",
        "3. [Porównanie algorytmów - blobs data](#2)\n",
        "4. [Porównanie algorytmów - cirlce data](#3)\n",
        "5. [Porównanie algorytmów - moons data](#4)\n",
        "6. [Porównanie algorytmów - random data](#5)\n",
        "\n"
      ]
    },
    {
      "cell_type": "markdown",
      "metadata": {
        "id": "ao5fJLi1RUjg"
      },
      "source": [
        "### <a name='0'></a> Import bibliotek"
      ]
    },
    {
      "cell_type": "code",
      "metadata": {
        "id": "VQ0ieU0UdN5D"
      },
      "source": [
        "import numpy as np\n",
        "import pandas as pd\n",
        "import plotly.express as px"
      ],
      "execution_count": null,
      "outputs": []
    },
    {
      "cell_type": "markdown",
      "metadata": {
        "id": "tX1NYrGdRYTR"
      },
      "source": [
        "### <a name='1'></a> Wygenerowanie danych i wizualizacja"
      ]
    },
    {
      "cell_type": "code",
      "metadata": {
        "id": "NGluwuWH4jmd"
      },
      "source": [
        "from sklearn.datasets import make_blobs\n",
        "\n",
        "blobs_data = make_blobs(n_samples=1000, cluster_std=0.7, random_state=24, center_box=(-4.0, 4.0))[0]\n",
        "blobs = pd.DataFrame(blobs_data, columns=['x1', 'x2'])\n",
        "px.scatter(blobs, 'x1', 'x2', width=950, height=500, title='blobs data', template='plotly_dark')"
      ],
      "execution_count": null,
      "outputs": []
    },
    {
      "cell_type": "code",
      "metadata": {
        "id": "UDbWnF8rdceb"
      },
      "source": [
        "from sklearn.datasets import make_circles\n",
        "\n",
        "circle_data = make_circles(n_samples=1000, factor=0.5, noise=0.05)[0]\n",
        "circle = pd.DataFrame(circle_data, columns=['x1', 'x2'])\n",
        "px.scatter(circle, 'x1', 'x2', width=950, height=500, title='circle data', template='plotly_dark')"
      ],
      "execution_count": null,
      "outputs": []
    },
    {
      "cell_type": "code",
      "metadata": {
        "id": "N4P2bIcC3mPW"
      },
      "source": [
        "from sklearn.datasets import make_moons\n",
        "\n",
        "moons_data = make_moons(n_samples=1000, noise=0.05)[0]\n",
        "moons = pd.DataFrame(moons_data, columns=['x1', 'x2'])\n",
        "px.scatter(moons, 'x1', 'x2', width=950, height=500, title='moons data', template='plotly_dark')"
      ],
      "execution_count": null,
      "outputs": []
    },
    {
      "cell_type": "code",
      "metadata": {
        "id": "eNyw0-PACr-k"
      },
      "source": [
        "random_data = np.random.rand(1500, 2)\n",
        "random = pd.DataFrame(random_data, columns=['x1', 'x2'])\n",
        "px.scatter(random, 'x1', 'x2', width=950, height=500, title='random data', template='plotly_dark')"
      ],
      "execution_count": null,
      "outputs": []
    },
    {
      "cell_type": "markdown",
      "metadata": {
        "id": "YjCRFJDMRf_u"
      },
      "source": [
        "### <a name='2'></a> Porównanie algorytmów - blobs data - 3 klastry"
      ]
    },
    {
      "cell_type": "code",
      "metadata": {
        "id": "o930GXMh5a4S"
      },
      "source": [
        "from plotly.subplots import make_subplots\n",
        "\n",
        "fig = make_subplots(rows=1, cols=3, shared_yaxes=True, horizontal_spacing=0.01)\n",
        "\n",
        "from sklearn.cluster import KMeans\n",
        "\n",
        "kmeans = KMeans(n_clusters=3)\n",
        "kmeans.fit(blobs_data)\n",
        "clusters = kmeans.predict(blobs_data)\n",
        "blobs['cluster'] = clusters\n",
        "trace1 = px.scatter(blobs, 'x1', 'x2', 'cluster', width=800, height=500)['data'][0]\n",
        "fig.add_trace(trace1, row=1, col=1)\n",
        "\n",
        "from sklearn.cluster import AgglomerativeClustering\n",
        "\n",
        "agglo = AgglomerativeClustering(n_clusters=3, metric='euclidean')\n",
        "clusters = agglo.fit_predict(blobs_data)\n",
        "blobs['cluster'] = clusters\n",
        "trace2 = px.scatter(blobs, 'x1', 'x2', 'cluster', width=800, height=500)['data'][0]\n",
        "fig.add_trace(trace2, row=1, col=2)\n",
        "\n",
        "from sklearn.cluster import DBSCAN\n",
        "\n",
        "dbscan = DBSCAN(eps=0.5, min_samples=5)\n",
        "dbscan.fit(blobs_data)\n",
        "clusters = dbscan.labels_\n",
        "blobs['cluster'] = clusters\n",
        "trace3 = px.scatter(blobs, 'x1', 'x2', 'cluster', width=800, height=500)['data'][0]\n",
        "fig.add_trace(trace3, row=1, col=3)\n",
        "\n",
        "fig.update_layout(title='KMeans vs. Agglomerative Clustering vs. DBSCAN - blobs data',\n",
        "                  template='plotly_dark', coloraxis = {'colorscale':'viridis'})\n",
        "fig.show()"
      ],
      "execution_count": null,
      "outputs": []
    },
    {
      "cell_type": "markdown",
      "metadata": {
        "id": "l77lxIJTRzQ2"
      },
      "source": [
        "### <a name='3'></a> Porównanie algorytmów - cirlce data - 2 klastry"
      ]
    },
    {
      "cell_type": "code",
      "metadata": {
        "id": "i0zgbWDE_dhe"
      },
      "source": [
        "fig = make_subplots(rows=1, cols=3, shared_yaxes=True, horizontal_spacing=0.01)\n",
        "\n",
        "# KMeans\n",
        "kmeans = KMeans(n_clusters=3)\n",
        "kmeans.fit(circle_data)\n",
        "clusters = kmeans.predict(circle_data)\n",
        "circle['cluster'] = clusters\n",
        "trace1 = px.scatter(circle, 'x1', 'x2', 'cluster', width=800, height=500)['data'][0]\n",
        "fig.add_trace(trace1, row=1, col=1)\n",
        "\n",
        "# AgglomerativeClustering\n",
        "agglo = AgglomerativeClustering(n_clusters=3, metric='euclidean')\n",
        "clusters = agglo.fit_predict(circle_data)\n",
        "circle['cluster'] = clusters\n",
        "trace2 = px.scatter(circle, 'x1', 'x2', 'cluster', width=800, height=500)['data'][0]\n",
        "fig.add_trace(trace2, row=1, col=2)\n",
        "\n",
        "# DBSCAN\n",
        "dbscan = DBSCAN(eps=0.1, min_samples=5)\n",
        "dbscan.fit(circle_data)\n",
        "clusters = dbscan.labels_\n",
        "circle['cluster'] = clusters\n",
        "trace3 = px.scatter(circle, 'x1', 'x2', 'cluster', width=800, height=500)['data'][0]\n",
        "fig.add_trace(trace3, row=1, col=3)\n",
        "\n",
        "fig.update_layout(title='KMeans vs. Agglomerative Clustering vs. DBSCAN - circle data', template='plotly_dark',\n",
        "                  coloraxis = {'colorscale':'viridis'})"
      ],
      "execution_count": null,
      "outputs": []
    },
    {
      "cell_type": "markdown",
      "metadata": {
        "id": "hDdGC3YIR5hh"
      },
      "source": [
        "### <a name='4'></a> Porównanie algorytmów - moons data - 2 klastry"
      ]
    },
    {
      "cell_type": "code",
      "metadata": {
        "id": "cH0D7EP4Asi3"
      },
      "source": [
        "fig = make_subplots(rows=1, cols=3, shared_yaxes=True, horizontal_spacing=0.01)\n",
        "\n",
        "# KMeans\n",
        "kmeans = KMeans(n_clusters=2)\n",
        "kmeans.fit(moons_data)\n",
        "clusters = kmeans.predict(moons_data)\n",
        "moons['cluster'] = clusters\n",
        "trace1 = px.scatter(moons, 'x1', 'x2', 'cluster', width=800, height=500)['data'][0]\n",
        "fig.add_trace(trace1, row=1, col=1)\n",
        "\n",
        "# AgglomerativeClustering\n",
        "agglo = AgglomerativeClustering(n_clusters=2, metric='euclidean')\n",
        "clusters = agglo.fit_predict(moons_data)\n",
        "moons['cluster'] = clusters\n",
        "trace2 = px.scatter(moons, 'x1', 'x2', 'cluster', width=800, height=500)['data'][0]\n",
        "fig.add_trace(trace2, row=1, col=2)\n",
        "\n",
        "# DBSCAN\n",
        "dbscan = DBSCAN(eps=0.07, min_samples=5)\n",
        "dbscan.fit(moons_data)\n",
        "clusters = dbscan.labels_\n",
        "moons['cluster'] = clusters\n",
        "trace3 = px.scatter(moons, 'x1', 'x2', 'cluster', width=800, height=500)['data'][0]\n",
        "fig.add_trace(trace3, row=1, col=3)\n",
        "\n",
        "fig.update_layout(title='KMeans vs. Agglomerative Clustering vs. DBSCAN - moons data', template='plotly_dark',\n",
        "                  coloraxis = {'colorscale':'viridis'})"
      ],
      "execution_count": null,
      "outputs": []
    },
    {
      "cell_type": "markdown",
      "metadata": {
        "id": "0E7eF8EaSAm6"
      },
      "source": [
        "### <a name='4'></a> Porównanie algorytmów - random data"
      ]
    },
    {
      "cell_type": "code",
      "metadata": {
        "id": "ynhcRsRbBp3N"
      },
      "source": [
        "fig = make_subplots(rows=1, cols=3, shared_yaxes=True, horizontal_spacing=0.01)\n",
        "\n",
        "# KMeans\n",
        "kmeans = KMeans(n_clusters=5)\n",
        "kmeans.fit(random_data)\n",
        "clusters = kmeans.predict(random_data)\n",
        "random['cluster'] = clusters\n",
        "trace1 = px.scatter(random, 'x1', 'x2', 'cluster', width=800, height=500)['data'][0]\n",
        "fig.add_trace(trace1, row=1, col=1)\n",
        "\n",
        "# AgglomerativeClustering\n",
        "agglo = AgglomerativeClustering(n_clusters=5, metric='euclidean')\n",
        "clusters = agglo.fit_predict(random_data)\n",
        "random['cluster'] = clusters\n",
        "trace2 = px.scatter(random, 'x1', 'x2', 'cluster', width=800, height=500)['data'][0]\n",
        "fig.add_trace(trace2, row=1, col=2)\n",
        "\n",
        "# DBSCAN\n",
        "dbscan = DBSCAN(eps=0.05, min_samples=5)\n",
        "dbscan.fit(random_data)\n",
        "clusters = dbscan.labels_\n",
        "random['cluster'] = clusters\n",
        "trace3 = px.scatter(random, 'x1', 'x2', 'cluster', width=800, height=500)['data'][0]\n",
        "fig.add_trace(trace3, row=1, col=3)\n",
        "\n",
        "fig.update_layout(title='KMeans vs. Agglomerative Clustering vs.DBSCAN - random data', template='plotly_dark',\n",
        "                  coloraxis = {'colorscale':'viridis'})"
      ],
      "execution_count": null,
      "outputs": []
    },
    {
      "cell_type": "code",
      "metadata": {
        "id": "CRjKOutsDZfT"
      },
      "source": [],
      "execution_count": null,
      "outputs": []
    }
  ]
}