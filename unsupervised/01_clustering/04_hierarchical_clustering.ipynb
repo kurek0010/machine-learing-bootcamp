{
  "nbformat": 4,
  "nbformat_minor": 0,
  "metadata": {
    "colab": {
      "name": "04_hierarchical_clustering.ipynb",
      "provenance": [],
      "include_colab_link": true
    },
    "kernelspec": {
      "name": "python3",
      "display_name": "Python 3"
    }
  },
  "cells": [
    {
      "cell_type": "markdown",
      "metadata": {
        "id": "view-in-github",
        "colab_type": "text"
      },
      "source": [
        "<a href=\"https://colab.research.google.com/github/kurek0010/machine-learing-bootcamp/blob/main/unsupervised/01_clustering/04_hierarchical_clustering.ipynb\" target=\"_parent\"><img src=\"https://colab.research.google.com/assets/colab-badge.svg\" alt=\"Open In Colab\"/></a>"
      ]
    },
    {
      "cell_type": "markdown",
      "metadata": {
        "id": "UbjsT92Xd3z1"
      },
      "source": [
        "* @author: krakowiakpawel9@gmail.com  \n",
        "* @site: e-smartdata.org\n",
        "\n",
        "### scikit-learn\n",
        "Strona biblioteki: [https://scikit-learn.org](https://scikit-learn.org)  \n",
        "\n",
        "Dokumentacja/User Guide: [https://scikit-learn.org/stable/user_guide.html](https://scikit-learn.org/stable/user_guide.html)\n",
        "\n",
        "Podstawowa biblioteka do uczenia maszynowego w języku Python.\n",
        "\n",
        "Aby zainstalować bibliotekę scikit-learn, użyj polecenia poniżej:\n",
        "```\n",
        "!pip install scikit-learn\n",
        "```\n",
        "Aby zaktualizować do najnowszej wersji bibliotekę scikit-learn, użyj polecenia poniżej:\n",
        "```\n",
        "!pip install --upgrade scikit-learn\n",
        "```\n",
        "Kurs stworzony w oparciu o wersję `0.22.1`\n",
        "\n",
        "### Spis treści:\n",
        "1. [Import bibliotek](#0)\n",
        "2. [Wygenerowanie danych](#1)\n",
        "3. [Wizualizacja danych](#2)\n",
        "4. [Wizualizacja - dendrogram](#3)\n",
        "5. [Grupowanie hierarchiczne](#4)\n",
        "6. [Wizualizacja klastrów](#5)\n",
        "7. [Porównanie metryk (euklidesowa, Manhattan, kosinusowa)](#6)\n"
      ]
    },
    {
      "cell_type": "markdown",
      "metadata": {
        "id": "WsOfSNcVFvDk"
      },
      "source": [
        "### <a name='0'></a> Import bibliotek"
      ]
    },
    {
      "cell_type": "code",
      "metadata": {
        "id": "VQ0ieU0UdN5D"
      },
      "source": [
        "import numpy as np\n",
        "import pandas as pd\n",
        "import matplotlib.pyplot as plt\n",
        "import seaborn as sns\n",
        "import plotly.express as px\n",
        "\n",
        "sns.set(font_scale=1.2)"
      ],
      "execution_count": null,
      "outputs": []
    },
    {
      "cell_type": "markdown",
      "metadata": {
        "id": "EyR-ww3tFzZ7"
      },
      "source": [
        "### <a name='1'></a> Wygenerowanie danych"
      ]
    },
    {
      "cell_type": "code",
      "metadata": {
        "id": "lfJ46NW-5BmX"
      },
      "source": [
        "from sklearn.datasets import make_blobs\n",
        "\n",
        "data = make_blobs(n_samples=10, centers=2, cluster_std=1.0, center_box=(-8.0, 8.0), random_state=42)[0]\n",
        "df = pd.DataFrame(data, columns=['x1', 'x2'])\n",
        "df.head()"
      ],
      "execution_count": null,
      "outputs": []
    },
    {
      "cell_type": "markdown",
      "metadata": {
        "id": "AQnhEv7aGkYj"
      },
      "source": [
        "### <a name='2'></a> Wizualizacja danych"
      ]
    },
    {
      "cell_type": "code",
      "metadata": {
        "id": "CYMpFzBn4M2H"
      },
      "source": [
        "plt.figure(figsize=(14, 7))\n",
        "plt.scatter(data[:,0], data[:,1])\n",
        "\n",
        "for label, x, y in zip(range(1, 11), data[:, 0], data[:, 1]):\n",
        "    plt.annotate(label, xy=(x, y), xytext=(-3, 3), textcoords='offset points', ha='right', va='bottom')\n",
        "plt.title('Grupowanie hierarchiczne')\n",
        "plt.show()"
      ],
      "execution_count": null,
      "outputs": []
    },
    {
      "cell_type": "markdown",
      "metadata": {
        "id": "W4XGd_bDGst2"
      },
      "source": [
        "### <a name='3'></a> Wizualizacja - dendrogram"
      ]
    },
    {
      "cell_type": "code",
      "metadata": {
        "id": "sKuvr-S24N6e"
      },
      "source": [
        "from scipy.cluster.hierarchy import dendrogram\n",
        "from scipy.cluster.hierarchy import linkage\n",
        "\n",
        "# przeprowadzenie grupowania hierarchicznego\n",
        "linked = linkage(data)\n",
        "\n",
        "# wizualizacja grupowania hierarchicznego jako dendrogram\n",
        "plt.figure(figsize=(14, 7))\n",
        "dendrogram(linked, orientation='top', labels=range(1, 11), distance_sort='descending', show_leaf_counts=True)\n",
        "plt.title('Grupowanie hierarchiczne - dendrogram')\n",
        "plt.show()"
      ],
      "execution_count": null,
      "outputs": []
    },
    {
      "cell_type": "code",
      "metadata": {
        "id": "WeUqb2x2Azdn"
      },
      "source": [
        "plt.figure(figsize=(14, 7))\n",
        "dendrogram(linked, orientation='right', labels=range(1, 11), distance_sort='descending', show_leaf_counts=True)\n",
        "plt.title('Grupowanie hierarchiczne - dendrogram')\n",
        "plt.show()"
      ],
      "execution_count": null,
      "outputs": []
    },
    {
      "cell_type": "markdown",
      "metadata": {
        "id": "BUWw6p4kHCKf"
      },
      "source": [
        "### <a name='4'></a> Grupowanie hierarchiczne"
      ]
    },
    {
      "cell_type": "code",
      "metadata": {
        "id": "CZw9Kcpk4Z8z"
      },
      "source": [
        "# bottom-up approach\n",
        "from sklearn.cluster import AgglomerativeClustering\n",
        "\n",
        "cluster = AgglomerativeClustering(n_clusters=2)\n",
        "cluster.fit_predict(data)"
      ],
      "execution_count": null,
      "outputs": []
    },
    {
      "cell_type": "markdown",
      "metadata": {
        "id": "iKisJXas_hCE"
      },
      "source": [
        "### <a name='5'></a> Wizualizacja klastrów"
      ]
    },
    {
      "cell_type": "code",
      "metadata": {
        "id": "f1fYwpgi69Iy"
      },
      "source": [
        "df = pd.DataFrame(data, columns=['x1', 'x2'])\n",
        "df['cluster'] = cluster.labels_\n",
        "\n",
        "fig = px.scatter(df, 'x1', 'x2', 'cluster', width=950, height=500, template='plotly_dark',\n",
        "                 title='Grupowanie hierarchiczne', color_continuous_midpoint=0.6)\n",
        "fig.update_traces(marker_size=12)\n",
        "fig.show()"
      ],
      "execution_count": null,
      "outputs": []
    },
    {
      "cell_type": "markdown",
      "metadata": {
        "id": "78A4ZwTg_vBr"
      },
      "source": [
        "### <a name='6'></a> Porównanie metryk (euklidesowa, Manhattan, kosinusowa)"
      ]
    },
    {
      "cell_type": "code",
      "metadata": {
        "id": "L4xuna-i7DyB"
      },
      "source": [
        "data = make_blobs(n_samples=1000, centers=4, cluster_std=1.5, center_box=(-8.0, 8.0), random_state=42)[0]\n",
        "df = pd.DataFrame(data, columns=['x1', 'x2'])\n",
        "\n",
        "px.scatter(df, 'x1', 'x2', width=950, height=500, title='Grupowanie hierarchiczne', template='plotly_dark')"
      ],
      "execution_count": null,
      "outputs": []
    },
    {
      "cell_type": "markdown",
      "metadata": {
        "id": "_bTrE1f-E1KQ"
      },
      "source": [
        "Odległość euklidesowa"
      ]
    },
    {
      "cell_type": "code",
      "metadata": {
        "id": "6ORfypNB_scb"
      },
      "source": [
        "cluster_euclidean = AgglomerativeClustering(n_clusters=4)\n",
        "cluster_euclidean.fit_predict(data)"
      ],
      "execution_count": null,
      "outputs": []
    },
    {
      "cell_type": "code",
      "metadata": {
        "id": "IyMV8l4CAC1S"
      },
      "source": [
        "df_euclidean = pd.DataFrame(data, columns=['x1', 'x2'])\n",
        "df_euclidean['cluster'] = cluster_euclidean.labels_\n",
        "fig = px.scatter(df_euclidean, 'x1', 'x2', 'cluster', width=950, height=500, template='plotly_dark',\n",
        "                 title='Grupowanie hierarchiczne - metryka euklidesowa', color_continuous_midpoint=0.6)\n",
        "fig.show()"
      ],
      "execution_count": null,
      "outputs": []
    },
    {
      "cell_type": "markdown",
      "metadata": {
        "id": "K-aA6fhkE4hN"
      },
      "source": [
        "Metryka Manhattan"
      ]
    },
    {
      "cell_type": "code",
      "metadata": {
        "id": "RfgLAHcMAE4k"
      },
      "source": [
        "cluster_manhattan = AgglomerativeClustering(n_clusters=4, metric='manhattan', linkage='complete')\n",
        "cluster_manhattan.fit_predict(data)"
      ],
      "execution_count": null,
      "outputs": []
    },
    {
      "cell_type": "code",
      "metadata": {
        "id": "ObkbjI_fAd7v"
      },
      "source": [
        "df_manhattan = pd.DataFrame(data, columns=['x1', 'x2'])\n",
        "df_manhattan['cluster'] = cluster_manhattan.labels_\n",
        "fig = px.scatter(df_manhattan, 'x1', 'x2', 'cluster', width=950, height=500, template='plotly_dark',\n",
        "                 title='Grupowanie hierarchiczne - metryka Manhattan', color_continuous_midpoint=0.6)\n",
        "fig.show()"
      ],
      "execution_count": null,
      "outputs": []
    },
    {
      "cell_type": "markdown",
      "metadata": {
        "id": "biYF19YCE8XU"
      },
      "source": [
        "Odległość kosinusowa"
      ]
    },
    {
      "cell_type": "code",
      "metadata": {
        "id": "cmuh8CVjB0bp"
      },
      "source": [
        "cluster_cosine = AgglomerativeClustering(n_clusters=4, metric='cosine', linkage='complete')\n",
        "cluster_cosine.fit_predict(data)"
      ],
      "execution_count": null,
      "outputs": []
    },
    {
      "cell_type": "code",
      "metadata": {
        "id": "wozb10LZCILm"
      },
      "source": [
        "df_cosine = pd.DataFrame(data, columns=['x1', 'x2'])\n",
        "df_cosine['cluster'] = cluster_cosine.labels_\n",
        "fig = px.scatter(df_cosine, 'x1', 'x2', 'cluster', width=950, height=500, template='plotly_dark',\n",
        "                 title='Grupowanie hierarchiczne - metryka kosinusowa', color_continuous_midpoint=0.6)\n",
        "fig.show()"
      ],
      "execution_count": null,
      "outputs": []
    },
    {
      "cell_type": "code",
      "metadata": {
        "id": "CL2g3hDPCK9q"
      },
      "source": [
        "from plotly.subplots import make_subplots\n",
        "\n",
        "fig = make_subplots(rows=1, cols=3, column_titles=['euclidean', 'Manhattan', 'cosine'])\n",
        "\n",
        "fig1 = px.scatter(df_euclidean, 'x1', 'x2', 'cluster')['data'][0]\n",
        "fig2 = px.scatter(df_manhattan, 'x1', 'x2', 'cluster')['data'][0]\n",
        "fig3 = px.scatter(df_cosine, 'x1', 'x2', 'cluster')['data'][0]\n",
        "\n",
        "fig.add_trace(fig1, row=1, col=1)\n",
        "fig.add_trace(fig2, row=1, col=2)\n",
        "fig.add_trace(fig3, row=1, col=3)\n",
        "fig.update_layout(template='plotly_dark')\n",
        "fig.show()"
      ],
      "execution_count": null,
      "outputs": []
    },
    {
      "cell_type": "code",
      "metadata": {
        "id": "4DARTqaLYmnm"
      },
      "source": [],
      "execution_count": null,
      "outputs": []
    }
  ]
}