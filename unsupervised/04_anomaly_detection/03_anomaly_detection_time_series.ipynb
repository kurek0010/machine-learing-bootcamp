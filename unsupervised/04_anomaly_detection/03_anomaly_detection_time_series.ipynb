{
  "nbformat": 4,
  "nbformat_minor": 0,
  "metadata": {
    "colab": {
      "name": "03_anomaly_detection_time_series.ipynb",
      "provenance": [],
      "include_colab_link": true
    },
    "kernelspec": {
      "name": "python3",
      "display_name": "Python 3"
    }
  },
  "cells": [
    {
      "cell_type": "markdown",
      "metadata": {
        "id": "view-in-github",
        "colab_type": "text"
      },
      "source": [
        "<a href=\"https://colab.research.google.com/github/kurek0010/machine-learing-bootcamp/blob/main/unsupervised/04_anomaly_detection/03_anomaly_detection_time_series.ipynb\" target=\"_parent\"><img src=\"https://colab.research.google.com/assets/colab-badge.svg\" alt=\"Open In Colab\"/></a>"
      ]
    },
    {
      "cell_type": "markdown",
      "metadata": {
        "id": "C80St0V-_VIi"
      },
      "source": [
        "### prophet\n",
        "Strona biblioteki: [https://facebook.github.io/prophet/](https://facebook.github.io/prophet/)  \n",
        "\n",
        "Dokumentacja/User Guide: [https://facebook.github.io/prophet/docs/quick_start.html](https://facebook.github.io/prophet/docs/quick_start.html)\n",
        "\n",
        "Biblioteka do pracy z szeregami czasowymi od Facebook'a\n",
        "\n",
        "Aby zainstalować bibliotekę prophet, użyj polecenia poniżej:\n",
        "```\n",
        "!pip install fbprophet\n",
        "```\n",
        "Aby zaktualizować do najnowszej wersji użyj polecenia poniżej:\n",
        "```\n",
        "!pip install --upgrade fbprophet\n",
        "```\n",
        "Kurs stworzony w oparciu o wersję `0.5`\n",
        "\n",
        "### Spis treści:\n",
        "1. [Import bibliotek](#0)\n",
        "2. [Załadowanie danych](#1)\n",
        "3. [Wizualizacja danych](#2)\n",
        "4. [Przygotowanie danych](#3)\n",
        "5. [Prophet - budowa modelu](#4)\n",
        "6. [Wizualizacja działania modelu](#5)\n",
        "7. [Budowa modelu - wrzesień](#6)\n",
        "\n",
        "\n"
      ]
    },
    {
      "cell_type": "markdown",
      "metadata": {
        "id": "dCogYvFX_YD4"
      },
      "source": [
        "### <a name='0'></a> Import bibliotek"
      ]
    },
    {
      "cell_type": "code",
      "metadata": {
        "id": "cQAxkBuvH4fG"
      },
      "source": [
        "import numpy as np\n",
        "import pandas as pd\n",
        "from prophet import Prophet\n",
        "import plotly.express as px\n",
        "\n",
        "np.random.seed(41)\n",
        "from prophet import __version__ as prophet_version\n",
        "prophet_version"
      ],
      "execution_count": null,
      "outputs": []
    },
    {
      "cell_type": "markdown",
      "metadata": {
        "id": "r7VoKZCFG4Ks"
      },
      "source": [
        "### <a name='1'></a> Załadowanie danych"
      ]
    },
    {
      "cell_type": "code",
      "metadata": {
        "id": "ZaeXU7WkH908"
      },
      "source": [
        "df = pd.read_csv('https://storage.googleapis.com/esmartdata-courses-files/ml-course/traffic.csv',\n",
        "                 parse_dates=['timestamp'])\n",
        "df.head()"
      ],
      "execution_count": null,
      "outputs": []
    },
    {
      "cell_type": "code",
      "metadata": {
        "id": "D-_OhoXJItx5"
      },
      "source": [
        "df.info()"
      ],
      "execution_count": null,
      "outputs": []
    },
    {
      "cell_type": "markdown",
      "metadata": {
        "id": "F0GfiN28HEX5"
      },
      "source": [
        "### <a name='2'></a> Wizualizacja danych"
      ]
    },
    {
      "cell_type": "code",
      "metadata": {
        "id": "QI6Dy0h9I5fi"
      },
      "source": [
        "px.line(df, x='timestamp', y='count', title='Anomaly Detection - web traffic', width=950, height=500,\n",
        "        template='plotly_dark', color_discrete_sequence=['#42f5d4'])"
      ],
      "execution_count": null,
      "outputs": []
    },
    {
      "cell_type": "code",
      "metadata": {
        "id": "y11ecvByISjU"
      },
      "source": [
        "px.scatter(df, x='timestamp', y='count', title='Anomaly Detection - web traffic', width=950, height=500,\n",
        "           template='plotly_dark', color_discrete_sequence=['#42f5d4'])"
      ],
      "execution_count": null,
      "outputs": []
    },
    {
      "cell_type": "markdown",
      "metadata": {
        "id": "wyRO2ZvnHtjX"
      },
      "source": [
        "### <a name='3'></a> Przygotowanie danych"
      ]
    },
    {
      "cell_type": "code",
      "metadata": {
        "id": "cmShUyGxfkDt"
      },
      "source": [
        "df.head(3)"
      ],
      "execution_count": null,
      "outputs": []
    },
    {
      "cell_type": "code",
      "metadata": {
        "id": "BQBbxHzHKkAL"
      },
      "source": [
        "data = df.copy()\n",
        "data.columns = ['ds', 'y']\n",
        "data.head(3)"
      ],
      "execution_count": null,
      "outputs": []
    },
    {
      "cell_type": "markdown",
      "metadata": {
        "id": "kOp2mVPibem_"
      },
      "source": [
        "Danymi wejściowymi do klasy Prophet jest obiekt DataFrame biblioteki pandas. Wejściowy DataFrame składa się z dwóch kolumn:\n",
        "* ds (datestamp, odpowiednio sformatowana kolumna, np. YYYY-MM-DD dla daty, YYYY-MM-DD HH:MM:SS dla dokładnego czasu )\n",
        "* y (kolumna numeryczna, reprezentująca wartość, którą chcemy przewidywać)\n"
      ]
    },
    {
      "cell_type": "markdown",
      "metadata": {
        "id": "lS756eIFH1PJ"
      },
      "source": [
        "### <a name='4'></a> Prophet - budowa modelu"
      ]
    },
    {
      "cell_type": "code",
      "metadata": {
        "id": "K6KYoqMOX64P"
      },
      "source": [
        "from prophet import Prophet\n",
        "\n",
        "Prophet?"
      ],
      "execution_count": null,
      "outputs": []
    },
    {
      "cell_type": "code",
      "metadata": {
        "id": "Z85g7TxKKD54"
      },
      "source": [
        "model = Prophet(daily_seasonality=True, yearly_seasonality=False, weekly_seasonality=False,\n",
        "                interval_width=0.99, changepoint_range=0.8)\n",
        "\n",
        "model.fit(data)\n",
        "forecast = model.predict(data)"
      ],
      "execution_count": null,
      "outputs": []
    },
    {
      "cell_type": "code",
      "metadata": {
        "id": "FZKdqY45KeUh"
      },
      "source": [
        "forecast.head(3)"
      ],
      "execution_count": null,
      "outputs": []
    },
    {
      "cell_type": "code",
      "metadata": {
        "id": "hWs4Ct3yfmZ4"
      },
      "source": [
        "forecast[['ds', 'trend', 'yhat', 'yhat_lower', 'yhat_upper']].head(3)"
      ],
      "execution_count": null,
      "outputs": []
    },
    {
      "cell_type": "code",
      "metadata": {
        "id": "AZkZ25SOKyBp"
      },
      "source": [
        "forecast['real'] = data['y']\n",
        "forecast['anomaly'] = 1\n",
        "forecast.loc[forecast['real'] > forecast['yhat_upper'], 'anomaly'] = -1\n",
        "forecast.loc[forecast['real'] < forecast['yhat_lower'], 'anomaly'] = -1\n",
        "forecast.head(3)"
      ],
      "execution_count": null,
      "outputs": []
    },
    {
      "cell_type": "markdown",
      "metadata": {
        "id": "VTF30J7VIc1-"
      },
      "source": [
        "### <a name='5'></a> Wizualizacja działania modelu"
      ]
    },
    {
      "cell_type": "code",
      "metadata": {
        "id": "zuoxn7oKLuqu"
      },
      "source": [
        "px.scatter(forecast, x='ds', y='real', color='anomaly', color_continuous_scale='Bluyl',\n",
        "           title='Anomaly Detection in Time Series', template='plotly_dark', width=950, height=500)"
      ],
      "execution_count": null,
      "outputs": []
    },
    {
      "cell_type": "code",
      "metadata": {
        "id": "tfh-DTYaIz_a"
      },
      "source": [
        "future = model.make_future_dataframe(periods=1440, freq='Min')\n",
        "future"
      ],
      "execution_count": null,
      "outputs": []
    },
    {
      "cell_type": "code",
      "metadata": {
        "id": "fRPF7MCXL8TJ"
      },
      "source": [
        "forecast = model.predict(future)\n",
        "forecast[['ds', 'yhat', 'yhat_lower', 'yhat_upper']].head()"
      ],
      "execution_count": null,
      "outputs": []
    },
    {
      "cell_type": "code",
      "metadata": {
        "id": "Hr1OYev9MVMI"
      },
      "source": [
        "_ = model.plot(forecast)"
      ],
      "execution_count": null,
      "outputs": []
    },
    {
      "cell_type": "code",
      "metadata": {
        "id": "UCEaAPxUMY26"
      },
      "source": [
        "_ = model.plot_components(forecast)"
      ],
      "execution_count": null,
      "outputs": []
    },
    {
      "cell_type": "code",
      "metadata": {
        "id": "cBDePop0MjDm"
      },
      "source": [
        "from prophet.plot import plot_plotly\n",
        "\n",
        "plot_plotly(model, forecast, xlabel='czas', ylabel='ruch webowy')"
      ],
      "execution_count": null,
      "outputs": []
    },
    {
      "cell_type": "markdown",
      "metadata": {
        "id": "E1xOYh7AImvf"
      },
      "source": [
        "### <a name='6'></a> Budowa modelu - wrzesień"
      ]
    },
    {
      "cell_type": "code",
      "metadata": {
        "id": "jIYmRTloQzVx"
      },
      "source": [
        "data_sep = df[df['timestamp'].dt.month == 9]\n",
        "data_sep.columns = ['ds', 'y']\n",
        "data_sep.head()"
      ],
      "execution_count": null,
      "outputs": []
    },
    {
      "cell_type": "code",
      "metadata": {
        "id": "0_qgZTRWSy7E"
      },
      "source": [
        "model = Prophet(daily_seasonality=True, yearly_seasonality=False, weekly_seasonality=False,\n",
        "                seasonality_mode='multiplicative', interval_width=0.99, changepoint_range=0.8)\n",
        "\n",
        "model.fit(data_sep)\n",
        "forecast = model.predict(data_sep)\n",
        "forecast[['ds', 'trend', 'yhat', 'yhat_lower', 'yhat_upper']].head(3)"
      ],
      "execution_count": null,
      "outputs": []
    },
    {
      "cell_type": "code",
      "metadata": {
        "id": "Wrl4AzutTEWO"
      },
      "source": [
        "forecast['real'] = data['y']\n",
        "forecast['anomaly'] = 1\n",
        "forecast.loc[forecast['real'] > forecast['yhat_upper'], 'anomaly'] = -1\n",
        "forecast.loc[forecast['real'] < forecast['yhat_lower'], 'anomaly'] = -1\n",
        "forecast.head(3)"
      ],
      "execution_count": null,
      "outputs": []
    },
    {
      "cell_type": "code",
      "metadata": {
        "id": "k56wtsiSTIa3"
      },
      "source": [
        "px.scatter(forecast, x='ds', y='real', color='anomaly', color_continuous_scale='Bluyl',\n",
        "           title='Anomaly Detection in Time Series - September', template='plotly_dark', width=950, height=500)"
      ],
      "execution_count": null,
      "outputs": []
    },
    {
      "cell_type": "code",
      "metadata": {
        "id": "U-AqnLlYMmAD"
      },
      "source": [
        "future = model.make_future_dataframe(periods=1440, freq='Min')\n",
        "future"
      ],
      "execution_count": null,
      "outputs": []
    },
    {
      "cell_type": "code",
      "metadata": {
        "id": "ZGDspmB2PvGv"
      },
      "source": [
        "forecast = model.predict(future)\n",
        "forecast[['ds', 'yhat', 'yhat_lower', 'yhat_upper']].head()"
      ],
      "execution_count": null,
      "outputs": []
    },
    {
      "cell_type": "code",
      "metadata": {
        "id": "VVCOozbrPyUg"
      },
      "source": [
        "_ = model.plot(forecast)"
      ],
      "execution_count": null,
      "outputs": []
    },
    {
      "cell_type": "code",
      "metadata": {
        "id": "vF9j4H-vP4P3"
      },
      "source": [
        "_ = model.plot_components(forecast)"
      ],
      "execution_count": null,
      "outputs": []
    },
    {
      "cell_type": "code",
      "metadata": {
        "id": "Ho0lSHYxP7IS"
      },
      "source": [
        "plot_plotly(model, forecast, xlabel='czas', ylabel='ruch webowy')"
      ],
      "execution_count": null,
      "outputs": []
    },
    {
      "cell_type": "code",
      "metadata": {
        "id": "pcGobNlGP80E"
      },
      "source": [],
      "execution_count": null,
      "outputs": []
    }
  ]
}