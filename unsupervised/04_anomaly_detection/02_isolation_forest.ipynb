{
  "nbformat": 4,
  "nbformat_minor": 0,
  "metadata": {
    "colab": {
      "name": "02_isolation_forest.ipynb",
      "provenance": [],
      "include_colab_link": true
    },
    "kernelspec": {
      "name": "python3",
      "display_name": "Python 3"
    }
  },
  "cells": [
    {
      "cell_type": "markdown",
      "metadata": {
        "id": "view-in-github",
        "colab_type": "text"
      },
      "source": [
        "<a href=\"https://colab.research.google.com/github/kurek0010/machine-learing-bootcamp/blob/main/unsupervised/04_anomaly_detection/02_isolation_forest.ipynb\" target=\"_parent\"><img src=\"https://colab.research.google.com/assets/colab-badge.svg\" alt=\"Open In Colab\"/></a>"
      ]
    },
    {
      "cell_type": "markdown",
      "metadata": {
        "id": "C80St0V-_VIi"
      },
      "source": [
        "### scikit-learn\n",
        "Strona biblioteki: [https://scikit-learn.org](https://scikit-learn.org)  \n",
        "\n",
        "Dokumentacja/User Guide: [https://scikit-learn.org/stable/user_guide.html](https://scikit-learn.org/stable/user_guide.html)\n",
        "\n",
        "Podstawowa biblioteka do uczenia maszynowego w języku Python.\n",
        "\n",
        "Aby zainstalować bibliotekę scikit-learn, użyj polecenia poniżej:\n",
        "```\n",
        "!pip install scikit-learn\n",
        "```\n",
        "Aby zaktualizować do najnowszej wersji bibliotekę scikit-learn, użyj polecenia poniżej:\n",
        "```\n",
        "!pip install --upgrade scikit-learn\n",
        "```\n",
        "Kurs stworzony w oparciu o wersję `0.22.1`\n",
        "\n",
        "### Spis treści:\n",
        "1. [Import bibliotek](#0)\n",
        "2. [Wczytanie danych](#1)\n",
        "3. [Wizualizacja danych](#2)\n",
        "4. [Isolation Forset](#3)\n",
        "5. [Isolation Forset - wizualizacja](#4)\n",
        "\n",
        "\n"
      ]
    },
    {
      "cell_type": "markdown",
      "metadata": {
        "id": "dCogYvFX_YD4"
      },
      "source": [
        "### <a name='0'></a> Import bibliotek"
      ]
    },
    {
      "cell_type": "code",
      "metadata": {
        "id": "Kc-h5HePzdCa"
      },
      "source": [
        "import numpy as np\n",
        "import pandas as pd\n",
        "import plotly.express as px\n",
        "import matplotlib.pyplot as plt\n",
        "import seaborn as sns\n",
        "\n",
        "sns.set()"
      ],
      "execution_count": null,
      "outputs": []
    },
    {
      "cell_type": "markdown",
      "metadata": {
        "id": "E3cok2ZMpelq"
      },
      "source": [
        "### <a name='1'></a> Wczytanie danych"
      ]
    },
    {
      "cell_type": "code",
      "metadata": {
        "id": "aS0cZyn2-8QB"
      },
      "source": [
        "data = pd.read_csv('https://storage.googleapis.com/esmartdata-courses-files/ml-course/factory.csv')\n",
        "data.head()"
      ],
      "execution_count": null,
      "outputs": []
    },
    {
      "cell_type": "code",
      "metadata": {
        "id": "rVf7Usc9_B1N"
      },
      "source": [
        "data.describe()"
      ],
      "execution_count": null,
      "outputs": []
    },
    {
      "cell_type": "markdown",
      "metadata": {
        "id": "xrVmptJopk2c"
      },
      "source": [
        "### <a name='2'></a> Wizualizacja danych"
      ]
    },
    {
      "cell_type": "code",
      "metadata": {
        "id": "Ineloum0zraC"
      },
      "source": [
        "px.scatter(data, x='item_length', y='item_width', width=950, template='plotly_dark', title='Isolation Forest')"
      ],
      "execution_count": null,
      "outputs": []
    },
    {
      "cell_type": "markdown",
      "metadata": {
        "id": "5431Yw0Mpp8H"
      },
      "source": [
        "### <a name='3'></a> Isolation Forset"
      ]
    },
    {
      "cell_type": "code",
      "metadata": {
        "id": "V_wrAf6v0W4z"
      },
      "source": [
        "from sklearn.ensemble import IsolationForest\n",
        "\n",
        "# contamination in [0, 0.05]\n",
        "outlier = IsolationForest(n_estimators=100, contamination=0.03)\n",
        "outlier.fit(data)"
      ],
      "execution_count": null,
      "outputs": []
    },
    {
      "cell_type": "code",
      "metadata": {
        "id": "XXoaEgaa0gXd"
      },
      "source": [
        "y_pred = outlier.predict(data)\n",
        "y_pred[:30]"
      ],
      "execution_count": null,
      "outputs": []
    },
    {
      "cell_type": "markdown",
      "metadata": {
        "id": "MmFPGEeIq99L"
      },
      "source": [
        "### <a name='4'></a> Isolation Forset - wizualizacja"
      ]
    },
    {
      "cell_type": "code",
      "metadata": {
        "id": "AqPfHXxz0ik_"
      },
      "source": [
        "data['outlier_flag'] = y_pred\n",
        "px.scatter(data, x='item_length', y='item_width', color='outlier_flag', width=950, template='plotly_dark',\n",
        "           color_continuous_midpoint=-1, title='Isolation Forest')"
      ],
      "execution_count": null,
      "outputs": []
    },
    {
      "cell_type": "code",
      "metadata": {
        "id": "LYBWrcaRqV6i"
      },
      "source": [],
      "execution_count": null,
      "outputs": []
    }
  ]
}