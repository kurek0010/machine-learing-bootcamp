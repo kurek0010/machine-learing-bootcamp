{
  "nbformat": 4,
  "nbformat_minor": 0,
  "metadata": {
    "colab": {
      "name": "01_apriori.ipynb",
      "provenance": [],
      "include_colab_link": true
    },
    "kernelspec": {
      "name": "python3",
      "display_name": "Python 3"
    }
  },
  "cells": [
    {
      "cell_type": "markdown",
      "metadata": {
        "id": "view-in-github",
        "colab_type": "text"
      },
      "source": [
        "<a href=\"https://colab.research.google.com/github/kurek0010/machine-learing-bootcamp/blob/main/unsupervised/03_association_rules/01_apriori.ipynb\" target=\"_parent\"><img src=\"https://colab.research.google.com/assets/colab-badge.svg\" alt=\"Open In Colab\"/></a>"
      ]
    },
    {
      "cell_type": "markdown",
      "metadata": {
        "id": "C80St0V-_VIi"
      },
      "source": [
        "### scikit-learn\n",
        "Strona biblioteki: [https://scikit-learn.org](https://scikit-learn.org)  \n",
        "\n",
        "Dokumentacja/User Guide: [https://scikit-learn.org/stable/user_guide.html](https://scikit-learn.org/stable/user_guide.html)\n",
        "\n",
        "Podstawowa biblioteka do uczenia maszynowego w języku Python.\n",
        "\n",
        "Aby zainstalować bibliotekę scikit-learn, użyj polecenia poniżej:\n",
        "```\n",
        "!pip install scikit-learn\n",
        "```\n",
        "Aby zaktualizować do najnowszej wersji bibliotekę scikit-learn, użyj polecenia poniżej:\n",
        "```\n",
        "!pip install --upgrade scikit-learn\n",
        "```\n",
        "Kurs stworzony w oparciu o wersję `0.22.1`\n",
        "\n",
        "### Spis treści:\n",
        "1. [Import bibliotek](#0)\n",
        "2. [Wygenerowanie danych](#1)\n",
        "3. [Przygotowanie danych](#2)\n",
        "4. [Algorytm Apriori](#3)\n",
        "\n",
        "\n"
      ]
    },
    {
      "cell_type": "markdown",
      "metadata": {
        "id": "dCogYvFX_YD4"
      },
      "source": [
        "### <a name='0'></a> Import bibliotek"
      ]
    },
    {
      "cell_type": "code",
      "metadata": {
        "id": "ellsFMdyLsf9"
      },
      "source": [
        "import pandas as pd\n",
        "import numpy as np"
      ],
      "execution_count": null,
      "outputs": []
    },
    {
      "cell_type": "markdown",
      "metadata": {
        "id": "UNy5CvqdJ42f"
      },
      "source": [
        "### <a name='1'></a> Wygenerowanie danych"
      ]
    },
    {
      "cell_type": "code",
      "metadata": {
        "id": "IU4x2k1_gzad"
      },
      "source": [
        "data = {'produkty': ['chleb jajka mleko', 'mleko ser', 'chleb masło ser', 'chleb jajka']}\n",
        "\n",
        "transactions = pd.DataFrame(data=data, index=[1, 2, 3, 4])\n",
        "transactions"
      ],
      "execution_count": null,
      "outputs": []
    },
    {
      "cell_type": "markdown",
      "metadata": {
        "id": "6G_2sk25J8oV"
      },
      "source": [
        "### <a name='2'></a> Przygotowanie danych"
      ]
    },
    {
      "cell_type": "code",
      "metadata": {
        "id": "Duy4bfJxnayw"
      },
      "source": [
        "# rozwinięcie kolumny do obiektu DataFrame\n",
        "expand = transactions['produkty'].str.split(expand=True)\n",
        "expand"
      ],
      "execution_count": null,
      "outputs": []
    },
    {
      "cell_type": "code",
      "metadata": {
        "id": "fIH5BHwFoyje"
      },
      "source": [
        "# wydobycie nazw wszystkich produktów\n",
        "products = []\n",
        "for col in expand.columns:\n",
        "    for product in expand[col].unique():\n",
        "        if product is not None and product not in products:\n",
        "            products.append(product)\n",
        "\n",
        "products.sort()\n",
        "print(products)"
      ],
      "execution_count": null,
      "outputs": []
    },
    {
      "cell_type": "code",
      "metadata": {
        "id": "vUSDyS41qkZq"
      },
      "source": [
        "transactions_encoded = np.zeros((len(transactions), len(products)), dtype='int8')\n",
        "transactions_encoded"
      ],
      "execution_count": null,
      "outputs": []
    },
    {
      "cell_type": "code",
      "metadata": {
        "id": "U9pv1aNIq7O1"
      },
      "source": [
        "# kodowanie 0-1\n",
        "for row in zip(range(len(transactions)), transactions_encoded, expand.values):\n",
        "    for idx, product in enumerate(products):\n",
        "        if product in row[2]:\n",
        "            transactions_encoded[row[0], idx] = 1\n",
        "\n",
        "transactions_encoded"
      ],
      "execution_count": null,
      "outputs": []
    },
    {
      "cell_type": "code",
      "metadata": {
        "id": "pGagzLz6tmiM"
      },
      "source": [
        "transactions_encoded_df = pd.DataFrame(transactions_encoded, columns=products)\n",
        "transactions_encoded_df"
      ],
      "execution_count": null,
      "outputs": []
    },
    {
      "cell_type": "markdown",
      "metadata": {
        "id": "Spzk6mebKIqZ"
      },
      "source": [
        "### <a name='3'></a> Algorytm Apriori"
      ]
    },
    {
      "cell_type": "code",
      "metadata": {
        "id": "kv6VZ96-Lzws"
      },
      "source": [
        "from mlxtend.frequent_patterns import apriori, association_rules\n",
        "\n",
        "supports = apriori(transactions_encoded_df, min_support=0.1, use_colnames=True)\n",
        "supports"
      ],
      "execution_count": null,
      "outputs": []
    },
    {
      "cell_type": "code",
      "metadata": {
        "id": "nmM-mhS8H7tl"
      },
      "source": [
        "supports = apriori(transactions_encoded_df, min_support=0.3, use_colnames=True)\n",
        "supports"
      ],
      "execution_count": null,
      "outputs": []
    },
    {
      "cell_type": "code",
      "metadata": {
        "id": "uAPM-GcJMEDE"
      },
      "source": [
        "rules = association_rules(supports, metric='confidence', min_threshold=0.65)\n",
        "rules = rules.iloc[:, [0, 1, 4, 5, 6]]\n",
        "rules"
      ],
      "execution_count": null,
      "outputs": []
    },
    {
      "cell_type": "code",
      "metadata": {
        "id": "hD2gVH27Mced"
      },
      "source": [
        "rules.sort_values(by='lift', ascending=False)"
      ],
      "execution_count": null,
      "outputs": []
    },
    {
      "cell_type": "code",
      "metadata": {
        "id": "ReUV5x69OirF"
      },
      "source": [],
      "execution_count": null,
      "outputs": []
    }
  ]
}