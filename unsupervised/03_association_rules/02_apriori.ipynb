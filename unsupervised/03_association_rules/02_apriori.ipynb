{
  "nbformat": 4,
  "nbformat_minor": 0,
  "metadata": {
    "colab": {
      "name": "02_apriori.ipynb",
      "provenance": [],
      "machine_shape": "hm",
      "include_colab_link": true
    },
    "kernelspec": {
      "name": "python3",
      "display_name": "Python 3"
    },
    "accelerator": "GPU"
  },
  "cells": [
    {
      "cell_type": "markdown",
      "metadata": {
        "id": "view-in-github",
        "colab_type": "text"
      },
      "source": [
        "<a href=\"https://colab.research.google.com/github/kurek0010/machine-learing-bootcamp/blob/main/unsupervised/03_association_rules/02_apriori.ipynb\" target=\"_parent\"><img src=\"https://colab.research.google.com/assets/colab-badge.svg\" alt=\"Open In Colab\"/></a>"
      ]
    },
    {
      "cell_type": "markdown",
      "metadata": {
        "id": "C80St0V-_VIi"
      },
      "source": [
        "### scikit-learn\n",
        "Strona biblioteki: [https://scikit-learn.org](https://scikit-learn.org)  \n",
        "\n",
        "Dokumentacja/User Guide: [https://scikit-learn.org/stable/user_guide.html](https://scikit-learn.org/stable/user_guide.html)\n",
        "\n",
        "Podstawowa biblioteka do uczenia maszynowego w języku Python.\n",
        "\n",
        "Aby zainstalować bibliotekę scikit-learn, użyj polecenia poniżej:\n",
        "```\n",
        "!pip install scikit-learn\n",
        "```\n",
        "Aby zaktualizować do najnowszej wersji bibliotekę scikit-learn, użyj polecenia poniżej:\n",
        "```\n",
        "!pip install --upgrade scikit-learn\n",
        "```\n",
        "Kurs stworzony w oparciu o wersję `0.22.1`\n",
        "\n",
        "### Spis treści:\n",
        "1. [Import bibliotek](#0)\n",
        "2. [Załadownaie danych](#1)\n",
        "3. [Przygotowanie danych](#2)\n",
        "4. [Kodowanie transakcji](#3)\n",
        "5. [Algorytm Apriori](#4)\n",
        "\n",
        "\n"
      ]
    },
    {
      "cell_type": "markdown",
      "metadata": {
        "id": "dCogYvFX_YD4"
      },
      "source": [
        "### <a name='0'></a> Import bibliotek"
      ]
    },
    {
      "cell_type": "code",
      "metadata": {
        "id": "h1UzDFRtN3rJ"
      },
      "source": [
        "import pandas as pd\n",
        "\n",
        "pd.set_option('display.float_format', lambda x: f'{x:.2f}')"
      ],
      "execution_count": null,
      "outputs": []
    },
    {
      "cell_type": "markdown",
      "metadata": {
        "id": "Gfy_mLSlSQZj"
      },
      "source": [
        "### <a name='1'></a> Załadownaie danych"
      ]
    },
    {
      "cell_type": "code",
      "metadata": {
        "id": "iMjFzTjHhiOP"
      },
      "source": [
        "!wget https://storage.googleapis.com/esmartdata-courses-files/ml-course/products.csv\n",
        "!wget https://storage.googleapis.com/esmartdata-courses-files/ml-course/orders.csv"
      ],
      "execution_count": null,
      "outputs": []
    },
    {
      "cell_type": "code",
      "metadata": {
        "id": "MeLHR8d-Orh4"
      },
      "source": [
        "products = pd.read_csv('products.csv', usecols=['product_id', 'product_name'])\n",
        "products.head()"
      ],
      "execution_count": null,
      "outputs": []
    },
    {
      "cell_type": "code",
      "metadata": {
        "id": "GjtwaJ8COwLt"
      },
      "source": [
        "orders = pd.read_csv('orders.csv', usecols=['order_id', 'product_id'])\n",
        "orders.head()"
      ],
      "execution_count": null,
      "outputs": []
    },
    {
      "cell_type": "markdown",
      "metadata": {
        "id": "BU5EtQt9Sai_"
      },
      "source": [
        "### <a name='2'></a> Przygotowanie danych"
      ]
    },
    {
      "cell_type": "code",
      "metadata": {
        "id": "QuhRw60QPJxp"
      },
      "source": [
        "data = pd.merge(orders, products, how='inner', on='product_id', sort=True)\n",
        "data = data.sort_values(by='order_id')\n",
        "data.head()"
      ],
      "execution_count": null,
      "outputs": []
    },
    {
      "cell_type": "code",
      "metadata": {
        "id": "DCdXwfd4PmPE"
      },
      "source": [
        "data.describe()"
      ],
      "execution_count": null,
      "outputs": []
    },
    {
      "cell_type": "code",
      "metadata": {
        "id": "BwozcaSZR41L"
      },
      "source": [
        "# rozkład produktów\n",
        "data['product_name'].value_counts()"
      ],
      "execution_count": null,
      "outputs": []
    },
    {
      "cell_type": "code",
      "metadata": {
        "id": "k_VXYgJ_S-Ox"
      },
      "source": [
        "# liczba transakcji\n",
        "data['order_id'].nunique()"
      ],
      "execution_count": null,
      "outputs": []
    },
    {
      "cell_type": "code",
      "metadata": {
        "id": "MoqM_XDBTg4g"
      },
      "source": [
        "transactions = data.groupby(by='order_id')['product_name'].apply(lambda name: ','.join(name))\n",
        "transactions"
      ],
      "execution_count": null,
      "outputs": []
    },
    {
      "cell_type": "code",
      "metadata": {
        "id": "w7OSUdo4UDDC"
      },
      "source": [
        "transactions = transactions.str.split(',')\n",
        "transactions"
      ],
      "execution_count": null,
      "outputs": []
    },
    {
      "cell_type": "markdown",
      "metadata": {
        "id": "6z-LfUIPShPp"
      },
      "source": [
        "### <a name='3'></a> Kodowanie transakcji"
      ]
    },
    {
      "cell_type": "code",
      "metadata": {
        "id": "Cy9FhFYUXLlz"
      },
      "source": [
        "from mlxtend.preprocessing import TransactionEncoder\n",
        "\n",
        "encoder = TransactionEncoder()\n",
        "encoder.fit(transactions)\n",
        "transactions_encoded = encoder.transform(transactions, sparse=True)\n",
        "transactions_encoded"
      ],
      "execution_count": null,
      "outputs": []
    },
    {
      "cell_type": "code",
      "metadata": {
        "id": "z9uIysohYm7S"
      },
      "source": [
        "transactions_encoded_df = pd.DataFrame(transactions_encoded.toarray(), columns=encoder.columns_)\n",
        "transactions_encoded_df"
      ],
      "execution_count": null,
      "outputs": []
    },
    {
      "cell_type": "markdown",
      "metadata": {
        "id": "fC3HKl0GSsV4"
      },
      "source": [
        "### <a name='4'></a> Algorytm Apriori"
      ]
    },
    {
      "cell_type": "code",
      "metadata": {
        "id": "Yw3mMi8JX0gL"
      },
      "source": [
        "from mlxtend.frequent_patterns import apriori, association_rules\n",
        "\n",
        "supports = apriori(transactions_encoded_df, min_support=0.01, use_colnames=True)\n",
        "supports = supports.sort_values(by='support', ascending=False)\n",
        "supports.head(10)"
      ],
      "execution_count": null,
      "outputs": []
    },
    {
      "cell_type": "code",
      "metadata": {
        "id": "w9YR0_x-YeFo"
      },
      "source": [
        "rules = association_rules(supports, metric='confidence', min_threshold=0)\n",
        "rules = rules.iloc[:, [0, 1, 4, 5, 6]]\n",
        "rules = rules.sort_values(by='lift', ascending=False)\n",
        "rules.head(15)"
      ],
      "execution_count": null,
      "outputs": []
    },
    {
      "cell_type": "code",
      "metadata": {
        "id": "bni0nMj7fHF1"
      },
      "source": [],
      "execution_count": null,
      "outputs": []
    }
  ]
}